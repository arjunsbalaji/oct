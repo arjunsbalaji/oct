{
 "cells": [
  {
   "cell_type": "code",
   "execution_count": 1,
   "metadata": {},
   "outputs": [],
   "source": [
    "# default_exp capsAnalaysis"
   ]
  },
  {
   "cell_type": "code",
   "execution_count": 2,
   "metadata": {},
   "outputs": [],
   "source": [
    "import sys"
   ]
  },
  {
   "cell_type": "code",
   "execution_count": null,
   "metadata": {},
   "outputs": [],
   "source": [
    "sys.path.append('/workspace/oct_ca_seg/oct/')"
   ]
  },
  {
   "cell_type": "code",
   "execution_count": 4,
   "metadata": {},
   "outputs": [],
   "source": [
    "from oct.startup import *\n",
    "from model import CapsNet\n",
    "import numpy as np\n",
    "import mlflow\n",
    "from fastai.vision import *\n",
    "import mlflow.pytorch as MLPY\n",
    "from fastai.utils.mem import gpu_mem_get_all"
   ]
  },
  {
   "cell_type": "code",
   "execution_count": 5,
   "metadata": {},
   "outputs": [
    {
     "data": {
      "text/plain": [
       "[GPUMemory(total=16280, free=16270, used=10)]"
      ]
     },
     "execution_count": 5,
     "metadata": {},
     "output_type": "execute_result"
    }
   ],
   "source": [
    "gpu_mem_get_all()"
   ]
  },
  {
   "cell_type": "code",
   "execution_count": 6,
   "metadata": {},
   "outputs": [],
   "source": [
    "cocodata_path = Path('/workspace/oct_ca_seg/COCOdata/')\n",
    "train_path = cocodata_path/'train/images'\n",
    "valid_path = cocodata_path/'valid/images'\n",
    "test_path = cocodata_path/'test/images'"
   ]
  },
  {
   "cell_type": "code",
   "execution_count": 7,
   "metadata": {},
   "outputs": [],
   "source": [
    "metrics = [sens, spec, dice, my_Dice_Loss, acc]"
   ]
  },
  {
   "cell_type": "code",
   "execution_count": 8,
   "metadata": {},
   "outputs": [],
   "source": [
    "runsave_dir = Path('/workspace/oct_ca_seg/runsaves/')"
   ]
  },
  {
   "cell_type": "code",
   "execution_count": 9,
   "metadata": {},
   "outputs": [],
   "source": [
    "run_name = 'DEEPCAP_0001_30_learnersaved'"
   ]
  },
  {
   "cell_type": "code",
   "execution_count": 10,
   "metadata": {},
   "outputs": [],
   "source": [
    "run_name = 'DEEPCAP_0001_30_small_learnersaved'"
   ]
  },
  {
   "cell_type": "code",
   "execution_count": 11,
   "metadata": {},
   "outputs": [],
   "source": [
    "run_dir = runsave_dir/run_name"
   ]
  },
  {
   "cell_type": "code",
   "execution_count": 12,
   "metadata": {},
   "outputs": [],
   "source": [
    "cfg_file = 'configCAPS_APPresnet18_bs16_epochs15_lr0.001.json'"
   ]
  },
  {
   "cell_type": "code",
   "execution_count": 13,
   "metadata": {},
   "outputs": [],
   "source": [
    "cfg_file = 'configCAPS_small_bs24_epochs30_lr0.001.json'"
   ]
  },
  {
   "cell_type": "code",
   "execution_count": 14,
   "metadata": {},
   "outputs": [],
   "source": [
    "def loadConfigRun(run_dir, name):\n",
    "    with open(run_dir/name, 'r') as file:\n",
    "        return json.load(file)"
   ]
  },
  {
   "cell_type": "code",
   "execution_count": 15,
   "metadata": {},
   "outputs": [],
   "source": [
    "cfg_dict = loadConfigRun(run_dir, cfg_file)"
   ]
  },
  {
   "cell_type": "code",
   "execution_count": 16,
   "metadata": {},
   "outputs": [],
   "source": [
    "config = DeepConfig(cfg_dict)"
   ]
  },
  {
   "cell_type": "markdown",
   "metadata": {
    "collapsed": "true"
   },
   "source": [
    "## Train, Valid"
   ]
  },
  {
   "cell_type": "code",
   "execution_count": 17,
   "metadata": {},
   "outputs": [],
   "source": [
    "fn_get_y = lambda image_name: Path(image_name).parent.parent/('labels/'+Path(image_name).name)\n",
    "codes = np.loadtxt(cocodata_path/'codes.txt', dtype=str)\n",
    "tfms = get_transforms()\n",
    "src = (SegCustomItemList\n",
    "       .from_folder(cocodata_path, recurse=True, extensions='.jpg')\n",
    "       .filter_by_func(lambda fname: Path(fname).parent.name == 'images', )\n",
    "       .split_by_folder('train', 'valid')\n",
    "       .label_from_func(fn_get_y, classes=codes))\n",
    "src.transform(tfms, tfm_y=True, size=config.LEARNER.img_size)\n",
    "data = src.databunch(cocodata_path,\n",
    "                     bs=config.LEARNER.bs,\n",
    "                     val_bs=2*config.LEARNER.bs,\n",
    "                     num_workers = config.LEARNER.num_workers)\n",
    "stats = [torch.tensor([0.2190, 0.1984, 0.1928]), torch.tensor([0.0645, 0.0473, 0.0434])]\n",
    "data.normalize(stats);\n",
    "data.c_in, data.c_out = 3, 2"
   ]
  },
  {
   "cell_type": "markdown",
   "metadata": {},
   "source": [
    "## Test"
   ]
  },
  {
   "cell_type": "code",
   "execution_count": 35,
   "metadata": {},
   "outputs": [
    {
     "name": "stderr",
     "output_type": "stream",
     "text": [
      "/opt/conda/lib/python3.7/site-packages/fastai/data_block.py:458: UserWarning: Your training set is empty. If this is by design, pass `ignore_empty=True` to remove this warning.\n",
      "  warn(\"Your training set is empty. If this is by design, pass `ignore_empty=True` to remove this warning.\")\n"
     ]
    }
   ],
   "source": [
    "fn_get_y = lambda image_name: Path(image_name).parent.parent/('labels/'+Path(image_name).name)\n",
    "codes = np.loadtxt(cocodata_path/'codes.txt', dtype=str)\n",
    "tfms = get_transforms()\n",
    "src = (SegCustomItemList\n",
    "       .from_folder(test_path, recurse=True, extensions='.jpg')\n",
    "       .filter_by_func(lambda fname: Path(fname).parent.name == 'images', )\n",
    "       .split_by_rand_pct(1.0)\n",
    "       .label_from_func(fn_get_y, classes=codes))\n",
    "src.transform(tfms, tfm_y=True, size =config.LEARNER.img_size)\n",
    "data = src.databunch(test_path,\n",
    "                     bs=config.LEARNER.bs,\n",
    "                     val_bs=2*config.LEARNER.bs,\n",
    "                     num_workers = config.LEARNER.num_workers)\n",
    "stats = [torch.tensor([0.2190, 0.1984, 0.1928]), torch.tensor([0.0645, 0.0473, 0.0434])]\n",
    "data.normalize(stats);\n",
    "data.c_in, data.c_out = 3, 2"
   ]
  },
  {
   "cell_type": "code",
   "execution_count": 36,
   "metadata": {},
   "outputs": [],
   "source": [
    "deepCap = CapsNet(config.MODEL).cuda()\n",
    "learn = Learner(data = data,\n",
    "                  model = deepCap,\n",
    "                  metrics = metrics)"
   ]
  },
  {
   "cell_type": "code",
   "execution_count": 37,
   "metadata": {},
   "outputs": [],
   "source": [
    "learn = learn.load(run_dir/'learner')"
   ]
  },
  {
   "cell_type": "code",
   "execution_count": 39,
   "metadata": {},
   "outputs": [],
   "source": [
    "class Analysis():\n",
    "    def __init__(self, learner:Learner, run_dir:Path):\n",
    "        self.learner = learner\n",
    "        self.run_dir = run_dir\n",
    "        self.metrics = pd.read_json(self.run_dir/'metrics.json')\n",
    "        self.trainL =  pd.read_json(self.run_dir/'trainL.json')\n",
    "        self.validL =  pd.read_json(self.run_dir/'validL.json')\n",
    "    \n",
    "    def remove0FromMetric(self, metric):\n",
    "        zero_dict = {k:v for (k,v) in self.results[metric].items() if v==0}\n",
    "        zero_dict = {k: v for k, v in sorted(zero_dict.items(), key=lambda item: item[1])}\n",
    "        new_dict = {k:v for (k,v) in self.results[metric].items() if v!=0}\n",
    "        new_dict = {k: v for k, v in sorted(new_dict.items(), key=lambda item: item[1])}\n",
    "        print('there were ', len(zero_dict.keys()), 'zeros in the ', metric,' list.')\n",
    "        return zero_dict, new_dict\n",
    "    \n",
    "    def histPlotMetric(self, metric, save=False):\n",
    "        #metric = one of 'dices', 'sens', 'specs', 'accs' \n",
    "        zeros, actual = self.remove0FromMetric(metric)\n",
    "        l_actual = list(actual.values())\n",
    "        l_actual = [x for x in l_actual if x==x] # get rid of nans\n",
    "        mean, std, median, max, min = np.mean(l_actual), np.std(l_actual), np.median(l_actual), np.max(l_actual), np.min(l_actual)\n",
    "        print(mean, std, median, max, min)\n",
    "        plt.hist(l_actual)\n",
    "        if save: plt.savefig(self.checkpoint_path/(metric+'.png'))\n",
    "        #return l_actual\n",
    "    \n",
    "    def showPrediction(self, id):\n",
    "        d = validCOCO.imgs[id]\n",
    "        im = cv2.imread(d[\"file_name\"])\n",
    "        print(id, Path(d[\"file_name\"]).name)\n",
    "\n",
    "        outputs = predictor(im)\n",
    "        v = Visualizer(im[:, :, ::-1],\n",
    "                       metadata=valid_metadata, \n",
    "                       scale=0.8, \n",
    "                       instance_mode=ColorMode.IMAGE_BW   # remove the colors of unsegmented pixels\n",
    "                      )\n",
    "\n",
    "        v = v.draw_instance_predictions(outputs[\"instances\"].to(\"cpu\"))\n",
    "        fig, (ax1, ax2) = plt.subplots(1,2)\n",
    "        image_plot = ax1.imshow(v.get_image()[:, :, ::-1])\n",
    "        \n",
    "        label_full = annsToSingleBinMask(validCOCO, d['image_id']) \n",
    "        dice_loss = lossdice(self.processOutputsToMask(outputs).cpu(), torch.tensor(label_full)).item()\n",
    "        label_plot = ax2.imshow(label_full)\n",
    "        print(dice_loss)"
   ]
  },
  {
   "cell_type": "code",
   "execution_count": 21,
   "metadata": {},
   "outputs": [],
   "source": [
    "preds = learn.model(data.one_batch(ds_type=DatasetType.Valid)[0].cuda()).detach().cpu()"
   ]
  },
  {
   "cell_type": "code",
   "execution_count": 41,
   "metadata": {},
   "outputs": [],
   "source": [
    "CapsAnalysis = Analysis(learn, run_dir)"
   ]
  },
  {
   "cell_type": "code",
   "execution_count": 48,
   "metadata": {},
   "outputs": [
    {
     "data": {
      "text/plain": [
       "<matplotlib.axes._subplots.AxesSubplot at 0x2b7e7b723bd0>"
      ]
     },
     "execution_count": 48,
     "metadata": {},
     "output_type": "execute_result"
    },
    {
     "data": {
      "image/png": "[encoded data removed]",
      "text/plain": [
       "<Figure size 432x288 with 1 Axes>"
      ]
     },
     "metadata": {
      "needs_background": "light"
     },
     "output_type": "display_data"
    }
   ],
   "source": [
    "CapsAnalysis.trainL.sort_index().plot.line()"
   ]
  },
  {
   "cell_type": "code",
   "execution_count": 49,
   "metadata": {},
   "outputs": [
    {
     "data": {
      "text/plain": [
       "<matplotlib.axes._subplots.AxesSubplot at 0x2b7e7bb2a490>"
      ]
     },
     "execution_count": 49,
     "metadata": {},
     "output_type": "execute_result"
    },
    {
     "data": {
      "image/png": "[encoded data removed]",
      "text/plain": [
       "<Figure size 432x288 with 1 Axes>"
      ]
     },
     "metadata": {
      "needs_background": "light"
     },
     "output_type": "display_data"
    }
   ],
   "source": [
    "CapsAnalysis.metrics['dice'].sort_index().plot.line()"
   ]
  },
  {
   "cell_type": "code",
   "execution_count": 50,
   "metadata": {},
   "outputs": [
    {
     "data": {
      "text/html": [
       "<div>\n",
       "<style scoped>\n",
       "    .dataframe tbody tr th:only-of-type {\n",
       "        vertical-align: middle;\n",
       "    }\n",
       "\n",
       "    .dataframe tbody tr th {\n",
       "        vertical-align: top;\n",
       "    }\n",
       "\n",
       "    .dataframe thead th {\n",
       "        text-align: right;\n",
       "    }\n",
       "</style>\n",
       "<table border=\"1\" class=\"dataframe\">\n",
       "  <thead>\n",
       "    <tr style=\"text-align: right;\">\n",
       "      <th></th>\n",
       "      <th>sens</th>\n",
       "      <th>spec</th>\n",
       "      <th>dice</th>\n",
       "      <th>my_Dice_Loss</th>\n",
       "      <th>acc</th>\n",
       "    </tr>\n",
       "  </thead>\n",
       "  <tbody>\n",
       "    <tr>\n",
       "      <th>0</th>\n",
       "      <td>0.000000</td>\n",
       "      <td>0.928463</td>\n",
       "      <td>0.000000</td>\n",
       "      <td>-5.582088</td>\n",
       "      <td>1.000000</td>\n",
       "    </tr>\n",
       "    <tr>\n",
       "      <th>1</th>\n",
       "      <td>0.000000</td>\n",
       "      <td>0.928463</td>\n",
       "      <td>0.000000</td>\n",
       "      <td>-5.537665</td>\n",
       "      <td>1.000000</td>\n",
       "    </tr>\n",
       "    <tr>\n",
       "      <th>2</th>\n",
       "      <td>0.000000</td>\n",
       "      <td>0.928463</td>\n",
       "      <td>0.000000</td>\n",
       "      <td>-5.521869</td>\n",
       "      <td>1.000000</td>\n",
       "    </tr>\n",
       "    <tr>\n",
       "      <th>3</th>\n",
       "      <td>0.092247</td>\n",
       "      <td>0.932010</td>\n",
       "      <td>0.159033</td>\n",
       "      <td>-5.558878</td>\n",
       "      <td>0.992333</td>\n",
       "    </tr>\n",
       "    <tr>\n",
       "      <th>4</th>\n",
       "      <td>0.242132</td>\n",
       "      <td>0.938919</td>\n",
       "      <td>0.359216</td>\n",
       "      <td>-5.547150</td>\n",
       "      <td>0.979816</td>\n",
       "    </tr>\n",
       "    <tr>\n",
       "      <th>5</th>\n",
       "      <td>0.284014</td>\n",
       "      <td>0.941171</td>\n",
       "      <td>0.418898</td>\n",
       "      <td>-5.447727</td>\n",
       "      <td>0.976057</td>\n",
       "    </tr>\n",
       "    <tr>\n",
       "      <th>6</th>\n",
       "      <td>0.548313</td>\n",
       "      <td>0.957801</td>\n",
       "      <td>0.684768</td>\n",
       "      <td>-5.537014</td>\n",
       "      <td>0.947145</td>\n",
       "    </tr>\n",
       "    <tr>\n",
       "      <th>7</th>\n",
       "      <td>0.760910</td>\n",
       "      <td>0.975411</td>\n",
       "      <td>0.855976</td>\n",
       "      <td>-5.474864</td>\n",
       "      <td>0.910860</td>\n",
       "    </tr>\n",
       "    <tr>\n",
       "      <th>8</th>\n",
       "      <td>0.858562</td>\n",
       "      <td>0.988943</td>\n",
       "      <td>0.919681</td>\n",
       "      <td>-5.473466</td>\n",
       "      <td>0.927059</td>\n",
       "    </tr>\n",
       "    <tr>\n",
       "      <th>9</th>\n",
       "      <td>0.874810</td>\n",
       "      <td>0.990561</td>\n",
       "      <td>0.928796</td>\n",
       "      <td>-5.470170</td>\n",
       "      <td>0.932343</td>\n",
       "    </tr>\n",
       "    <tr>\n",
       "      <th>10</th>\n",
       "      <td>0.910599</td>\n",
       "      <td>0.992987</td>\n",
       "      <td>0.951320</td>\n",
       "      <td>-5.478464</td>\n",
       "      <td>0.928578</td>\n",
       "    </tr>\n",
       "    <tr>\n",
       "      <th>11</th>\n",
       "      <td>0.908651</td>\n",
       "      <td>0.992878</td>\n",
       "      <td>0.949372</td>\n",
       "      <td>-5.397562</td>\n",
       "      <td>0.928408</td>\n",
       "    </tr>\n",
       "    <tr>\n",
       "      <th>12</th>\n",
       "      <td>0.914497</td>\n",
       "      <td>0.993276</td>\n",
       "      <td>0.953302</td>\n",
       "      <td>-5.344103</td>\n",
       "      <td>0.927240</td>\n",
       "    </tr>\n",
       "    <tr>\n",
       "      <th>13</th>\n",
       "      <td>0.908413</td>\n",
       "      <td>0.993086</td>\n",
       "      <td>0.948726</td>\n",
       "      <td>-5.376246</td>\n",
       "      <td>0.930022</td>\n",
       "    </tr>\n",
       "    <tr>\n",
       "      <th>14</th>\n",
       "      <td>0.909663</td>\n",
       "      <td>0.993211</td>\n",
       "      <td>0.948995</td>\n",
       "      <td>-5.345347</td>\n",
       "      <td>0.931189</td>\n",
       "    </tr>\n",
       "    <tr>\n",
       "      <th>15</th>\n",
       "      <td>0.912422</td>\n",
       "      <td>0.993221</td>\n",
       "      <td>0.951228</td>\n",
       "      <td>-5.403088</td>\n",
       "      <td>0.929727</td>\n",
       "    </tr>\n",
       "    <tr>\n",
       "      <th>16</th>\n",
       "      <td>0.920238</td>\n",
       "      <td>0.993750</td>\n",
       "      <td>0.956869</td>\n",
       "      <td>-5.429317</td>\n",
       "      <td>0.930537</td>\n",
       "    </tr>\n",
       "    <tr>\n",
       "      <th>17</th>\n",
       "      <td>0.933722</td>\n",
       "      <td>0.994725</td>\n",
       "      <td>0.964763</td>\n",
       "      <td>-5.405826</td>\n",
       "      <td>0.928325</td>\n",
       "    </tr>\n",
       "    <tr>\n",
       "      <th>18</th>\n",
       "      <td>0.933801</td>\n",
       "      <td>0.994833</td>\n",
       "      <td>0.964858</td>\n",
       "      <td>-5.389425</td>\n",
       "      <td>0.930129</td>\n",
       "    </tr>\n",
       "    <tr>\n",
       "      <th>19</th>\n",
       "      <td>0.933954</td>\n",
       "      <td>0.994874</td>\n",
       "      <td>0.964966</td>\n",
       "      <td>-5.399148</td>\n",
       "      <td>0.929933</td>\n",
       "    </tr>\n",
       "    <tr>\n",
       "      <th>20</th>\n",
       "      <td>0.924610</td>\n",
       "      <td>0.994181</td>\n",
       "      <td>0.956413</td>\n",
       "      <td>-5.376809</td>\n",
       "      <td>0.930095</td>\n",
       "    </tr>\n",
       "    <tr>\n",
       "      <th>21</th>\n",
       "      <td>0.929992</td>\n",
       "      <td>0.994630</td>\n",
       "      <td>0.960311</td>\n",
       "      <td>-5.418970</td>\n",
       "      <td>0.929706</td>\n",
       "    </tr>\n",
       "    <tr>\n",
       "      <th>22</th>\n",
       "      <td>0.936819</td>\n",
       "      <td>0.995153</td>\n",
       "      <td>0.966692</td>\n",
       "      <td>-5.378396</td>\n",
       "      <td>0.930544</td>\n",
       "    </tr>\n",
       "    <tr>\n",
       "      <th>23</th>\n",
       "      <td>0.938062</td>\n",
       "      <td>0.995141</td>\n",
       "      <td>0.966525</td>\n",
       "      <td>-5.515144</td>\n",
       "      <td>0.929524</td>\n",
       "    </tr>\n",
       "    <tr>\n",
       "      <th>24</th>\n",
       "      <td>0.942108</td>\n",
       "      <td>0.995386</td>\n",
       "      <td>0.969508</td>\n",
       "      <td>-5.426416</td>\n",
       "      <td>0.929200</td>\n",
       "    </tr>\n",
       "    <tr>\n",
       "      <th>25</th>\n",
       "      <td>0.944049</td>\n",
       "      <td>0.995686</td>\n",
       "      <td>0.970675</td>\n",
       "      <td>-5.381826</td>\n",
       "      <td>0.929853</td>\n",
       "    </tr>\n",
       "    <tr>\n",
       "      <th>26</th>\n",
       "      <td>0.939433</td>\n",
       "      <td>0.995422</td>\n",
       "      <td>0.968230</td>\n",
       "      <td>-5.360559</td>\n",
       "      <td>0.930680</td>\n",
       "    </tr>\n",
       "    <tr>\n",
       "      <th>27</th>\n",
       "      <td>0.943736</td>\n",
       "      <td>0.995683</td>\n",
       "      <td>0.970562</td>\n",
       "      <td>-5.351699</td>\n",
       "      <td>0.929959</td>\n",
       "    </tr>\n",
       "    <tr>\n",
       "      <th>28</th>\n",
       "      <td>0.946168</td>\n",
       "      <td>0.995917</td>\n",
       "      <td>0.971931</td>\n",
       "      <td>-5.369244</td>\n",
       "      <td>0.930056</td>\n",
       "    </tr>\n",
       "    <tr>\n",
       "      <th>29</th>\n",
       "      <td>0.946698</td>\n",
       "      <td>0.995950</td>\n",
       "      <td>0.972243</td>\n",
       "      <td>-5.362704</td>\n",
       "      <td>0.930016</td>\n",
       "    </tr>\n",
       "  </tbody>\n",
       "</table>\n",
       "</div>"
      ],
      "text/plain": [
       "        sens      spec      dice  my_Dice_Loss       acc\n",
       "0   0.000000  0.928463  0.000000     -5.582088  1.000000\n",
       "1   0.000000  0.928463  0.000000     -5.537665  1.000000\n",
       "2   0.000000  0.928463  0.000000     -5.521869  1.000000\n",
       "3   0.092247  0.932010  0.159033     -5.558878  0.992333\n",
       "4   0.242132  0.938919  0.359216     -5.547150  0.979816\n",
       "5   0.284014  0.941171  0.418898     -5.447727  0.976057\n",
       "6   0.548313  0.957801  0.684768     -5.537014  0.947145\n",
       "7   0.760910  0.975411  0.855976     -5.474864  0.910860\n",
       "8   0.858562  0.988943  0.919681     -5.473466  0.927059\n",
       "9   0.874810  0.990561  0.928796     -5.470170  0.932343\n",
       "10  0.910599  0.992987  0.951320     -5.478464  0.928578\n",
       "11  0.908651  0.992878  0.949372     -5.397562  0.928408\n",
       "12  0.914497  0.993276  0.953302     -5.344103  0.927240\n",
       "13  0.908413  0.993086  0.948726     -5.376246  0.930022\n",
       "14  0.909663  0.993211  0.948995     -5.345347  0.931189\n",
       "15  0.912422  0.993221  0.951228     -5.403088  0.929727\n",
       "16  0.920238  0.993750  0.956869     -5.429317  0.930537\n",
       "17  0.933722  0.994725  0.964763     -5.405826  0.928325\n",
       "18  0.933801  0.994833  0.964858     -5.389425  0.930129\n",
       "19  0.933954  0.994874  0.964966     -5.399148  0.929933\n",
       "20  0.924610  0.994181  0.956413     -5.376809  0.930095\n",
       "21  0.929992  0.994630  0.960311     -5.418970  0.929706\n",
       "22  0.936819  0.995153  0.966692     -5.378396  0.930544\n",
       "23  0.938062  0.995141  0.966525     -5.515144  0.929524\n",
       "24  0.942108  0.995386  0.969508     -5.426416  0.929200\n",
       "25  0.944049  0.995686  0.970675     -5.381826  0.929853\n",
       "26  0.939433  0.995422  0.968230     -5.360559  0.930680\n",
       "27  0.943736  0.995683  0.970562     -5.351699  0.929959\n",
       "28  0.946168  0.995917  0.971931     -5.369244  0.930056\n",
       "29  0.946698  0.995950  0.972243     -5.362704  0.930016"
      ]
     },
     "execution_count": 50,
     "metadata": {},
     "output_type": "execute_result"
    }
   ],
   "source": [
    "CapsAnalysis.metrics"
   ]
  },
  {
   "cell_type": "code",
   "execution_count": null,
   "metadata": {},
   "outputs": [],
   "source": []
  },
  {
   "cell_type": "code",
   "execution_count": null,
   "metadata": {},
   "outputs": [],
   "source": []
  },
  {
   "cell_type": "code",
   "execution_count": null,
   "metadata": {},
   "outputs": [],
   "source": []
  },
  {
   "cell_type": "code",
   "execution_count": 115,
   "metadata": {},
   "outputs": [],
   "source": [
    "def freeze_to(learn, n): # freeze model up to layer n\n",
    "    for i, param in enumerate(learn.model.parameters()):\n",
    "        if i<n: param.requires_grad=False"
   ]
  },
  {
   "cell_type": "code",
   "execution_count": 123,
   "metadata": {},
   "outputs": [],
   "source": [
    "learn.unfreeze()"
   ]
  },
  {
   "cell_type": "code",
   "execution_count": 124,
   "metadata": {},
   "outputs": [],
   "source": [
    "freeze_to(learn, 60)"
   ]
  },
  {
   "cell_type": "code",
   "execution_count": null,
   "metadata": {},
   "outputs": [],
   "source": [
    "for i, param in enumerate(learn.model.parameters()):\n",
    "    print(i,param.requires_grad)"
   ]
  },
  {
   "cell_type": "code",
   "execution_count": 126,
   "metadata": {},
   "outputs": [],
   "source": [
    "learn.opt.clear()"
   ]
  },
  {
   "cell_type": "code",
   "execution_count": null,
   "metadata": {},
   "outputs": [],
   "source": [
    "learner.fit_one_cycle(2, max_lr=slice(0.00001), wd=0.01, pct_start=0.3)"
   ]
  },
  {
   "cell_type": "code",
   "execution_count": null,
   "metadata": {},
   "outputs": [],
   "source": []
  }
 ],
 "metadata": {
  "kernelspec": {
   "display_name": "Python 3",
   "language": "python",
   "name": "python3"
  },
  "language_info": {
   "codemirror_mode": {
    "name": "ipython",
    "version": 3
   },
   "file_extension": ".py",
   "mimetype": "text/x-python",
   "name": "python",
   "nbconvert_exporter": "python",
   "pygments_lexer": "ipython3",
   "version": "3.7.7"
  }
 },
 "nbformat": 4,
 "nbformat_minor": 4
}

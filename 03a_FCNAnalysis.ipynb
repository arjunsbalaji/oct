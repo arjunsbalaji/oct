{
 "cells": [
  {
   "cell_type": "code",
   "execution_count": 1,
   "metadata": {},
   "outputs": [],
   "source": [
    "# default_exp capsAnalaysis"
   ]
  },
  {
   "cell_type": "code",
   "execution_count": 2,
   "metadata": {},
   "outputs": [],
   "source": [
    "import sys"
   ]
  },
  {
   "cell_type": "code",
   "execution_count": 3,
   "metadata": {},
   "outputs": [],
   "source": [
    "sys.path.append('/workspace/oct_ca_seg/oct/')"
   ]
  },
  {
   "cell_type": "code",
   "execution_count": 4,
   "metadata": {},
   "outputs": [],
   "source": [
    "from oct.startup import *\n",
    "from model import CapsNet\n",
    "import numpy as np\n",
    "import mlflow\n",
    "from fastai.vision import *\n",
    "import mlflow.pytorch as MLPY\n",
    "from fastai.utils.mem import gpu_mem_get_all\n",
    "from skimage import filters"
   ]
  },
  {
   "cell_type": "code",
   "execution_count": 5,
   "metadata": {},
   "outputs": [
    {
     "data": {
      "text/plain": [
       "[GPUMemory(total=16280, free=16270, used=10),\n",
       " GPUMemory(total=16280, free=16270, used=10),\n",
       " GPUMemory(total=16280, free=16270, used=10),\n",
       " GPUMemory(total=16280, free=16270, used=10)]"
      ]
     },
     "execution_count": 5,
     "metadata": {},
     "output_type": "execute_result"
    }
   ],
   "source": [
    "gpu_mem_get_all()"
   ]
  },
  {
   "cell_type": "code",
   "execution_count": 6,
   "metadata": {},
   "outputs": [],
   "source": [
    "cocodata_path = Path('/workspace/oct_ca_seg/COCOdata/')\n",
    "train_path = cocodata_path/'train/images'\n",
    "valid_path = cocodata_path/'valid/images'\n",
    "test_path = cocodata_path/'test/images'"
   ]
  },
  {
   "cell_type": "code",
   "execution_count": 7,
   "metadata": {},
   "outputs": [],
   "source": [
    "metrics = [sens, spec, dice, my_Dice_Loss, acc]"
   ]
  },
  {
   "cell_type": "code",
   "execution_count": 8,
   "metadata": {},
   "outputs": [],
   "source": [
    "runsave_dir = Path('/workspace/oct_ca_seg/runsaves/')"
   ]
  },
  {
   "cell_type": "code",
   "execution_count": 9,
   "metadata": {},
   "outputs": [],
   "source": [
    "run_name = 'UNET_0001_30_' \n",
    "cfg_file = 'configUNET_APPresnet18_bs16_epochs15_lr0.001.json'"
   ]
  },
  {
   "cell_type": "code",
   "execution_count": 10,
   "metadata": {},
   "outputs": [],
   "source": [
    "run_name = 'UNET_0001_30_final' \n",
    "cfg_file = 'configUNET_APPresnet18_bs16_epochs15_lr0.001.json'"
   ]
  },
  {
   "cell_type": "code",
   "execution_count": 11,
   "metadata": {},
   "outputs": [],
   "source": [
    "run_dir = runsave_dir/run_name"
   ]
  },
  {
   "cell_type": "code",
   "execution_count": 12,
   "metadata": {},
   "outputs": [],
   "source": [
    "def loadConfigRun(run_dir, name):\n",
    "    with open(run_dir/name, 'r') as file:\n",
    "        return json.load(file)"
   ]
  },
  {
   "cell_type": "code",
   "execution_count": 13,
   "metadata": {},
   "outputs": [],
   "source": [
    "cfg_dict = loadConfigRun(run_dir, cfg_file)"
   ]
  },
  {
   "cell_type": "code",
   "execution_count": 14,
   "metadata": {},
   "outputs": [],
   "source": [
    "config = DeepConfig(cfg_dict)"
   ]
  },
  {
   "cell_type": "markdown",
   "metadata": {
    "collapsed": "true"
   },
   "source": [
    "## Train, Valid"
   ]
  },
  {
   "cell_type": "code",
   "execution_count": 64,
   "metadata": {},
   "outputs": [],
   "source": [
    "fn_get_y = lambda image_name: Path(image_name).parent.parent/('labels/'+Path(image_name).name)\n",
    "codes = np.loadtxt(cocodata_path/'codes.txt', dtype=str)\n",
    "tfms = get_transforms()\n",
    "src = (SegCustomItemList\n",
    "       .from_folder(cocodata_path, recurse=True, extensions='.jpg')\n",
    "       .filter_by_func(lambda fname: Path(fname).parent.name == 'images', )\n",
    "       .split_by_folder('train', 'valid')\n",
    "       .label_from_func(fn_get_y, classes=codes))\n",
    "src.transform(tfms, tfm_y=True, size=config.LEARNER.img_size)\n",
    "data = src.databunch(cocodata_path,\n",
    "                     bs=config.LEARNER.bs,\n",
    "                     val_bs=2*config.LEARNER.bs,\n",
    "                     num_workers = config.LEARNER.num_workers)\n",
    "stats = [torch.tensor([0.2190, 0.1984, 0.1928]), torch.tensor([0.0645, 0.0473, 0.0434])]\n",
    "data.normalize(stats);\n",
    "data.c_in, data.c_out = 3, 2"
   ]
  },
  {
   "cell_type": "markdown",
   "metadata": {},
   "source": [
    "## Test"
   ]
  },
  {
   "cell_type": "code",
   "execution_count": 15,
   "metadata": {},
   "outputs": [],
   "source": [
    "fn_get_y = lambda image_name: Path(image_name).parent.parent/('labels/'+Path(image_name).name)\n",
    "codes = np.loadtxt(cocodata_path/'codes.txt', dtype=str)\n",
    "tfms = get_transforms()\n",
    "src = (SegCustomItemList\n",
    "       .from_folder(test_path, recurse=True, extensions='.jpg')\n",
    "       .filter_by_func(lambda fname: Path(fname).parent.name == 'images')\n",
    "       .split_by_rand_pct(0.90)\n",
    "       .label_from_func(fn_get_y, classes=codes))\n",
    "src.transform(tfms, tfm_y=True, size =config.LEARNER.img_size)\n",
    "data = src.databunch(test_path,\n",
    "                     bs=config.LEARNER.bs,\n",
    "                     val_bs=config.LEARNER.bs,\n",
    "                     num_workers = config.LEARNER.num_workers)\n",
    "#stats = [torch.tensor([0.2190, 0.1984, 0.1928]), torch.tensor([0.0645, 0.0473, 0.0434])]\n",
    "stats = data.batch_stats()\n",
    "data.normalize(stats);\n",
    "data.c_in, data.c_out = 3, 2"
   ]
  },
  {
   "cell_type": "markdown",
   "metadata": {},
   "source": [
    "## Load Model"
   ]
  },
  {
   "cell_type": "code",
   "execution_count": 16,
   "metadata": {},
   "outputs": [],
   "source": [
    "unet = unet_learner(data, models.resnet18, pretrained=False, metrics = metrics)"
   ]
  },
  {
   "cell_type": "markdown",
   "metadata": {
    "collapsed": "true"
   },
   "source": [
    "### LR finder"
   ]
  },
  {
   "cell_type": "code",
   "execution_count": null,
   "metadata": {},
   "outputs": [],
   "source": [
    "lr_find(unet)"
   ]
  },
  {
   "cell_type": "code",
   "execution_count": null,
   "metadata": {},
   "outputs": [],
   "source": [
    "unet.recorder.plot()"
   ]
  },
  {
   "cell_type": "markdown",
   "metadata": {},
   "source": [
    "## Run Analysis"
   ]
  },
  {
   "cell_type": "code",
   "execution_count": 17,
   "metadata": {},
   "outputs": [],
   "source": [
    "unet = unet.load(run_dir/'learner')"
   ]
  },
  {
   "cell_type": "code",
   "execution_count": 18,
   "metadata": {},
   "outputs": [
    {
     "data": {
      "text/plain": [
       "DynamicUnet\n",
       "======================================================================\n",
       "Layer (type)         Output Shape         Param #    Trainable \n",
       "======================================================================\n",
       "Conv2d               [64, 128, 128]       9,408      True      \n",
       "______________________________________________________________________\n",
       "BatchNorm2d          [64, 128, 128]       128        True      \n",
       "______________________________________________________________________\n",
       "ReLU                 [64, 128, 128]       0          False     \n",
       "______________________________________________________________________\n",
       "MaxPool2d            [64, 64, 64]         0          False     \n",
       "______________________________________________________________________\n",
       "Conv2d               [64, 64, 64]         36,864     True      \n",
       "______________________________________________________________________\n",
       "BatchNorm2d          [64, 64, 64]         128        True      \n",
       "______________________________________________________________________\n",
       "ReLU                 [64, 64, 64]         0          False     \n",
       "______________________________________________________________________\n",
       "Conv2d               [64, 64, 64]         36,864     True      \n",
       "______________________________________________________________________\n",
       "BatchNorm2d          [64, 64, 64]         128        True      \n",
       "______________________________________________________________________\n",
       "Conv2d               [64, 64, 64]         36,864     True      \n",
       "______________________________________________________________________\n",
       "BatchNorm2d          [64, 64, 64]         128        True      \n",
       "______________________________________________________________________\n",
       "ReLU                 [64, 64, 64]         0          False     \n",
       "______________________________________________________________________\n",
       "Conv2d               [64, 64, 64]         36,864     True      \n",
       "______________________________________________________________________\n",
       "BatchNorm2d          [64, 64, 64]         128        True      \n",
       "______________________________________________________________________\n",
       "Conv2d               [128, 32, 32]        73,728     True      \n",
       "______________________________________________________________________\n",
       "BatchNorm2d          [128, 32, 32]        256        True      \n",
       "______________________________________________________________________\n",
       "ReLU                 [128, 32, 32]        0          False     \n",
       "______________________________________________________________________\n",
       "Conv2d               [128, 32, 32]        147,456    True      \n",
       "______________________________________________________________________\n",
       "BatchNorm2d          [128, 32, 32]        256        True      \n",
       "______________________________________________________________________\n",
       "Conv2d               [128, 32, 32]        8,192      True      \n",
       "______________________________________________________________________\n",
       "BatchNorm2d          [128, 32, 32]        256        True      \n",
       "______________________________________________________________________\n",
       "Conv2d               [128, 32, 32]        147,456    True      \n",
       "______________________________________________________________________\n",
       "BatchNorm2d          [128, 32, 32]        256        True      \n",
       "______________________________________________________________________\n",
       "ReLU                 [128, 32, 32]        0          False     \n",
       "______________________________________________________________________\n",
       "Conv2d               [128, 32, 32]        147,456    True      \n",
       "______________________________________________________________________\n",
       "BatchNorm2d          [128, 32, 32]        256        True      \n",
       "______________________________________________________________________\n",
       "Conv2d               [256, 16, 16]        294,912    True      \n",
       "______________________________________________________________________\n",
       "BatchNorm2d          [256, 16, 16]        512        True      \n",
       "______________________________________________________________________\n",
       "ReLU                 [256, 16, 16]        0          False     \n",
       "______________________________________________________________________\n",
       "Conv2d               [256, 16, 16]        589,824    True      \n",
       "______________________________________________________________________\n",
       "BatchNorm2d          [256, 16, 16]        512        True      \n",
       "______________________________________________________________________\n",
       "Conv2d               [256, 16, 16]        32,768     True      \n",
       "______________________________________________________________________\n",
       "BatchNorm2d          [256, 16, 16]        512        True      \n",
       "______________________________________________________________________\n",
       "Conv2d               [256, 16, 16]        589,824    True      \n",
       "______________________________________________________________________\n",
       "BatchNorm2d          [256, 16, 16]        512        True      \n",
       "______________________________________________________________________\n",
       "ReLU                 [256, 16, 16]        0          False     \n",
       "______________________________________________________________________\n",
       "Conv2d               [256, 16, 16]        589,824    True      \n",
       "______________________________________________________________________\n",
       "BatchNorm2d          [256, 16, 16]        512        True      \n",
       "______________________________________________________________________\n",
       "Conv2d               [512, 8, 8]          1,179,648  True      \n",
       "______________________________________________________________________\n",
       "BatchNorm2d          [512, 8, 8]          1,024      True      \n",
       "______________________________________________________________________\n",
       "ReLU                 [512, 8, 8]          0          False     \n",
       "______________________________________________________________________\n",
       "Conv2d               [512, 8, 8]          2,359,296  True      \n",
       "______________________________________________________________________\n",
       "BatchNorm2d          [512, 8, 8]          1,024      True      \n",
       "______________________________________________________________________\n",
       "Conv2d               [512, 8, 8]          131,072    True      \n",
       "______________________________________________________________________\n",
       "BatchNorm2d          [512, 8, 8]          1,024      True      \n",
       "______________________________________________________________________\n",
       "Conv2d               [512, 8, 8]          2,359,296  True      \n",
       "______________________________________________________________________\n",
       "BatchNorm2d          [512, 8, 8]          1,024      True      \n",
       "______________________________________________________________________\n",
       "ReLU                 [512, 8, 8]          0          False     \n",
       "______________________________________________________________________\n",
       "Conv2d               [512, 8, 8]          2,359,296  True      \n",
       "______________________________________________________________________\n",
       "BatchNorm2d          [512, 8, 8]          1,024      True      \n",
       "______________________________________________________________________\n",
       "BatchNorm2d          [512, 8, 8]          1,024      True      \n",
       "______________________________________________________________________\n",
       "ReLU                 [512, 8, 8]          0          False     \n",
       "______________________________________________________________________\n",
       "Conv2d               [1024, 8, 8]         4,719,616  True      \n",
       "______________________________________________________________________\n",
       "ReLU                 [1024, 8, 8]         0          False     \n",
       "______________________________________________________________________\n",
       "Conv2d               [512, 8, 8]          4,719,104  True      \n",
       "______________________________________________________________________\n",
       "ReLU                 [512, 8, 8]          0          False     \n",
       "______________________________________________________________________\n",
       "Conv2d               [1024, 8, 8]         525,312    True      \n",
       "______________________________________________________________________\n",
       "PixelShuffle         [256, 16, 16]        0          False     \n",
       "______________________________________________________________________\n",
       "ReLU                 [1024, 8, 8]         0          False     \n",
       "______________________________________________________________________\n",
       "BatchNorm2d          [256, 16, 16]        512        True      \n",
       "______________________________________________________________________\n",
       "Conv2d               [512, 16, 16]        2,359,808  True      \n",
       "______________________________________________________________________\n",
       "ReLU                 [512, 16, 16]        0          False     \n",
       "______________________________________________________________________\n",
       "Conv2d               [512, 16, 16]        2,359,808  True      \n",
       "______________________________________________________________________\n",
       "ReLU                 [512, 16, 16]        0          False     \n",
       "______________________________________________________________________\n",
       "ReLU                 [512, 16, 16]        0          False     \n",
       "______________________________________________________________________\n",
       "Conv2d               [1024, 16, 16]       525,312    True      \n",
       "______________________________________________________________________\n",
       "PixelShuffle         [256, 32, 32]        0          False     \n",
       "______________________________________________________________________\n",
       "ReLU                 [1024, 16, 16]       0          False     \n",
       "______________________________________________________________________\n",
       "BatchNorm2d          [128, 32, 32]        256        True      \n",
       "______________________________________________________________________\n",
       "Conv2d               [384, 32, 32]        1,327,488  True      \n",
       "______________________________________________________________________\n",
       "ReLU                 [384, 32, 32]        0          False     \n",
       "______________________________________________________________________\n",
       "Conv2d               [384, 32, 32]        1,327,488  True      \n",
       "______________________________________________________________________\n",
       "ReLU                 [384, 32, 32]        0          False     \n",
       "______________________________________________________________________\n",
       "ReLU                 [384, 32, 32]        0          False     \n",
       "______________________________________________________________________\n",
       "Conv2d               [768, 32, 32]        295,680    True      \n",
       "______________________________________________________________________\n",
       "PixelShuffle         [192, 64, 64]        0          False     \n",
       "______________________________________________________________________\n",
       "ReLU                 [768, 32, 32]        0          False     \n",
       "______________________________________________________________________\n",
       "BatchNorm2d          [64, 64, 64]         128        True      \n",
       "______________________________________________________________________\n",
       "Conv2d               [256, 64, 64]        590,080    True      \n",
       "______________________________________________________________________\n",
       "ReLU                 [256, 64, 64]        0          False     \n",
       "______________________________________________________________________\n",
       "Conv2d               [256, 64, 64]        590,080    True      \n",
       "______________________________________________________________________\n",
       "ReLU                 [256, 64, 64]        0          False     \n",
       "______________________________________________________________________\n",
       "ReLU                 [256, 64, 64]        0          False     \n",
       "______________________________________________________________________\n",
       "Conv2d               [512, 64, 64]        131,584    True      \n",
       "______________________________________________________________________\n",
       "PixelShuffle         [128, 128, 128]      0          False     \n",
       "______________________________________________________________________\n",
       "ReLU                 [512, 64, 64]        0          False     \n",
       "______________________________________________________________________\n",
       "BatchNorm2d          [64, 128, 128]       128        True      \n",
       "______________________________________________________________________\n",
       "Conv2d               [96, 128, 128]       165,984    True      \n",
       "______________________________________________________________________\n",
       "ReLU                 [96, 128, 128]       0          False     \n",
       "______________________________________________________________________\n",
       "Conv2d               [96, 128, 128]       83,040     True      \n",
       "______________________________________________________________________\n",
       "ReLU                 [96, 128, 128]       0          False     \n",
       "______________________________________________________________________\n",
       "ReLU                 [192, 128, 128]      0          False     \n",
       "______________________________________________________________________\n",
       "Conv2d               [384, 128, 128]      37,248     True      \n",
       "______________________________________________________________________\n",
       "PixelShuffle         [96, 256, 256]       0          False     \n",
       "______________________________________________________________________\n",
       "ReLU                 [384, 128, 128]      0          False     \n",
       "______________________________________________________________________\n",
       "MergeLayer           [99, 256, 256]       0          False     \n",
       "______________________________________________________________________\n",
       "Conv2d               [99, 256, 256]       88,308     True      \n",
       "______________________________________________________________________\n",
       "ReLU                 [99, 256, 256]       0          False     \n",
       "______________________________________________________________________\n",
       "Conv2d               [99, 256, 256]       88,308     True      \n",
       "______________________________________________________________________\n",
       "ReLU                 [99, 256, 256]       0          False     \n",
       "______________________________________________________________________\n",
       "MergeLayer           [99, 256, 256]       0          False     \n",
       "______________________________________________________________________\n",
       "Conv2d               [2, 256, 256]        200        True      \n",
       "______________________________________________________________________\n",
       "\n",
       "Total params: 31,113,008\n",
       "Total trainable params: 31,113,008\n",
       "Total non-trainable params: 0\n",
       "Optimized with 'torch.optim.adam.Adam', betas=(0.9, 0.99)\n",
       "Using true weight decay as discussed in https://www.fast.ai/2018/07/02/adam-weight-decay/ \n",
       "Loss function : FlattenedLoss\n",
       "======================================================================\n",
       "Callbacks functions applied "
      ]
     },
     "execution_count": 18,
     "metadata": {},
     "output_type": "execute_result"
    }
   ],
   "source": [
    "unet.summary()"
   ]
  },
  {
   "cell_type": "code",
   "execution_count": 19,
   "metadata": {},
   "outputs": [],
   "source": [
    "class Analysis():\n",
    "    def __init__(self, learner:Learner, run_dir:Path):\n",
    "        self.learner = learner\n",
    "        self.run_dir = run_dir\n",
    "        self.metrics = pd.read_json(self.run_dir/'metrics.json')\n",
    "        self.trainL =  pd.read_json(self.run_dir/'trainL.json')\n",
    "        self.validL =  pd.read_json(self.run_dir/'validL.json')\n",
    "    \n",
    "    def remove0FromMetric(self, metric):\n",
    "        zero_dict = {k:v for (k,v) in self.results[metric].items() if v==0}\n",
    "        zero_dict = {k: v for k, v in sorted(zero_dict.items(), key=lambda item: item[1])}\n",
    "        new_dict = {k:v for (k,v) in self.results[metric].items() if v!=0}\n",
    "        new_dict = {k: v for k, v in sorted(new_dict.items(), key=lambda item: item[1])}\n",
    "        print('there were ', len(zero_dict.keys()), 'zeros in the ', metric,' list.')\n",
    "        return zero_dict, new_dict\n",
    "    \n",
    "    def histPlotMetric(self, metric, save=False):\n",
    "        #metric = one of 'dices', 'sens', 'specs', 'accs' \n",
    "        zeros, actual = self.remove0FromMetric(metric)\n",
    "        l_actual = list(actual.values())\n",
    "        l_actual = [x for x in l_actual if x==x] # get rid of nans\n",
    "        mean, std, median, max, min = np.mean(l_actual), np.std(l_actual), np.median(l_actual), np.max(l_actual), np.min(l_actual)\n",
    "        print(mean, std, median, max, min)\n",
    "        plt.hist(l_actual)\n",
    "        if save: plt.savefig(self.checkpoint_path/(metric+'.png'))\n",
    "        #return l_actual\n",
    "    \n",
    "    def showPrediction(self, id):\n",
    "        self.learner.model.eval()\n",
    "        batch = self.learner.data.one_batch(ds_type=DatasetType.Valid, denorm=False, detach=True, cpu=False)\n",
    "        img = self.learner.data.one_batch(ds_type=DatasetType.Valid, denorm=True, detach=True, cpu=True)[0]\n",
    "        xb = batch[0][id]#.permute(1,2,0).cpu()\n",
    "        yb = batch[1][id][0]#.permute(1,2,0).cpu()\n",
    "        pb = self.learner.model(xb.unsqueeze(0).cuda())[0]\n",
    "        #print(xb.size(), yb.size(), pb.size())\n",
    "        fig, (axim, axl, axp) = plt.subplots(nrows=1, ncols=3, figsize=(16, 3.5),\n",
    "                    subplot_kw={'xticks': [], 'yticks': []})\n",
    "        #images\n",
    "        im = axim.imshow(img[id].permute(1,2,0))\n",
    "        axim.set_title('Image')\n",
    "        l = axl.imshow(yb.cpu())\n",
    "        axl.set_title('Label')\n",
    "        p = axp.imshow(torch.argmax(pb.detach().cpu(), dim=0))\n",
    "        print()\n",
    "        axp.set_title('Pred')\n",
    "        \n",
    "        #return xb.size(), yb.size(), pb.size()"
   ]
  },
  {
   "cell_type": "code",
   "execution_count": 20,
   "metadata": {},
   "outputs": [],
   "source": [
    "asis = Analysis(unet, run_dir)"
   ]
  },
  {
   "cell_type": "code",
   "execution_count": 21,
   "metadata": {},
   "outputs": [
    {
     "name": "stdout",
     "output_type": "stream",
     "text": [
      "\n"
     ]
    },
    {
     "data": {
      "image/png": "[encoded data removed]",
      "text/plain": [
       "<Figure size 1152x252 with 3 Axes>"
      ]
     },
     "metadata": {},
     "output_type": "display_data"
    }
   ],
   "source": [
    "asis.showPrediction(0)"
   ]
  },
  {
   "cell_type": "code",
   "execution_count": 22,
   "metadata": {},
   "outputs": [
    {
     "data": {
      "text/plain": [
       "<matplotlib.axes._subplots.AxesSubplot at 0x2b881eb7a8d0>"
      ]
     },
     "execution_count": 22,
     "metadata": {},
     "output_type": "execute_result"
    },
    {
     "data": {
      "image/png": "[encoded data removed]",
      "text/plain": [
       "<Figure size 432x288 with 1 Axes>"
      ]
     },
     "metadata": {
      "needs_background": "light"
     },
     "output_type": "display_data"
    }
   ],
   "source": [
    "asis.trainL.sort_index().plot.line()"
   ]
  },
  {
   "cell_type": "code",
   "execution_count": 23,
   "metadata": {},
   "outputs": [
    {
     "data": {
      "text/plain": [
       "<matplotlib.axes._subplots.AxesSubplot at 0x2b881f2c83d0>"
      ]
     },
     "execution_count": 23,
     "metadata": {},
     "output_type": "execute_result"
    },
    {
     "data": {
      "image/png": "[encoded data removed]",
      "text/plain": [
       "<Figure size 432x288 with 1 Axes>"
      ]
     },
     "metadata": {
      "needs_background": "light"
     },
     "output_type": "display_data"
    }
   ],
   "source": [
    "asis.metrics['dice'].sort_index().plot.line()"
   ]
  },
  {
   "cell_type": "code",
   "execution_count": 24,
   "metadata": {},
   "outputs": [],
   "source": [
    "asis.metrics;"
   ]
  },
  {
   "cell_type": "markdown",
   "metadata": {},
   "source": [
    "## cpu"
   ]
  },
  {
   "cell_type": "code",
   "execution_count": 25,
   "metadata": {},
   "outputs": [],
   "source": [
    "xb,_=data.one_batch(denorm=False,cpu=True)"
   ]
  },
  {
   "cell_type": "code",
   "execution_count": 26,
   "metadata": {},
   "outputs": [],
   "source": [
    "unet.model.cpu();"
   ]
  },
  {
   "cell_type": "code",
   "execution_count": 27,
   "metadata": {},
   "outputs": [],
   "source": [
    "unet.model.eval();"
   ]
  },
  {
   "cell_type": "code",
   "execution_count": 28,
   "metadata": {},
   "outputs": [
    {
     "data": {
      "text/plain": [
       "torch.Size([16, 3, 256, 256])"
      ]
     },
     "execution_count": 28,
     "metadata": {},
     "output_type": "execute_result"
    }
   ],
   "source": [
    "xb.size()"
   ]
  },
  {
   "cell_type": "code",
   "execution_count": 29,
   "metadata": {},
   "outputs": [
    {
     "name": "stdout",
     "output_type": "stream",
     "text": [
      "CPU times: user 25.1 s, sys: 3.42 s, total: 28.5 s\n",
      "Wall time: 1.02 s\n"
     ]
    }
   ],
   "source": [
    "%%time\n",
    "pb = unet.model(xb)"
   ]
  },
  {
   "cell_type": "markdown",
   "metadata": {},
   "source": [
    "## cuda"
   ]
  },
  {
   "cell_type": "code",
   "execution_count": 30,
   "metadata": {},
   "outputs": [],
   "source": [
    "xb,_=data.one_batch(ds_type=DatasetType.Valid, denorm=False,cpu=False)"
   ]
  },
  {
   "cell_type": "code",
   "execution_count": 31,
   "metadata": {},
   "outputs": [],
   "source": [
    "unet.model.eval();"
   ]
  },
  {
   "cell_type": "code",
   "execution_count": 32,
   "metadata": {},
   "outputs": [],
   "source": [
    "unet.model.cuda();"
   ]
  },
  {
   "cell_type": "code",
   "execution_count": 33,
   "metadata": {},
   "outputs": [
    {
     "data": {
      "text/plain": [
       "torch.Size([16, 3, 256, 256])"
      ]
     },
     "execution_count": 33,
     "metadata": {},
     "output_type": "execute_result"
    }
   ],
   "source": [
    "xb.size()"
   ]
  },
  {
   "cell_type": "code",
   "execution_count": 34,
   "metadata": {},
   "outputs": [
    {
     "name": "stdout",
     "output_type": "stream",
     "text": [
      "CPU times: user 2.88 s, sys: 253 ms, total: 3.13 s\n",
      "Wall time: 972 ms\n"
     ]
    }
   ],
   "source": [
    "%%time\n",
    "pb = unet.model(xb)"
   ]
  },
  {
   "cell_type": "markdown",
   "metadata": {},
   "source": [
    "## cont"
   ]
  },
  {
   "cell_type": "code",
   "execution_count": 26,
   "metadata": {},
   "outputs": [
    {
     "name": "stdout",
     "output_type": "stream",
     "text": [
      "28\n"
     ]
    }
   ],
   "source": [
    "!cat /proc/cpuinfo | grep processor | wc -l\t"
   ]
  },
  {
   "cell_type": "code",
   "execution_count": 29,
   "metadata": {},
   "outputs": [
    {
     "name": "stdout",
     "output_type": "stream",
     "text": [
      "Architecture:        x86_64\n",
      "CPU op-mode(s):      32-bit, 64-bit\n",
      "Byte Order:          Little Endian\n",
      "CPU(s):              28\n",
      "On-line CPU(s) list: 0-27\n",
      "Thread(s) per core:  1\n",
      "Core(s) per socket:  14\n",
      "Socket(s):           2\n",
      "NUMA node(s):        2\n",
      "Vendor ID:           GenuineIntel\n",
      "CPU family:          6\n",
      "Model:               79\n",
      "Model name:          Intel(R) Xeon(R) CPU E5-2680 v4 @ 2.40GHz\n",
      "Stepping:            1\n",
      "CPU MHz:             1200.138\n",
      "CPU max MHz:         3300.0000\n",
      "CPU min MHz:         1200.0000\n",
      "BogoMIPS:            4800.17\n",
      "Virtualization:      VT-x\n",
      "L1d cache:           32K\n",
      "L1i cache:           32K\n",
      "L2 cache:            256K\n",
      "L3 cache:            35840K\n",
      "NUMA node0 CPU(s):   0-13\n",
      "NUMA node1 CPU(s):   14-27\n",
      "Flags:               fpu vme de pse tsc msr pae mce cx8 apic sep mtrr pge mca cmov pat pse36 clflush dts acpi mmx fxsr sse sse2 ss ht tm pbe syscall nx pdpe1gb rdtscp lm ibrs flush_l1d md_clear constant_tsc arch_perfmon pebs bts rep_good nopl xtopology nonstop_tsc aperfmperf eagerfpu pni pclmulqdq dtes64 monitor ds_cpl vmx smx est tm2 ssse3 sdbg fma cx16 xtpr pdcm pcid dca sse4_1 sse4_2 x2apic movbe popcnt tsc_deadline_timer aes xsave avx f16c rdrand lahf_lm abm 3dnowprefetch ida arat epb invpcid_single pln pts dtherm intel_pt ssbd ibpb stibp kaiser tpr_shadow vnmi flexpriority ept vpid fsgsbase tsc_adjust bmi1 hle avx2 smep bmi2 erms invpcid rtm cqm rdseed adx smap xsaveopt cqm_llc cqm_occup_llc\n"
     ]
    }
   ],
   "source": [
    "!lscpu"
   ]
  },
  {
   "cell_type": "code",
   "execution_count": 35,
   "metadata": {},
   "outputs": [],
   "source": [
    "unet.model.eval();"
   ]
  },
  {
   "cell_type": "code",
   "execution_count": 36,
   "metadata": {},
   "outputs": [
    {
     "data": {
      "text/html": [],
      "text/plain": [
       "<IPython.core.display.HTML object>"
      ]
     },
     "metadata": {},
     "output_type": "display_data"
    },
    {
     "name": "stdout",
     "output_type": "stream",
     "text": [
      "CPU times: user 10.9 s, sys: 3.41 s, total: 14.3 s\n",
      "Wall time: 12.5 s\n"
     ]
    }
   ],
   "source": [
    "%%time\n",
    "preds,targs = unet.get_preds()"
   ]
  },
  {
   "cell_type": "code",
   "execution_count": 38,
   "metadata": {},
   "outputs": [
    {
     "data": {
      "text/plain": [
       "(torch.Size([909, 2, 256, 256]), torch.Size([909, 1, 256, 256]))"
      ]
     },
     "execution_count": 38,
     "metadata": {},
     "output_type": "execute_result"
    }
   ],
   "source": [
    "preds.size(), targs.size()"
   ]
  },
  {
   "cell_type": "code",
   "execution_count": 58,
   "metadata": {},
   "outputs": [
    {
     "data": {
      "text/plain": [
       "476577792"
      ]
     },
     "execution_count": 58,
     "metadata": {},
     "output_type": "execute_result"
    }
   ],
   "source": [
    "preds.nelement()*preds.element_size()#/1024/1024"
   ]
  },
  {
   "cell_type": "code",
   "execution_count": 22,
   "metadata": {},
   "outputs": [
    {
     "name": "stdout",
     "output_type": "stream",
     "text": [
      "CPU times: user 38min 31s, sys: 5.52 s, total: 38min 37s\n",
      "Wall time: 1min 22s\n"
     ]
    }
   ],
   "source": [
    "%%time\n",
    "recorder = []\n",
    "for p,y in iter(zip(preds,targs)): \n",
    "    p = p.unsqueeze(0)\n",
    "    y = y.unsqueeze(0)\n",
    "    recorder.append([met(p, y).item() for met in metrics])"
   ]
  },
  {
   "cell_type": "code",
   "execution_count": 23,
   "metadata": {},
   "outputs": [],
   "source": [
    "test_results = pd.DataFrame(recorder, columns=[met.__name__ for met in unet.metrics])"
   ]
  },
  {
   "cell_type": "code",
   "execution_count": 24,
   "metadata": {},
   "outputs": [
    {
     "data": {
      "text/plain": [
       "sens            0.941674\n",
       "spec            0.996027\n",
       "dice            0.967723\n",
       "my_Dice_Loss    0.880063\n",
       "acc             0.035721\n",
       "dtype: float64"
      ]
     },
     "execution_count": 24,
     "metadata": {},
     "output_type": "execute_result"
    }
   ],
   "source": [
    "test_results.mean(axis=0)"
   ]
  },
  {
   "cell_type": "code",
   "execution_count": 25,
   "metadata": {},
   "outputs": [
    {
     "data": {
      "text/plain": [
       "sens            0.080560\n",
       "spec            0.006467\n",
       "dice            0.054236\n",
       "my_Dice_Loss    0.029518\n",
       "acc             0.000000\n",
       "dtype: float64"
      ]
     },
     "execution_count": 25,
     "metadata": {},
     "output_type": "execute_result"
    }
   ],
   "source": [
    "test_results.std(axis=0)"
   ]
  },
  {
   "cell_type": "code",
   "execution_count": 26,
   "metadata": {},
   "outputs": [
    {
     "data": {
      "text/plain": [
       "sens            0.961967\n",
       "spec            0.997580\n",
       "dice            0.980615\n",
       "my_Dice_Loss    0.878570\n",
       "acc             0.035721\n",
       "dtype: float64"
      ]
     },
     "execution_count": 26,
     "metadata": {},
     "output_type": "execute_result"
    }
   ],
   "source": [
    "test_results.median(axis=0)"
   ]
  },
  {
   "cell_type": "code",
   "execution_count": 27,
   "metadata": {},
   "outputs": [
    {
     "data": {
      "text/plain": [
       "sens            0.363106\n",
       "spec            0.932740\n",
       "dice            0.532763\n",
       "my_Dice_Loss    0.796850\n",
       "acc             0.035721\n",
       "dtype: float64"
      ]
     },
     "execution_count": 27,
     "metadata": {},
     "output_type": "execute_result"
    }
   ],
   "source": [
    "test_results.min(axis=0)"
   ]
  },
  {
   "cell_type": "code",
   "execution_count": 28,
   "metadata": {},
   "outputs": [
    {
     "data": {
      "text/plain": [
       "sens            0.988690\n",
       "spec            0.999420\n",
       "dice            0.994313\n",
       "my_Dice_Loss    0.945615\n",
       "acc             0.035721\n",
       "dtype: float64"
      ]
     },
     "execution_count": 28,
     "metadata": {},
     "output_type": "execute_result"
    }
   ],
   "source": [
    "test_results.max(axis=0)"
   ]
  },
  {
   "cell_type": "code",
   "execution_count": 32,
   "metadata": {},
   "outputs": [
    {
     "data": {
      "text/plain": [
       "<matplotlib.axes._subplots.AxesSubplot at 0x2ae502998f10>"
      ]
     },
     "execution_count": 32,
     "metadata": {},
     "output_type": "execute_result"
    },
    {
     "data": {
      "image/png": "[encoded data removed]",
      "text/plain": [
       "<Figure size 432x288 with 1 Axes>"
      ]
     },
     "metadata": {
      "needs_background": "light"
     },
     "output_type": "display_data"
    }
   ],
   "source": [
    "test_results['dice'].plot.line()"
   ]
  },
  {
   "cell_type": "code",
   "execution_count": 30,
   "metadata": {},
   "outputs": [
    {
     "data": {
      "text/plain": [
       "<matplotlib.axes._subplots.AxesSubplot at 0x2ae3c51aa910>"
      ]
     },
     "execution_count": 30,
     "metadata": {},
     "output_type": "execute_result"
    },
    {
     "data": {
      "image/png": "[encoded data removed]",
      "text/plain": [
       "<Figure size 432x288 with 1 Axes>"
      ]
     },
     "metadata": {
      "needs_background": "light"
     },
     "output_type": "display_data"
    }
   ],
   "source": [
    "test_results['dice'].plot.hist()"
   ]
  },
  {
   "cell_type": "code",
   "execution_count": 31,
   "metadata": {},
   "outputs": [],
   "source": [
    "test_results.to_json(run_dir/'test_results.json')"
   ]
  },
  {
   "cell_type": "code",
   "execution_count": 33,
   "metadata": {},
   "outputs": [
    {
     "data": {
      "text/html": [
       "<div>\n",
       "<style scoped>\n",
       "    .dataframe tbody tr th:only-of-type {\n",
       "        vertical-align: middle;\n",
       "    }\n",
       "\n",
       "    .dataframe tbody tr th {\n",
       "        vertical-align: top;\n",
       "    }\n",
       "\n",
       "    .dataframe thead th {\n",
       "        text-align: right;\n",
       "    }\n",
       "</style>\n",
       "<table border=\"1\" class=\"dataframe\">\n",
       "  <thead>\n",
       "    <tr style=\"text-align: right;\">\n",
       "      <th></th>\n",
       "      <th>sens</th>\n",
       "      <th>spec</th>\n",
       "      <th>dice</th>\n",
       "      <th>my_Dice_Loss</th>\n",
       "      <th>acc</th>\n",
       "    </tr>\n",
       "  </thead>\n",
       "  <tbody>\n",
       "    <tr>\n",
       "      <th>774</th>\n",
       "      <td>0.363106</td>\n",
       "      <td>0.962550</td>\n",
       "      <td>0.532763</td>\n",
       "      <td>0.895839</td>\n",
       "      <td>0.035721</td>\n",
       "    </tr>\n",
       "    <tr>\n",
       "      <th>652</th>\n",
       "      <td>0.374295</td>\n",
       "      <td>0.961936</td>\n",
       "      <td>0.544708</td>\n",
       "      <td>0.892859</td>\n",
       "      <td>0.035721</td>\n",
       "    </tr>\n",
       "    <tr>\n",
       "      <th>191</th>\n",
       "      <td>0.382732</td>\n",
       "      <td>0.962608</td>\n",
       "      <td>0.553588</td>\n",
       "      <td>0.892041</td>\n",
       "      <td>0.035721</td>\n",
       "    </tr>\n",
       "    <tr>\n",
       "      <th>149</th>\n",
       "      <td>0.388347</td>\n",
       "      <td>0.964791</td>\n",
       "      <td>0.559438</td>\n",
       "      <td>0.897695</td>\n",
       "      <td>0.035721</td>\n",
       "    </tr>\n",
       "    <tr>\n",
       "      <th>587</th>\n",
       "      <td>0.401022</td>\n",
       "      <td>0.932740</td>\n",
       "      <td>0.572471</td>\n",
       "      <td>0.800501</td>\n",
       "      <td>0.035721</td>\n",
       "    </tr>\n",
       "    <tr>\n",
       "      <th>...</th>\n",
       "      <td>...</td>\n",
       "      <td>...</td>\n",
       "      <td>...</td>\n",
       "      <td>...</td>\n",
       "      <td>...</td>\n",
       "    </tr>\n",
       "    <tr>\n",
       "      <th>819</th>\n",
       "      <td>0.982711</td>\n",
       "      <td>0.998564</td>\n",
       "      <td>0.991280</td>\n",
       "      <td>0.848445</td>\n",
       "      <td>0.035721</td>\n",
       "    </tr>\n",
       "    <tr>\n",
       "      <th>153</th>\n",
       "      <td>0.984119</td>\n",
       "      <td>0.998943</td>\n",
       "      <td>0.991996</td>\n",
       "      <td>0.886085</td>\n",
       "      <td>0.035721</td>\n",
       "    </tr>\n",
       "    <tr>\n",
       "      <th>237</th>\n",
       "      <td>0.985183</td>\n",
       "      <td>0.999008</td>\n",
       "      <td>0.992536</td>\n",
       "      <td>0.885369</td>\n",
       "      <td>0.035721</td>\n",
       "    </tr>\n",
       "    <tr>\n",
       "      <th>567</th>\n",
       "      <td>0.988035</td>\n",
       "      <td>0.999238</td>\n",
       "      <td>0.993981</td>\n",
       "      <td>0.888774</td>\n",
       "      <td>0.035721</td>\n",
       "    </tr>\n",
       "    <tr>\n",
       "      <th>791</th>\n",
       "      <td>0.988690</td>\n",
       "      <td>0.999059</td>\n",
       "      <td>0.994313</td>\n",
       "      <td>0.848267</td>\n",
       "      <td>0.035721</td>\n",
       "    </tr>\n",
       "  </tbody>\n",
       "</table>\n",
       "<p>909 rows × 5 columns</p>\n",
       "</div>"
      ],
      "text/plain": [
       "         sens      spec      dice  my_Dice_Loss       acc\n",
       "774  0.363106  0.962550  0.532763      0.895839  0.035721\n",
       "652  0.374295  0.961936  0.544708      0.892859  0.035721\n",
       "191  0.382732  0.962608  0.553588      0.892041  0.035721\n",
       "149  0.388347  0.964791  0.559438      0.897695  0.035721\n",
       "587  0.401022  0.932740  0.572471      0.800501  0.035721\n",
       "..        ...       ...       ...           ...       ...\n",
       "819  0.982711  0.998564  0.991280      0.848445  0.035721\n",
       "153  0.984119  0.998943  0.991996      0.886085  0.035721\n",
       "237  0.985183  0.999008  0.992536      0.885369  0.035721\n",
       "567  0.988035  0.999238  0.993981      0.888774  0.035721\n",
       "791  0.988690  0.999059  0.994313      0.848267  0.035721\n",
       "\n",
       "[909 rows x 5 columns]"
      ]
     },
     "execution_count": 33,
     "metadata": {},
     "output_type": "execute_result"
    }
   ],
   "source": [
    "test_results.sort_values(by='dice')"
   ]
  },
  {
   "cell_type": "code",
   "execution_count": 34,
   "metadata": {},
   "outputs": [
    {
     "data": {
      "image/jpeg": "[encoded data removed]",
      "image/png": "[encoded data removed]",
      "text/plain": [
       "Image (3, 512, 512)"
      ]
     },
     "execution_count": 34,
     "metadata": {},
     "output_type": "execute_result"
    }
   ],
   "source": [
    "unet.data.valid_ds.x[774]"
   ]
  },
  {
   "cell_type": "code",
   "execution_count": 35,
   "metadata": {},
   "outputs": [
    {
     "data": {
      "text/plain": [
       "<matplotlib.image.AxesImage at 0x2ae3c732db10>"
      ]
     },
     "execution_count": 35,
     "metadata": {},
     "output_type": "execute_result"
    },
    {
     "data": {
      "image/png": "[encoded data removed]",
      "text/plain": [
       "<Figure size 432x288 with 1 Axes>"
      ]
     },
     "metadata": {
      "needs_background": "light"
     },
     "output_type": "display_data"
    }
   ],
   "source": [
    "plt.imshow(preds[774][1])"
   ]
  },
  {
   "cell_type": "code",
   "execution_count": 36,
   "metadata": {},
   "outputs": [
    {
     "data": {
      "text/plain": [
       "<matplotlib.image.AxesImage at 0x2ae3c73a9690>"
      ]
     },
     "execution_count": 36,
     "metadata": {},
     "output_type": "execute_result"
    },
    {
     "data": {
      "image/png": "[encoded data removed]",
      "text/plain": [
       "<Figure size 432x288 with 1 Axes>"
      ]
     },
     "metadata": {
      "needs_background": "light"
     },
     "output_type": "display_data"
    }
   ],
   "source": [
    "plt.imshow(targs[774][0])"
   ]
  },
  {
   "cell_type": "code",
   "execution_count": 166,
   "metadata": {},
   "outputs": [
    {
     "data": {
      "text/html": [],
      "text/plain": [
       "<IPython.core.display.HTML object>"
      ]
     },
     "metadata": {},
     "output_type": "display_data"
    },
    {
     "data": {
      "text/plain": [
       "[0.31771377,\n",
       " tensor(0.9490),\n",
       " tensor(0.9965),\n",
       " tensor(0.9725),\n",
       " tensor(-4.5412),\n",
       " tensor(0.9404)]"
      ]
     },
     "execution_count": 166,
     "metadata": {},
     "output_type": "execute_result"
    }
   ],
   "source": [
    "learn.validate(metrics=metrics)"
   ]
  },
  {
   "cell_type": "code",
   "execution_count": null,
   "metadata": {},
   "outputs": [],
   "source": []
  },
  {
   "cell_type": "code",
   "execution_count": null,
   "metadata": {},
   "outputs": [],
   "source": [
    "def freeze_to(learn, n): # freeze model up to layer n\n",
    "    for i, param in enumerate(learn.model.parameters()):\n",
    "        if i<n: param.requires_grad=False"
   ]
  },
  {
   "cell_type": "code",
   "execution_count": null,
   "metadata": {},
   "outputs": [],
   "source": [
    "learn.unfreeze()"
   ]
  },
  {
   "cell_type": "code",
   "execution_count": null,
   "metadata": {},
   "outputs": [],
   "source": [
    "freeze_to(learn, 60)"
   ]
  },
  {
   "cell_type": "code",
   "execution_count": null,
   "metadata": {},
   "outputs": [],
   "source": [
    "for i, param in enumerate(learn.model.parameters()):\n",
    "    print(i,param.requires_grad)"
   ]
  },
  {
   "cell_type": "code",
   "execution_count": null,
   "metadata": {},
   "outputs": [],
   "source": [
    "learn.opt.clear()"
   ]
  },
  {
   "cell_type": "code",
   "execution_count": null,
   "metadata": {},
   "outputs": [],
   "source": [
    "learner.fit_one_cycle(2, max_lr=slice(0.00001), wd=0.01, pct_start=0.3)"
   ]
  },
  {
   "cell_type": "code",
   "execution_count": 60,
   "metadata": {},
   "outputs": [],
   "source": [
    "!git add ."
   ]
  },
  {
   "cell_type": "code",
   "execution_count": 61,
   "metadata": {},
   "outputs": [
    {
     "name": "stdout",
     "output_type": "stream",
     "text": [
      "[master 5a2a36e] seemingly better but i think this unet is overfitted\n",
      " Committer: Arjun Balaji <abalaji@a082-mgmt.pawsey.org.au>\n",
      "Your name and email address were configured automatically based\n",
      "on your username and hostname. Please check that they are accurate.\n",
      "You can suppress this message by setting them explicitly. Run the\n",
      "following command and follow the instructions in your editor to edit\n",
      "your configuration file:\n",
      "\n",
      "    git config --global --edit\n",
      "\n",
      "After doing this, you may fix the identity used for this commit with:\n",
      "\n",
      "    git commit --amend --reset-author\n",
      "\n",
      " 29 files changed, 3074 insertions(+), 678 deletions(-)\n",
      " delete mode 100644 02a_capsAnalysis.ipynb\n",
      " create mode 100644 03a_capsAnalysis.ipynb\n",
      " create mode 100644 03a_unetAnalysis.ipynb\n",
      " rename 03_validateD2.ipynb => 888_validateD2.ipynb (100%)\n",
      " create mode 100644 DEEEPCAP4688037.out\n",
      " create mode 100644 DEEEPCAP4688303.out\n",
      " create mode 100644 DEEEPCAP4688399.out\n",
      " create mode 100644 DEEEPCAP4688636.out\n",
      " create mode 100644 DEEEPCAP4688637.out\n",
      " create mode 100644 DEEEPCAP4688903.out\n",
      " create mode 100644 DEEEPCAP4688904.out\n",
      " create mode 100644 caps_1.sh\n",
      " create mode 100644 mlruns/0/0dc64a58b40d4b109b5b46409bc0be53/meta.yaml\n",
      " create mode 100644 mlruns/0/1d6f37b3ef30486f9f5fb555360deb4b/meta.yaml\n",
      " create mode 100644 mlruns/0/23e8384e2e574d898299404b843a990a/meta.yaml\n",
      " create mode 100644 mlruns/0/8cb18c799e6b478f8849e92a24d25a15/meta.yaml\n",
      " create mode 100644 mlruns/0/93329770e7bd4b2bbca4815f499b9764/meta.yaml\n",
      " create mode 100644 mlruns/0/98978ddc3d454c73893cec6e228ca00b/meta.yaml\n",
      " create mode 100644 mlruns/0/b674413753954ede8eb001d145f4c9d0/meta.yaml\n",
      " create mode 100644 mlruns/0/e176dff7437c4ec787fa097d8bae352d/meta.yaml\n",
      " create mode 100644 mlruns/0/e2021677d6ca42b9addeeb9136a78b04/meta.yaml\n",
      " create mode 100644 mlruns/0/meta.yaml\n",
      " create mode 100644 oct_unet4691004.out\n",
      " create mode 100644 oct_unet4691447.out\n",
      " create mode 100644 pawsey/caps_1.py\n"
     ]
    }
   ],
   "source": [
    "!git commit . -m 'seemingly better but i think this unet is overfitted'"
   ]
  }
 ],
 "metadata": {
  "kernelspec": {
   "display_name": "Python 3",
   "language": "python",
   "name": "python3"
  },
  "language_info": {
   "codemirror_mode": {
    "name": "ipython",
    "version": 3
   },
   "file_extension": ".py",
   "mimetype": "text/x-python",
   "name": "python",
   "nbconvert_exporter": "python",
   "pygments_lexer": "ipython3",
   "version": "3.7.7"
  }
 },
 "nbformat": 4,
 "nbformat_minor": 4
}

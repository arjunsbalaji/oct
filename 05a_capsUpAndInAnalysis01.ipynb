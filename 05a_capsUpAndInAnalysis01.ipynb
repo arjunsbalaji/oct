{
 "cells": [
  {
   "cell_type": "code",
   "execution_count": 1,
   "metadata": {},
   "outputs": [],
   "source": [
    "# default_exp capsAnalaysis"
   ]
  },
  {
   "cell_type": "code",
   "execution_count": 2,
   "metadata": {},
   "outputs": [],
   "source": [
    "import sys"
   ]
  },
  {
   "cell_type": "code",
   "execution_count": 3,
   "metadata": {},
   "outputs": [],
   "source": [
    "sys.path.append('/workspace/oct_ca_seg/oct/')"
   ]
  },
  {
   "cell_type": "code",
   "execution_count": 4,
   "metadata": {},
   "outputs": [],
   "source": [
    "from oct.startup import *\n",
    "from model import CapsNet\n",
    "import numpy as np\n",
    "import mlflow\n",
    "from fastai.vision import *\n",
    "import mlflow.pytorch as MLPY\n",
    "from fastai.utils.mem import gpu_mem_get_all\n",
    "from skimage import filters"
   ]
  },
  {
   "cell_type": "code",
   "execution_count": 5,
   "metadata": {},
   "outputs": [
    {
     "data": {
      "text/plain": [
       "[GPUMemory(total=16280, free=7592, used=8688),\n",
       " GPUMemory(total=16280, free=16270, used=10),\n",
       " GPUMemory(total=16280, free=16270, used=10),\n",
       " GPUMemory(total=16280, free=16270, used=10)]"
      ]
     },
     "execution_count": 5,
     "metadata": {},
     "output_type": "execute_result"
    }
   ],
   "source": [
    "gpu_mem_get_all()"
   ]
  },
  {
   "cell_type": "code",
   "execution_count": 6,
   "metadata": {},
   "outputs": [],
   "source": [
    "cocodata_path = Path('/workspace/oct_ca_seg/COCOdata/')\n",
    "train_path = cocodata_path/'train/images'\n",
    "valid_path = cocodata_path/'valid/images'\n",
    "test_path = cocodata_path/'test/images'"
   ]
  },
  {
   "cell_type": "code",
   "execution_count": 7,
   "metadata": {},
   "outputs": [],
   "source": [
    "metrics = [sens, spec, dice, my_Dice_Loss, acc]"
   ]
  },
  {
   "cell_type": "code",
   "execution_count": 8,
   "metadata": {},
   "outputs": [],
   "source": [
    "runsave_dir = Path('/workspace/oct_ca_seg/runsaves/')"
   ]
  },
  {
   "cell_type": "code",
   "execution_count": 9,
   "metadata": {},
   "outputs": [],
   "source": [
    "run_name = 'DEEPCAP_09start_10e_001lr_fsmooth_deconv_in01' #best\n",
    "cfg_file = 'DEEPCAP_09start_10e_001lr_fsmooth_deconv_in01'"
   ]
  },
  {
   "cell_type": "code",
   "execution_count": 10,
   "metadata": {},
   "outputs": [],
   "source": [
    "run_dir = runsave_dir/run_name"
   ]
  },
  {
   "cell_type": "code",
   "execution_count": 11,
   "metadata": {},
   "outputs": [],
   "source": [
    "def loadConfigRun(run_dir, name):\n",
    "    with open(run_dir/name, 'r') as file:\n",
    "        return json.load(file)"
   ]
  },
  {
   "cell_type": "code",
   "execution_count": 12,
   "metadata": {},
   "outputs": [],
   "source": [
    "cfg_dict = loadConfigRun(run_dir, cfg_file)"
   ]
  },
  {
   "cell_type": "code",
   "execution_count": 13,
   "metadata": {},
   "outputs": [],
   "source": [
    "#cfg_dict['LEARNER']['bs'] = 1"
   ]
  },
  {
   "cell_type": "code",
   "execution_count": 14,
   "metadata": {},
   "outputs": [],
   "source": [
    "config = DeepConfig(cfg_dict)"
   ]
  },
  {
   "cell_type": "markdown",
   "metadata": {
    "collapsed": "true"
   },
   "source": [
    "## Train, Valid"
   ]
  },
  {
   "cell_type": "code",
   "execution_count": 20,
   "metadata": {},
   "outputs": [],
   "source": [
    "fn_get_y = lambda image_name: Path(image_name).parent.parent/('labels/'+Path(image_name).name)\n",
    "codes = np.loadtxt(cocodata_path/'codes.txt', dtype=str)\n",
    "tfms = get_transforms()\n",
    "src = (SegCustomItemList\n",
    "       .from_folder(cocodata_path, recurse=True, extensions='.jpg')\n",
    "       .filter_by_func(lambda fname: Path(fname).parent.name == 'images', )\n",
    "       .split_by_folder('train', 'valid')\n",
    "       .label_from_func(fn_get_y, classes=codes))\n",
    "src.transform(tfms, tfm_y=True, size=config.LEARNER.img_size)\n",
    "data = src.databunch(cocodata_path,\n",
    "                     bs=config.LEARNER.bs,\n",
    "                     val_bs=2*config.LEARNER.bs,\n",
    "                     num_workers = config.LEARNER.num_workers)\n",
    "stats = [torch.tensor([0.2190, 0.1984, 0.1928]), torch.tensor([0.0645, 0.0473, 0.0434])]\n",
    "data.normalize(stats);\n",
    "data.c_in, data.c_out = 3, 2"
   ]
  },
  {
   "cell_type": "code",
   "execution_count": 22,
   "metadata": {},
   "outputs": [
    {
     "data": {
      "text/plain": [
       "0.7078511364582466"
      ]
     },
     "execution_count": 22,
     "metadata": {},
     "output_type": "execute_result"
    }
   ],
   "source": [
    "len(data.train_ds)/12011"
   ]
  },
  {
   "cell_type": "code",
   "execution_count": 23,
   "metadata": {},
   "outputs": [
    {
     "data": {
      "text/plain": [
       "0.20805927899425528"
      ]
     },
     "execution_count": 23,
     "metadata": {},
     "output_type": "execute_result"
    }
   ],
   "source": [
    "len(data.valid_ds)/12011"
   ]
  },
  {
   "cell_type": "markdown",
   "metadata": {},
   "source": [
    "## Test"
   ]
  },
  {
   "cell_type": "code",
   "execution_count": 15,
   "metadata": {},
   "outputs": [],
   "source": [
    "def _in_delta(x):\n",
    "    #print(x.shape)\n",
    "    return x[config.MODEL.input_images,:,:]\n",
    "in_delta = TfmPixel(_in_delta, order=0)\n",
    "in_delta.use_on_y = False"
   ]
  },
  {
   "cell_type": "code",
   "execution_count": 16,
   "metadata": {},
   "outputs": [],
   "source": [
    "fn_get_y = lambda image_name: Path(image_name).parent.parent/('labels/'+Path(image_name).name)\n",
    "codes = np.loadtxt(cocodata_path/'codes.txt', dtype=str)\n",
    "tfms = get_transforms()\n",
    "tfms[0].append(in_delta())\n",
    "tfms[1].append(in_delta())\n",
    "src = (SegCustomItemList\n",
    "       .from_folder(test_path, recurse=True, extensions='.jpg')\n",
    "       .filter_by_func(lambda fname: Path(fname).parent.name == 'images', )\n",
    "       .split_by_rand_pct(0.90)\n",
    "       .label_from_func(fn_get_y, classes=codes))\n",
    "src.transform(tfms, tfm_y=True, size =config.LEARNER.img_size)\n",
    "data = src.databunch(test_path,\n",
    "                     bs=config.LEARNER.bs,\n",
    "                     val_bs=2*config.LEARNER.bs,\n",
    "                     num_workers = config.LEARNER.num_workers)\n",
    "#stats = [torch.tensor([0.2190, 0.1984, 0.1928]), torch.tensor([0.0645, 0.0473, 0.0434])]\n",
    "stats = data.batch_stats()\n",
    "data.normalize(stats);\n",
    "data.c_in, data.c_out = config.MODEL.inputchannels, 2"
   ]
  },
  {
   "cell_type": "markdown",
   "metadata": {},
   "source": [
    "## Load Model"
   ]
  },
  {
   "cell_type": "code",
   "execution_count": 17,
   "metadata": {},
   "outputs": [],
   "source": [
    "deepCap = CapsNet(config.MODEL).cuda()\n",
    "learn = Learner(data = data,\n",
    "                  model = deepCap,\n",
    "                  metrics = metrics)"
   ]
  },
  {
   "cell_type": "markdown",
   "metadata": {
    "collapsed": "true"
   },
   "source": [
    "### LR finder"
   ]
  },
  {
   "cell_type": "code",
   "execution_count": null,
   "metadata": {},
   "outputs": [],
   "source": [
    "lr_find(learn)"
   ]
  },
  {
   "cell_type": "code",
   "execution_count": null,
   "metadata": {},
   "outputs": [],
   "source": [
    "learn.recorder.plot()"
   ]
  },
  {
   "cell_type": "markdown",
   "metadata": {},
   "source": [
    "## Run Analysis"
   ]
  },
  {
   "cell_type": "code",
   "execution_count": 19,
   "metadata": {},
   "outputs": [],
   "source": [
    "learn = learn.load(run_dir/'learner')"
   ]
  },
  {
   "cell_type": "code",
   "execution_count": 20,
   "metadata": {},
   "outputs": [
    {
     "data": {
      "text/plain": [
       "CapsNet\n",
       "======================================================================\n",
       "Layer (type)         Output Shape         Param #    Trainable \n",
       "======================================================================\n",
       "ReLU                 [64, 64, 64]         0          False     \n",
       "______________________________________________________________________\n",
       "Conv2d               [32, 128, 128]       1,632      True      \n",
       "______________________________________________________________________\n",
       "Conv2d               [64, 64, 64]         51,264     True      \n",
       "______________________________________________________________________\n",
       "Conv2d               [32, 64, 64]         18,464     True      \n",
       "______________________________________________________________________\n",
       "Softmax              [4, 64, 64, 4]       0          False     \n",
       "______________________________________________________________________\n",
       "Conv2d               [32, 32, 32]         9,248      True      \n",
       "______________________________________________________________________\n",
       "Softmax              [4, 32, 32, 4]       0          False     \n",
       "______________________________________________________________________\n",
       "Conv2d               [128, 32, 32]        36,992     True      \n",
       "______________________________________________________________________\n",
       "Softmax              [8, 32, 32, 4]       0          False     \n",
       "______________________________________________________________________\n",
       "Conv2d               [128, 16, 16]        147,584    True      \n",
       "______________________________________________________________________\n",
       "Softmax              [8, 16, 16, 8]       0          False     \n",
       "______________________________________________________________________\n",
       "Conv2d               [512, 16, 16]        590,336    True      \n",
       "______________________________________________________________________\n",
       "Softmax              [16, 16, 16, 8]      0          False     \n",
       "______________________________________________________________________\n",
       "Conv2d               [512, 8, 8]          2,359,808  True      \n",
       "______________________________________________________________________\n",
       "Softmax              [16, 8, 8, 16]       0          False     \n",
       "______________________________________________________________________\n",
       "Conv2d               [512, 8, 8]          262,656    True      \n",
       "______________________________________________________________________\n",
       "Softmax              [16, 8, 8, 16]       0          False     \n",
       "______________________________________________________________________\n",
       "ConvTranspose2d      [128, 14, 14]        1,179,776  True      \n",
       "______________________________________________________________________\n",
       "Softmax              [8, 14, 14, 32]      0          False     \n",
       "______________________________________________________________________\n",
       "Conv2d               [128, 16, 16]        147,584    True      \n",
       "______________________________________________________________________\n",
       "Softmax              [8, 16, 16, 8]       0          False     \n",
       "______________________________________________________________________\n",
       "ConvTranspose2d      [32, 30, 30]         73,760     True      \n",
       "______________________________________________________________________\n",
       "Softmax              [4, 30, 30, 16]      0          False     \n",
       "______________________________________________________________________\n",
       "Conv2d               [32, 32, 32]         9,248      True      \n",
       "______________________________________________________________________\n",
       "Softmax              [4, 32, 32, 4]       0          False     \n",
       "______________________________________________________________________\n",
       "ConvTranspose2d      [64, 62, 62]         36,928     True      \n",
       "______________________________________________________________________\n",
       "Softmax              [4, 62, 62, 8]       0          False     \n",
       "______________________________________________________________________\n",
       "Conv2d               [64, 64, 64]         36,928     True      \n",
       "______________________________________________________________________\n",
       "Softmax              [4, 64, 64, 4]       0          False     \n",
       "______________________________________________________________________\n",
       "ConvTranspose2d      [16, 128, 128]       18,448     True      \n",
       "______________________________________________________________________\n",
       "Softmax              [2, 128, 128, 8]     0          False     \n",
       "______________________________________________________________________\n",
       "GaussianSmoothing    [16, 126, 126]       144        False     \n",
       "______________________________________________________________________\n",
       "ConvTranspose2d      [32, 256, 256]       4,640      True      \n",
       "______________________________________________________________________\n",
       "Softmax              [2, 256, 256, 2]     0          False     \n",
       "______________________________________________________________________\n",
       "\n",
       "Total params: 4,985,440\n",
       "Total trainable params: 4,985,296\n",
       "Total non-trainable params: 144\n",
       "Optimized with 'torch.optim.adam.Adam', betas=(0.9, 0.99)\n",
       "Using true weight decay as discussed in https://www.fast.ai/2018/07/02/adam-weight-decay/ \n",
       "Loss function : FlattenedLoss\n",
       "======================================================================\n",
       "Callbacks functions applied "
      ]
     },
     "execution_count": 20,
     "metadata": {},
     "output_type": "execute_result"
    }
   ],
   "source": [
    "learn.summary()"
   ]
  },
  {
   "cell_type": "code",
   "execution_count": 21,
   "metadata": {},
   "outputs": [],
   "source": [
    "class Analysis():\n",
    "    def __init__(self, learner:Learner, run_dir:Path):\n",
    "        self.learner = learner\n",
    "        self.run_dir = run_dir\n",
    "        self.metrics = pd.read_json(self.run_dir/'metrics.json')\n",
    "        self.trainL =  pd.read_json(self.run_dir/'trainL.json')\n",
    "        self.validL =  pd.read_json(self.run_dir/'validL.json')\n",
    "    \n",
    "    def remove0FromMetric(self, metric):\n",
    "        zero_dict = {k:v for (k,v) in self.results[metric].items() if v==0}\n",
    "        zero_dict = {k: v for k, v in sorted(zero_dict.items(), key=lambda item: item[1])}\n",
    "        new_dict = {k:v for (k,v) in self.results[metric].items() if v!=0}\n",
    "        new_dict = {k: v for k, v in sorted(new_dict.items(), key=lambda item: item[1])}\n",
    "        print('there were ', len(zero_dict.keys()), 'zeros in the ', metric,' list.')\n",
    "        return zero_dict, new_dict\n",
    "    \n",
    "    def histPlotMetric(self, metric, save=False):\n",
    "        #metric = one of 'dices', 'sens', 'specs', 'accs' \n",
    "        zeros, actual = self.remove0FromMetric(metric)\n",
    "        l_actual = list(actual.values())\n",
    "        l_actual = [x for x in l_actual if x==x] # get rid of nans\n",
    "        mean, std, median, max, min = np.mean(l_actual), np.std(l_actual), np.median(l_actual), np.max(l_actual), np.min(l_actual)\n",
    "        print(mean, std, median, max, min)\n",
    "        plt.hist(l_actual)\n",
    "        if save: plt.savefig(self.checkpoint_path/(metric+'.png'))\n",
    "        #return l_actual\n",
    "    \n",
    "    def showPrediction(self, id):\n",
    "        self.learner.model.eval()\n",
    "        batch = self.learner.data.one_batch(ds_type=DatasetType.Valid, denorm=False, detach=True, cpu=False)\n",
    "        img = self.learner.data.one_batch(ds_type=DatasetType.Valid, denorm=True, detach=True, cpu=True)[0]\n",
    "        xb = batch[0][id]#.permute(1,2,0).cpu()\n",
    "        yb = batch[1][id][0]#.permute(1,2,0).cpu()\n",
    "        pb = self.learner.model(xb.unsqueeze(0).cuda())[0]\n",
    "        #print(xb.size(), yb.size(), pb.size())\n",
    "        fig, (axim, axl, axp) = plt.subplots(nrows=1, ncols=3, figsize=(16, 3.5),\n",
    "                    subplot_kw={'xticks': [], 'yticks': []})\n",
    "        #images\n",
    "        im = axim.imshow(img[id].permute(1,2,0)[:,:,0])\n",
    "        axim.set_title('Image')\n",
    "        l = axl.imshow(yb.cpu())\n",
    "        axl.set_title('Label')\n",
    "        p = axp.imshow(torch.argmax(pb.detach().cpu(), dim=0))\n",
    "        print()\n",
    "        axp.set_title('Pred')\n",
    "        \n",
    "        #return xb.size(), yb.size(), pb.size()"
   ]
  },
  {
   "cell_type": "code",
   "execution_count": 22,
   "metadata": {},
   "outputs": [],
   "source": [
    "CapsAnalysis = Analysis(learn, run_dir)"
   ]
  },
  {
   "cell_type": "code",
   "execution_count": 23,
   "metadata": {},
   "outputs": [
    {
     "name": "stdout",
     "output_type": "stream",
     "text": [
      "\n"
     ]
    },
    {
     "data": {
      "image/png": "[encoded data removed]",
      "text/plain": [
       "<Figure size 1152x252 with 3 Axes>"
      ]
     },
     "metadata": {},
     "output_type": "display_data"
    }
   ],
   "source": [
    "CapsAnalysis.showPrediction(10)"
   ]
  },
  {
   "cell_type": "code",
   "execution_count": 24,
   "metadata": {},
   "outputs": [
    {
     "data": {
      "text/plain": [
       "<matplotlib.axes._subplots.AxesSubplot at 0x2b528f3e8dd0>"
      ]
     },
     "execution_count": 24,
     "metadata": {},
     "output_type": "execute_result"
    },
    {
     "data": {
      "image/png": "[encoded data removed]",
      "text/plain": [
       "<Figure size 432x288 with 1 Axes>"
      ]
     },
     "metadata": {
      "needs_background": "light"
     },
     "output_type": "display_data"
    }
   ],
   "source": [
    "CapsAnalysis.trainL.sort_index().plot.line()"
   ]
  },
  {
   "cell_type": "code",
   "execution_count": 25,
   "metadata": {},
   "outputs": [
    {
     "data": {
      "text/plain": [
       "<matplotlib.axes._subplots.AxesSubplot at 0x2b528f3a9250>"
      ]
     },
     "execution_count": 25,
     "metadata": {},
     "output_type": "execute_result"
    },
    {
     "data": {
      "image/png": "[encoded data removed]",
      "text/plain": [
       "<Figure size 432x288 with 1 Axes>"
      ]
     },
     "metadata": {
      "needs_background": "light"
     },
     "output_type": "display_data"
    }
   ],
   "source": [
    "CapsAnalysis.metrics['dice'].sort_index().plot.line()"
   ]
  },
  {
   "cell_type": "code",
   "execution_count": 26,
   "metadata": {},
   "outputs": [],
   "source": [
    "CapsAnalysis.metrics;"
   ]
  },
  {
   "cell_type": "markdown",
   "metadata": {},
   "source": [
    "## test loop"
   ]
  },
  {
   "cell_type": "code",
   "execution_count": 27,
   "metadata": {},
   "outputs": [],
   "source": [
    "learn.model.eval();"
   ]
  },
  {
   "cell_type": "code",
   "execution_count": 28,
   "metadata": {},
   "outputs": [
    {
     "data": {
      "text/plain": [
       "CapsNet(\n",
       "  (get_prim_caps): Get_Primary_Caps(\n",
       "    (relu): ReLU()\n",
       "    (conv1): Conv2d(2, 32, kernel_size=(5, 5), stride=(2, 2), padding=(2, 2))\n",
       "    (conv2): Conv2d(32, 64, kernel_size=(5, 5), stride=(2, 2), padding=(2, 2))\n",
       "  )\n",
       "  (get_abstract_caps1): Get_Abstract_Caps_Down(\n",
       "    (capsconv2d_down): Conv2d(64, 32, kernel_size=(3, 3), stride=(1, 1), padding=(1, 1))\n",
       "    (routing): Agreement_Routing_Down(\n",
       "      (softmax): Softmax(dim=-1)\n",
       "    )\n",
       "  )\n",
       "  (get_abstract_caps1a): Get_Abstract_Caps_Down(\n",
       "    (capsconv2d_down): Conv2d(32, 32, kernel_size=(3, 3), stride=(2, 2), padding=(1, 1))\n",
       "    (routing): Agreement_Routing_Down(\n",
       "      (softmax): Softmax(dim=-1)\n",
       "    )\n",
       "  )\n",
       "  (get_abstract_caps2): Get_Abstract_Caps_Down(\n",
       "    (capsconv2d_down): Conv2d(32, 128, kernel_size=(3, 3), stride=(1, 1), padding=(1, 1))\n",
       "    (routing): Agreement_Routing_Down(\n",
       "      (softmax): Softmax(dim=-1)\n",
       "    )\n",
       "  )\n",
       "  (get_abstract_caps2a): Get_Abstract_Caps_Down(\n",
       "    (capsconv2d_down): Conv2d(128, 128, kernel_size=(3, 3), stride=(2, 2), padding=(1, 1))\n",
       "    (routing): Agreement_Routing_Down(\n",
       "      (softmax): Softmax(dim=-1)\n",
       "    )\n",
       "  )\n",
       "  (get_abstract_caps3): Get_Abstract_Caps_Down(\n",
       "    (capsconv2d_down): Conv2d(128, 512, kernel_size=(3, 3), stride=(1, 1), padding=(1, 1))\n",
       "    (routing): Agreement_Routing_Down(\n",
       "      (softmax): Softmax(dim=-1)\n",
       "    )\n",
       "  )\n",
       "  (get_abstract_caps3a): Get_Abstract_Caps_Down(\n",
       "    (capsconv2d_down): Conv2d(512, 512, kernel_size=(3, 3), stride=(2, 2), padding=(1, 1))\n",
       "    (routing): Agreement_Routing_Down(\n",
       "      (softmax): Softmax(dim=-1)\n",
       "    )\n",
       "  )\n",
       "  (get_abstract_caps_bot): Get_Abstract_Caps_Down(\n",
       "    (capsconv2d_down): Conv2d(512, 512, kernel_size=(1, 1), stride=(1, 1))\n",
       "    (routing): Agreement_Routing_Down(\n",
       "      (softmax): Softmax(dim=-1)\n",
       "    )\n",
       "  )\n",
       "  (get_abstract_caps3u): Get_Abstract_Caps_Up(\n",
       "    (capsconv2d_up): ConvTranspose2d(1024, 128, kernel_size=(3, 3), stride=(2, 2), padding=(2, 2), output_padding=(1, 1))\n",
       "    (routing): Agreement_Routing_Down(\n",
       "      (softmax): Softmax(dim=-1)\n",
       "    )\n",
       "  )\n",
       "  (get_abstract_caps3ua): Get_Abstract_Caps_Down(\n",
       "    (capsconv2d_down): Conv2d(128, 128, kernel_size=(3, 3), stride=(1, 1), padding=(2, 2))\n",
       "    (routing): Agreement_Routing_Down(\n",
       "      (softmax): Softmax(dim=-1)\n",
       "    )\n",
       "  )\n",
       "  (get_abstract_caps2u): Get_Abstract_Caps_Up(\n",
       "    (capsconv2d_up): ConvTranspose2d(256, 32, kernel_size=(3, 3), stride=(2, 2), padding=(2, 2), output_padding=(1, 1))\n",
       "    (routing): Agreement_Routing_Down(\n",
       "      (softmax): Softmax(dim=-1)\n",
       "    )\n",
       "  )\n",
       "  (get_abstract_caps2ua): Get_Abstract_Caps_Down(\n",
       "    (capsconv2d_down): Conv2d(32, 32, kernel_size=(3, 3), stride=(1, 1), padding=(2, 2))\n",
       "    (routing): Agreement_Routing_Down(\n",
       "      (softmax): Softmax(dim=-1)\n",
       "    )\n",
       "  )\n",
       "  (get_abstract_caps1u): Get_Abstract_Caps_Up(\n",
       "    (capsconv2d_up): ConvTranspose2d(64, 64, kernel_size=(3, 3), stride=(2, 2), padding=(2, 2), output_padding=(1, 1))\n",
       "    (routing): Agreement_Routing_Down(\n",
       "      (softmax): Softmax(dim=-1)\n",
       "    )\n",
       "  )\n",
       "  (get_abstract_caps1ua): Get_Abstract_Caps_Down(\n",
       "    (capsconv2d_down): Conv2d(64, 64, kernel_size=(3, 3), stride=(1, 1), padding=(2, 2))\n",
       "    (routing): Agreement_Routing_Down(\n",
       "      (softmax): Softmax(dim=-1)\n",
       "    )\n",
       "  )\n",
       "  (get_abstract_caps_final1): Get_Abstract_Caps_Up(\n",
       "    (capsconv2d_up): ConvTranspose2d(128, 16, kernel_size=(3, 3), stride=(2, 2), padding=(1, 1), output_padding=(1, 1))\n",
       "    (routing): Agreement_Routing_Down(\n",
       "      (softmax): Softmax(dim=-1)\n",
       "    )\n",
       "  )\n",
       "  (get_abstract_caps_final2): Get_Abstract_Caps_Up(\n",
       "    (smoother): GaussianSmoothing()\n",
       "    (capsconv2d_up): ConvTranspose2d(16, 32, kernel_size=(3, 3), stride=(2, 2), padding=(1, 1), output_padding=(1, 1))\n",
       "    (routing): Agreement_Routing_Down(\n",
       "      (softmax): Softmax(dim=-1)\n",
       "    )\n",
       "  )\n",
       ")"
      ]
     },
     "execution_count": 28,
     "metadata": {},
     "output_type": "execute_result"
    }
   ],
   "source": [
    "learn.model.cpu()"
   ]
  },
  {
   "cell_type": "code",
   "execution_count": 29,
   "metadata": {},
   "outputs": [],
   "source": [
    "xb,yb=data.one_batch(ds_type=DatasetType.Valid , denorm=False,cpu=True)"
   ]
  },
  {
   "cell_type": "code",
   "execution_count": 30,
   "metadata": {},
   "outputs": [
    {
     "name": "stdout",
     "output_type": "stream",
     "text": [
      "CPU times: user 53.1 s, sys: 12 s, total: 1min 5s\n",
      "Wall time: 8.54 s\n"
     ]
    }
   ],
   "source": [
    "%%time \n",
    "pb = learn.model(xb)"
   ]
  },
  {
   "cell_type": "code",
   "execution_count": 31,
   "metadata": {},
   "outputs": [
    {
     "data": {
      "text/plain": [
       "torch.Size([48, 2, 256, 256])"
      ]
     },
     "execution_count": 31,
     "metadata": {},
     "output_type": "execute_result"
    }
   ],
   "source": [
    "xb.size()"
   ]
  },
  {
   "cell_type": "code",
   "execution_count": 32,
   "metadata": {},
   "outputs": [],
   "source": [
    "learn.model.eval();"
   ]
  },
  {
   "cell_type": "code",
   "execution_count": 33,
   "metadata": {},
   "outputs": [
    {
     "data": {
      "text/plain": [
       "0.25735294117647056"
      ]
     },
     "execution_count": 33,
     "metadata": {},
     "output_type": "execute_result"
    }
   ],
   "source": [
    "35/136"
   ]
  },
  {
   "cell_type": "code",
   "execution_count": null,
   "metadata": {},
   "outputs": [],
   "source": [
    "data.show_batch(ds_type=DatasetType.Valid)"
   ]
  },
  {
   "cell_type": "code",
   "execution_count": 35,
   "metadata": {},
   "outputs": [],
   "source": [
    "deepCap = CapsNet(config.MODEL).cuda()\n",
    "learn = Learner(data = data,\n",
    "                  model = deepCap,\n",
    "                  metrics = metrics)"
   ]
  },
  {
   "cell_type": "code",
   "execution_count": 36,
   "metadata": {},
   "outputs": [],
   "source": [
    "learn = learn.load(run_dir/'learner')"
   ]
  },
  {
   "cell_type": "code",
   "execution_count": 37,
   "metadata": {},
   "outputs": [],
   "source": [
    "learn.model.eval();"
   ]
  },
  {
   "cell_type": "code",
   "execution_count": 38,
   "metadata": {},
   "outputs": [],
   "source": [
    "learn.model.cuda();"
   ]
  },
  {
   "cell_type": "code",
   "execution_count": 39,
   "metadata": {},
   "outputs": [
    {
     "data": {
      "text/html": [],
      "text/plain": [
       "<IPython.core.display.HTML object>"
      ]
     },
     "metadata": {},
     "output_type": "display_data"
    },
    {
     "name": "stdout",
     "output_type": "stream",
     "text": [
      "CPU times: user 6.64 s, sys: 1.75 s, total: 8.39 s\n",
      "Wall time: 26.3 s\n"
     ]
    }
   ],
   "source": [
    "%%time\n",
    "preds,targs = learn.get_preds()"
   ]
  },
  {
   "cell_type": "code",
   "execution_count": 40,
   "metadata": {},
   "outputs": [
    {
     "data": {
      "text/plain": [
       "0.8164556962025317"
      ]
     },
     "execution_count": 40,
     "metadata": {},
     "output_type": "execute_result"
    }
   ],
   "source": [
    "12.9/15.8"
   ]
  },
  {
   "cell_type": "code",
   "execution_count": 41,
   "metadata": {},
   "outputs": [
    {
     "data": {
      "text/plain": [
       "(torch.Size([909, 2, 256, 256]), torch.Size([909, 1, 256, 256]))"
      ]
     },
     "execution_count": 41,
     "metadata": {},
     "output_type": "execute_result"
    }
   ],
   "source": [
    "preds.size(), targs.size()"
   ]
  },
  {
   "cell_type": "code",
   "execution_count": 42,
   "metadata": {},
   "outputs": [
    {
     "data": {
      "text/plain": [
       "<matplotlib.image.AxesImage at 0x2b53dc1585d0>"
      ]
     },
     "execution_count": 42,
     "metadata": {},
     "output_type": "execute_result"
    },
    {
     "data": {
      "image/png": "[encoded data removed]",
      "text/plain": [
       "<Figure size 432x288 with 1 Axes>"
      ]
     },
     "metadata": {
      "needs_background": "light"
     },
     "output_type": "display_data"
    }
   ],
   "source": [
    "plt.imshow(targs[100,0])"
   ]
  },
  {
   "cell_type": "code",
   "execution_count": 43,
   "metadata": {},
   "outputs": [
    {
     "data": {
      "text/plain": [
       "(<matplotlib.image.AxesImage at 0x2b53dc073390>, 0.9396078586578369)"
      ]
     },
     "execution_count": 43,
     "metadata": {},
     "output_type": "execute_result"
    },
    {
     "data": {
      "image/png": "[encoded data removed]",
      "text/plain": [
       "<Figure size 432x288 with 1 Axes>"
      ]
     },
     "metadata": {
      "needs_background": "light"
     },
     "output_type": "display_data"
    }
   ],
   "source": [
    "n = 108\n",
    "plt.imshow(preds[n,1]), dice(preds[n].unsqueeze(0), targs[n].unsqueeze(0)).item()"
   ]
  },
  {
   "cell_type": "code",
   "execution_count": 44,
   "metadata": {},
   "outputs": [
    {
     "name": "stdout",
     "output_type": "stream",
     "text": [
      "CPU times: user 23min 33s, sys: 52.6 s, total: 24min 26s\n",
      "Wall time: 1min 29s\n"
     ]
    }
   ],
   "source": [
    "%%time\n",
    "recorder = []\n",
    "for p,y in iter(zip(preds,targs)): \n",
    "    p = p.unsqueeze(0)\n",
    "    y = y.unsqueeze(0)\n",
    "    recorder.append([met(p, y).item() for met in metrics])"
   ]
  },
  {
   "cell_type": "code",
   "execution_count": 45,
   "metadata": {},
   "outputs": [],
   "source": [
    "test_results = pd.DataFrame(recorder, columns=[met.__name__ for met in learn.metrics])"
   ]
  },
  {
   "cell_type": "code",
   "execution_count": 46,
   "metadata": {},
   "outputs": [
    {
     "data": {
      "text/plain": [
       "sens            0.888777\n",
       "spec            0.992011\n",
       "dice            0.934831\n",
       "my_Dice_Loss    0.880126\n",
       "acc             0.035721\n",
       "dtype: float64"
      ]
     },
     "execution_count": 46,
     "metadata": {},
     "output_type": "execute_result"
    }
   ],
   "source": [
    "test_results.mean(axis=0)"
   ]
  },
  {
   "cell_type": "code",
   "execution_count": 47,
   "metadata": {},
   "outputs": [
    {
     "data": {
      "text/plain": [
       "sens            0.130056\n",
       "spec            0.014430\n",
       "dice            0.091990\n",
       "my_Dice_Loss    0.029528\n",
       "acc             0.000000\n",
       "dtype: float64"
      ]
     },
     "execution_count": 47,
     "metadata": {},
     "output_type": "execute_result"
    }
   ],
   "source": [
    "test_results.std(axis=0)"
   ]
  },
  {
   "cell_type": "code",
   "execution_count": 48,
   "metadata": {},
   "outputs": [
    {
     "data": {
      "text/plain": [
       "sens            0.937488\n",
       "spec            0.995923\n",
       "dice            0.967736\n",
       "my_Dice_Loss    0.878902\n",
       "acc             0.035721\n",
       "dtype: float64"
      ]
     },
     "execution_count": 48,
     "metadata": {},
     "output_type": "execute_result"
    }
   ],
   "source": [
    "test_results.median(axis=0)"
   ]
  },
  {
   "cell_type": "code",
   "execution_count": 49,
   "metadata": {},
   "outputs": [
    {
     "data": {
      "text/plain": [
       "sens            0.134252\n",
       "spec            0.817474\n",
       "dice            0.236723\n",
       "my_Dice_Loss    0.796850\n",
       "acc             0.035721\n",
       "dtype: float64"
      ]
     },
     "execution_count": 49,
     "metadata": {},
     "output_type": "execute_result"
    }
   ],
   "source": [
    "test_results.min(axis=0)"
   ]
  },
  {
   "cell_type": "code",
   "execution_count": 50,
   "metadata": {},
   "outputs": [
    {
     "data": {
      "text/plain": [
       "sens            0.981576\n",
       "spec            0.998941\n",
       "dice            0.990702\n",
       "my_Dice_Loss    0.945615\n",
       "acc             0.035721\n",
       "dtype: float64"
      ]
     },
     "execution_count": 50,
     "metadata": {},
     "output_type": "execute_result"
    }
   ],
   "source": [
    "test_results.max(axis=0)"
   ]
  },
  {
   "cell_type": "code",
   "execution_count": 51,
   "metadata": {},
   "outputs": [
    {
     "data": {
      "text/plain": [
       "<matplotlib.axes._subplots.AxesSubplot at 0x2b53dc5bde50>"
      ]
     },
     "execution_count": 51,
     "metadata": {},
     "output_type": "execute_result"
    },
    {
     "data": {
      "image/png": "[encoded data removed]",
      "text/plain": [
       "<Figure size 432x288 with 1 Axes>"
      ]
     },
     "metadata": {
      "needs_background": "light"
     },
     "output_type": "display_data"
    }
   ],
   "source": [
    "test_results['dice'].plot.line()"
   ]
  },
  {
   "cell_type": "code",
   "execution_count": 52,
   "metadata": {},
   "outputs": [
    {
     "data": {
      "text/plain": [
       "<matplotlib.axes._subplots.AxesSubplot at 0x2b53dc73e4d0>"
      ]
     },
     "execution_count": 52,
     "metadata": {},
     "output_type": "execute_result"
    },
    {
     "data": {
      "image/png": "[encoded data removed]",
      "text/plain": [
       "<Figure size 432x288 with 1 Axes>"
      ]
     },
     "metadata": {
      "needs_background": "light"
     },
     "output_type": "display_data"
    }
   ],
   "source": [
    "test_results['dice'].plot.hist()"
   ]
  },
  {
   "cell_type": "code",
   "execution_count": 53,
   "metadata": {},
   "outputs": [],
   "source": [
    "test_results.to_json(run_dir/'test_results.json')"
   ]
  },
  {
   "cell_type": "code",
   "execution_count": 54,
   "metadata": {},
   "outputs": [
    {
     "data": {
      "text/html": [
       "<div>\n",
       "<style scoped>\n",
       "    .dataframe tbody tr th:only-of-type {\n",
       "        vertical-align: middle;\n",
       "    }\n",
       "\n",
       "    .dataframe tbody tr th {\n",
       "        vertical-align: top;\n",
       "    }\n",
       "\n",
       "    .dataframe thead th {\n",
       "        text-align: right;\n",
       "    }\n",
       "</style>\n",
       "<table border=\"1\" class=\"dataframe\">\n",
       "  <thead>\n",
       "    <tr style=\"text-align: right;\">\n",
       "      <th></th>\n",
       "      <th>sens</th>\n",
       "      <th>spec</th>\n",
       "      <th>dice</th>\n",
       "      <th>my_Dice_Loss</th>\n",
       "      <th>acc</th>\n",
       "    </tr>\n",
       "  </thead>\n",
       "  <tbody>\n",
       "    <tr>\n",
       "      <th>614</th>\n",
       "      <td>0.134252</td>\n",
       "      <td>0.819648</td>\n",
       "      <td>0.236723</td>\n",
       "      <td>0.943254</td>\n",
       "      <td>0.035721</td>\n",
       "    </tr>\n",
       "    <tr>\n",
       "      <th>286</th>\n",
       "      <td>0.276248</td>\n",
       "      <td>0.868552</td>\n",
       "      <td>0.432907</td>\n",
       "      <td>0.886741</td>\n",
       "      <td>0.035721</td>\n",
       "    </tr>\n",
       "    <tr>\n",
       "      <th>180</th>\n",
       "      <td>0.281411</td>\n",
       "      <td>0.817474</td>\n",
       "      <td>0.439220</td>\n",
       "      <td>0.850647</td>\n",
       "      <td>0.035721</td>\n",
       "    </tr>\n",
       "    <tr>\n",
       "      <th>70</th>\n",
       "      <td>0.313281</td>\n",
       "      <td>0.958107</td>\n",
       "      <td>0.477096</td>\n",
       "      <td>0.892859</td>\n",
       "      <td>0.035721</td>\n",
       "    </tr>\n",
       "    <tr>\n",
       "      <th>706</th>\n",
       "      <td>0.314312</td>\n",
       "      <td>0.965544</td>\n",
       "      <td>0.478291</td>\n",
       "      <td>0.903278</td>\n",
       "      <td>0.035721</td>\n",
       "    </tr>\n",
       "    <tr>\n",
       "      <th>...</th>\n",
       "      <td>...</td>\n",
       "      <td>...</td>\n",
       "      <td>...</td>\n",
       "      <td>...</td>\n",
       "      <td>...</td>\n",
       "    </tr>\n",
       "    <tr>\n",
       "      <th>169</th>\n",
       "      <td>0.979472</td>\n",
       "      <td>0.998460</td>\n",
       "      <td>0.989629</td>\n",
       "      <td>0.852703</td>\n",
       "      <td>0.035721</td>\n",
       "    </tr>\n",
       "    <tr>\n",
       "      <th>418</th>\n",
       "      <td>0.980124</td>\n",
       "      <td>0.998368</td>\n",
       "      <td>0.989962</td>\n",
       "      <td>0.843170</td>\n",
       "      <td>0.035721</td>\n",
       "    </tr>\n",
       "    <tr>\n",
       "      <th>31</th>\n",
       "      <td>0.980967</td>\n",
       "      <td>0.998575</td>\n",
       "      <td>0.990392</td>\n",
       "      <td>0.847631</td>\n",
       "      <td>0.035721</td>\n",
       "    </tr>\n",
       "    <tr>\n",
       "      <th>744</th>\n",
       "      <td>0.981445</td>\n",
       "      <td>0.998448</td>\n",
       "      <td>0.990636</td>\n",
       "      <td>0.848267</td>\n",
       "      <td>0.035721</td>\n",
       "    </tr>\n",
       "    <tr>\n",
       "      <th>527</th>\n",
       "      <td>0.981576</td>\n",
       "      <td>0.998447</td>\n",
       "      <td>0.990702</td>\n",
       "      <td>0.845139</td>\n",
       "      <td>0.035721</td>\n",
       "    </tr>\n",
       "  </tbody>\n",
       "</table>\n",
       "<p>909 rows × 5 columns</p>\n",
       "</div>"
      ],
      "text/plain": [
       "         sens      spec      dice  my_Dice_Loss       acc\n",
       "614  0.134252  0.819648  0.236723      0.943254  0.035721\n",
       "286  0.276248  0.868552  0.432907      0.886741  0.035721\n",
       "180  0.281411  0.817474  0.439220      0.850647  0.035721\n",
       "70   0.313281  0.958107  0.477096      0.892859  0.035721\n",
       "706  0.314312  0.965544  0.478291      0.903278  0.035721\n",
       "..        ...       ...       ...           ...       ...\n",
       "169  0.979472  0.998460  0.989629      0.852703  0.035721\n",
       "418  0.980124  0.998368  0.989962      0.843170  0.035721\n",
       "31   0.980967  0.998575  0.990392      0.847631  0.035721\n",
       "744  0.981445  0.998448  0.990636      0.848267  0.035721\n",
       "527  0.981576  0.998447  0.990702      0.845139  0.035721\n",
       "\n",
       "[909 rows x 5 columns]"
      ]
     },
     "execution_count": 54,
     "metadata": {},
     "output_type": "execute_result"
    }
   ],
   "source": [
    "test_results.sort_values(by='dice')"
   ]
  },
  {
   "cell_type": "code",
   "execution_count": 55,
   "metadata": {},
   "outputs": [
    {
     "data": {
      "image/jpeg": "[encoded data removed]",
      "image/png": "[encoded data removed]",
      "text/plain": [
       "Image (3, 512, 512)"
      ]
     },
     "execution_count": 55,
     "metadata": {},
     "output_type": "execute_result"
    }
   ],
   "source": [
    "learn.data.valid_ds.x[111]"
   ]
  },
  {
   "cell_type": "code",
   "execution_count": 56,
   "metadata": {},
   "outputs": [
    {
     "data": {
      "text/plain": [
       "<matplotlib.image.AxesImage at 0x2b53dc823fd0>"
      ]
     },
     "execution_count": 56,
     "metadata": {},
     "output_type": "execute_result"
    },
    {
     "data": {
      "image/png": "[encoded data removed]",
      "text/plain": [
       "<Figure size 432x288 with 1 Axes>"
      ]
     },
     "metadata": {
      "needs_background": "light"
     },
     "output_type": "display_data"
    }
   ],
   "source": [
    "plt.imshow(preds[111][1])"
   ]
  },
  {
   "cell_type": "code",
   "execution_count": 57,
   "metadata": {},
   "outputs": [
    {
     "data": {
      "text/plain": [
       "<matplotlib.image.AxesImage at 0x2b53dc88ed50>"
      ]
     },
     "execution_count": 57,
     "metadata": {},
     "output_type": "execute_result"
    },
    {
     "data": {
      "image/png": "[encoded data removed]",
      "text/plain": [
       "<Figure size 432x288 with 1 Axes>"
      ]
     },
     "metadata": {
      "needs_background": "light"
     },
     "output_type": "display_data"
    }
   ],
   "source": [
    "plt.imshow(targs[111][0])"
   ]
  },
  {
   "cell_type": "code",
   "execution_count": 166,
   "metadata": {},
   "outputs": [
    {
     "data": {
      "text/html": [],
      "text/plain": [
       "<IPython.core.display.HTML object>"
      ]
     },
     "metadata": {},
     "output_type": "display_data"
    },
    {
     "data": {
      "text/plain": [
       "[0.31771377,\n",
       " tensor(0.9490),\n",
       " tensor(0.9965),\n",
       " tensor(0.9725),\n",
       " tensor(-4.5412),\n",
       " tensor(0.9404)]"
      ]
     },
     "execution_count": 166,
     "metadata": {},
     "output_type": "execute_result"
    }
   ],
   "source": [
    "learn.validate(metrics=metrics)"
   ]
  },
  {
   "cell_type": "code",
   "execution_count": null,
   "metadata": {},
   "outputs": [],
   "source": []
  }
 ],
 "metadata": {
  "kernelspec": {
   "display_name": "Python 3",
   "language": "python",
   "name": "python3"
  },
  "language_info": {
   "codemirror_mode": {
    "name": "ipython",
    "version": 3
   },
   "file_extension": ".py",
   "mimetype": "text/x-python",
   "name": "python",
   "nbconvert_exporter": "python",
   "pygments_lexer": "ipython3",
   "version": "3.7.7"
  }
 },
 "nbformat": 4,
 "nbformat_minor": 4
}

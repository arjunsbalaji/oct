{
 "cells": [
  {
   "cell_type": "code",
   "execution_count": 2,
   "metadata": {},
   "outputs": [],
   "source": [
    "from oct.startup import *\n",
    "import matplotlib.pyplot as plt\n",
    "from pathlib import Path\n",
    "import sys, os\n",
    "from fastai.vision import *\n",
    "import pandas as pd"
   ]
  },
  {
   "cell_type": "code",
   "execution_count": 3,
   "metadata": {},
   "outputs": [],
   "source": [
    "cocodata_path = Path('/workspace/oct_ca_seg/COCOdata/')\n",
    "train_path = cocodata_path/'train/images'\n",
    "valid_path = cocodata_path/'valid/images'\n",
    "test_path = cocodata_path/'test/images'"
   ]
  },
  {
   "cell_type": "code",
   "execution_count": 4,
   "metadata": {},
   "outputs": [],
   "source": [
    "metrics = [sens, spec, dice, my_Dice_Loss, acc]"
   ]
  },
  {
   "cell_type": "code",
   "execution_count": 5,
   "metadata": {},
   "outputs": [],
   "source": [
    "runsave_dir = Path('/workspace/oct_ca_seg/runsaves/')"
   ]
  },
  {
   "cell_type": "code",
   "execution_count": 6,
   "metadata": {},
   "outputs": [],
   "source": [
    "up_run_name = 'DEEPCAP_09start_10e_001lr_fsmooth_upsample' #best\n",
    "up_cfg_file = 'DEEPCAP_09start_10e_001lr_fsmooth_upsample'"
   ]
  },
  {
   "cell_type": "code",
   "execution_count": 7,
   "metadata": {},
   "outputs": [],
   "source": [
    "de_run_name = 'DEEPCAP_09start_10e_001lr_fsmooth_deconv_in012' #best\n",
    "de_cfg_file = 'DEEPCAP_09start_10e_001lr_fsmooth_deconv_in012'"
   ]
  },
  {
   "cell_type": "code",
   "execution_count": 8,
   "metadata": {},
   "outputs": [],
   "source": [
    "de_run_name_0 = 'DEEPCAP_09start_10e_001lr_fsmooth_deconv_in0' #best\n",
    "de_cfg_file_0 = 'DEEPCAP_09start_10e_001lr_fsmooth_deconv_in0'"
   ]
  },
  {
   "cell_type": "code",
   "execution_count": 9,
   "metadata": {},
   "outputs": [],
   "source": [
    "de_run_name_01 = 'DEEPCAP_09start_10e_001lr_fsmooth_deconv_in01' #best\n",
    "de_cfg_file_01 = 'DEEPCAP_09start_10e_001lr_fsmooth_deconv_in01'"
   ]
  },
  {
   "cell_type": "code",
   "execution_count": 10,
   "metadata": {},
   "outputs": [],
   "source": [
    "de_run_name_02 = 'DEEPCAP_09start_10e_001lr_fsmooth_deconv_in02' #best\n",
    "de_cfg_file_02 = 'DEEPCAP_09start_10e_001lr_fsmooth_deconv_in02'"
   ]
  },
  {
   "cell_type": "code",
   "execution_count": 11,
   "metadata": {},
   "outputs": [],
   "source": [
    "de_test_results = pd.read_json(runsave_dir/(de_run_name+'/test_results.json'))\n",
    "de_0_test_results = pd.read_json(runsave_dir/(de_run_name_0+'/test_results.json'))\n",
    "de_01_test_results = pd.read_json(runsave_dir/(de_run_name_01+'/test_results.json'))\n",
    "de_02_test_results = pd.read_json(runsave_dir/(de_run_name_02+'/test_results.json'))\n",
    "up_test_results = pd.read_json(runsave_dir/(up_run_name+'/test_results.json'))"
   ]
  },
  {
   "cell_type": "code",
   "execution_count": 12,
   "metadata": {},
   "outputs": [
    {
     "data": {
      "text/plain": [
       "[Text(0, 0, 'ALL'), Text(0, 0, 'IM'), Text(0, 0, '2DG'), Text(0, 0, 'ADM')]"
      ]
     },
     "execution_count": 12,
     "metadata": {},
     "output_type": "execute_result"
    },
    {
     "data": {
      "image/png": "[encoded data removed]",
      "text/plain": [
       "<Figure size 432x288 with 1 Axes>"
      ]
     },
     "metadata": {
      "needs_background": "light"
     },
     "output_type": "display_data"
    }
   ],
   "source": [
    "fig, ax = plt.subplots() \n",
    "font = {'family': 'serif',\n",
    "        'color':  'darkred',\n",
    "        'weight': 'normal',\n",
    "        'size': 16,\n",
    "        }\n",
    "meanpointprops = dict(marker='D', markeredgecolor='firebrick',\n",
    "                      markerfacecolor='firebrick')\n",
    "medianprops = dict(linestyle='--', linewidth=1.5, color='black')\n",
    "ax.boxplot([de_test_results['dice'],\n",
    "             de_0_test_results['dice'],\n",
    "             de_01_test_results['dice'],\n",
    "             de_02_test_results['dice']], showfliers=False, whis=[5,95], labels=['ALL', 'IM', 'ADM', '2DG'], showmeans=True, meanprops=meanpointprops, medianprops=medianprops)\n",
    "plt.ylabel('Dice Score', fontsize=14)\n",
    "plt.rc('ytick', labelsize=10) \n",
    "ax.set_xticklabels(['ALL', 'IM', '2DG', 'ADM'], fontsize=14)"
   ]
  },
  {
   "cell_type": "markdown",
   "metadata": {},
   "source": [
    "fig.savefig('/workspace/oct_ca_seg/oct/optinputs', dpi=800)"
   ]
  },
  {
   "cell_type": "markdown",
   "metadata": {},
   "source": [
    "## means"
   ]
  },
  {
   "cell_type": "code",
   "execution_count": 13,
   "metadata": {},
   "outputs": [],
   "source": [
    "def results_table(results_df):\n",
    "    return (pd.concat([results_df.mean(axis=0),\n",
    "           results_df.std(axis=0),\n",
    "           results_df.median(axis=0),\n",
    "           results_df.min(axis=0),\n",
    "           results_df.max(axis=0)], axis=1).\n",
    "            rename(columns={0:'mean',1:'std',2:'median',3:'min',4:'max'}))"
   ]
  },
  {
   "cell_type": "code",
   "execution_count": 14,
   "metadata": {},
   "outputs": [
    {
     "data": {
      "text/html": [
       "<div>\n",
       "<style scoped>\n",
       "    .dataframe tbody tr th:only-of-type {\n",
       "        vertical-align: middle;\n",
       "    }\n",
       "\n",
       "    .dataframe tbody tr th {\n",
       "        vertical-align: top;\n",
       "    }\n",
       "\n",
       "    .dataframe thead th {\n",
       "        text-align: right;\n",
       "    }\n",
       "</style>\n",
       "<table border=\"1\" class=\"dataframe\">\n",
       "  <thead>\n",
       "    <tr style=\"text-align: right;\">\n",
       "      <th></th>\n",
       "      <th>mean</th>\n",
       "      <th>std</th>\n",
       "      <th>median</th>\n",
       "      <th>min</th>\n",
       "      <th>max</th>\n",
       "    </tr>\n",
       "  </thead>\n",
       "  <tbody>\n",
       "    <tr>\n",
       "      <th>sens</th>\n",
       "      <td>93.24</td>\n",
       "      <td>8.42</td>\n",
       "      <td>95.62</td>\n",
       "      <td>31.62</td>\n",
       "      <td>98.60</td>\n",
       "    </tr>\n",
       "    <tr>\n",
       "      <th>spec</th>\n",
       "      <td>99.54</td>\n",
       "      <td>0.77</td>\n",
       "      <td>99.72</td>\n",
       "      <td>89.39</td>\n",
       "      <td>99.93</td>\n",
       "    </tr>\n",
       "    <tr>\n",
       "      <th>dice</th>\n",
       "      <td>96.25</td>\n",
       "      <td>5.74</td>\n",
       "      <td>97.76</td>\n",
       "      <td>48.05</td>\n",
       "      <td>99.30</td>\n",
       "    </tr>\n",
       "    <tr>\n",
       "      <th>my_Dice_Loss</th>\n",
       "      <td>87.97</td>\n",
       "      <td>2.95</td>\n",
       "      <td>87.83</td>\n",
       "      <td>79.69</td>\n",
       "      <td>94.56</td>\n",
       "    </tr>\n",
       "    <tr>\n",
       "      <th>acc</th>\n",
       "      <td>3.57</td>\n",
       "      <td>0.00</td>\n",
       "      <td>3.57</td>\n",
       "      <td>3.57</td>\n",
       "      <td>3.57</td>\n",
       "    </tr>\n",
       "  </tbody>\n",
       "</table>\n",
       "</div>"
      ],
      "text/plain": [
       "               mean   std  median    min    max\n",
       "sens          93.24  8.42   95.62  31.62  98.60\n",
       "spec          99.54  0.77   99.72  89.39  99.93\n",
       "dice          96.25  5.74   97.76  48.05  99.30\n",
       "my_Dice_Loss  87.97  2.95   87.83  79.69  94.56\n",
       "acc            3.57  0.00    3.57   3.57   3.57"
      ]
     },
     "execution_count": 14,
     "metadata": {},
     "output_type": "execute_result"
    }
   ],
   "source": [
    "results_table(de_test_results).round(4)*100"
   ]
  },
  {
   "cell_type": "code",
   "execution_count": 15,
   "metadata": {},
   "outputs": [
    {
     "data": {
      "text/html": [
       "<div>\n",
       "<style scoped>\n",
       "    .dataframe tbody tr th:only-of-type {\n",
       "        vertical-align: middle;\n",
       "    }\n",
       "\n",
       "    .dataframe tbody tr th {\n",
       "        vertical-align: top;\n",
       "    }\n",
       "\n",
       "    .dataframe thead th {\n",
       "        text-align: right;\n",
       "    }\n",
       "</style>\n",
       "<table border=\"1\" class=\"dataframe\">\n",
       "  <thead>\n",
       "    <tr style=\"text-align: right;\">\n",
       "      <th></th>\n",
       "      <th>mean</th>\n",
       "      <th>std</th>\n",
       "      <th>median</th>\n",
       "      <th>min</th>\n",
       "      <th>max</th>\n",
       "    </tr>\n",
       "  </thead>\n",
       "  <tbody>\n",
       "    <tr>\n",
       "      <th>sens</th>\n",
       "      <td>86.73</td>\n",
       "      <td>11.89</td>\n",
       "      <td>91.52</td>\n",
       "      <td>35.46</td>\n",
       "      <td>98.21</td>\n",
       "    </tr>\n",
       "    <tr>\n",
       "      <th>spec</th>\n",
       "      <td>99.11</td>\n",
       "      <td>0.91</td>\n",
       "      <td>99.45</td>\n",
       "      <td>93.08</td>\n",
       "      <td>99.86</td>\n",
       "    </tr>\n",
       "    <tr>\n",
       "      <th>dice</th>\n",
       "      <td>92.39</td>\n",
       "      <td>7.98</td>\n",
       "      <td>95.57</td>\n",
       "      <td>52.36</td>\n",
       "      <td>99.10</td>\n",
       "    </tr>\n",
       "    <tr>\n",
       "      <th>my_Dice_Loss</th>\n",
       "      <td>87.96</td>\n",
       "      <td>2.96</td>\n",
       "      <td>87.81</td>\n",
       "      <td>79.69</td>\n",
       "      <td>94.56</td>\n",
       "    </tr>\n",
       "    <tr>\n",
       "      <th>acc</th>\n",
       "      <td>3.57</td>\n",
       "      <td>0.00</td>\n",
       "      <td>3.57</td>\n",
       "      <td>3.57</td>\n",
       "      <td>3.57</td>\n",
       "    </tr>\n",
       "  </tbody>\n",
       "</table>\n",
       "</div>"
      ],
      "text/plain": [
       "               mean    std  median    min    max\n",
       "sens          86.73  11.89   91.52  35.46  98.21\n",
       "spec          99.11   0.91   99.45  93.08  99.86\n",
       "dice          92.39   7.98   95.57  52.36  99.10\n",
       "my_Dice_Loss  87.96   2.96   87.81  79.69  94.56\n",
       "acc            3.57   0.00    3.57   3.57   3.57"
      ]
     },
     "execution_count": 15,
     "metadata": {},
     "output_type": "execute_result"
    }
   ],
   "source": [
    "results_table(de_0_test_results).round(4)*100"
   ]
  },
  {
   "cell_type": "code",
   "execution_count": 16,
   "metadata": {},
   "outputs": [
    {
     "data": {
      "text/html": [
       "<div>\n",
       "<style scoped>\n",
       "    .dataframe tbody tr th:only-of-type {\n",
       "        vertical-align: middle;\n",
       "    }\n",
       "\n",
       "    .dataframe tbody tr th {\n",
       "        vertical-align: top;\n",
       "    }\n",
       "\n",
       "    .dataframe thead th {\n",
       "        text-align: right;\n",
       "    }\n",
       "</style>\n",
       "<table border=\"1\" class=\"dataframe\">\n",
       "  <thead>\n",
       "    <tr style=\"text-align: right;\">\n",
       "      <th></th>\n",
       "      <th>mean</th>\n",
       "      <th>std</th>\n",
       "      <th>median</th>\n",
       "      <th>min</th>\n",
       "      <th>max</th>\n",
       "    </tr>\n",
       "  </thead>\n",
       "  <tbody>\n",
       "    <tr>\n",
       "      <th>sens</th>\n",
       "      <td>88.88</td>\n",
       "      <td>13.01</td>\n",
       "      <td>93.75</td>\n",
       "      <td>13.43</td>\n",
       "      <td>98.16</td>\n",
       "    </tr>\n",
       "    <tr>\n",
       "      <th>spec</th>\n",
       "      <td>99.20</td>\n",
       "      <td>1.44</td>\n",
       "      <td>99.59</td>\n",
       "      <td>81.75</td>\n",
       "      <td>99.89</td>\n",
       "    </tr>\n",
       "    <tr>\n",
       "      <th>dice</th>\n",
       "      <td>93.48</td>\n",
       "      <td>9.20</td>\n",
       "      <td>96.77</td>\n",
       "      <td>23.67</td>\n",
       "      <td>99.07</td>\n",
       "    </tr>\n",
       "    <tr>\n",
       "      <th>my_Dice_Loss</th>\n",
       "      <td>88.01</td>\n",
       "      <td>2.95</td>\n",
       "      <td>87.89</td>\n",
       "      <td>79.69</td>\n",
       "      <td>94.56</td>\n",
       "    </tr>\n",
       "    <tr>\n",
       "      <th>acc</th>\n",
       "      <td>3.57</td>\n",
       "      <td>0.00</td>\n",
       "      <td>3.57</td>\n",
       "      <td>3.57</td>\n",
       "      <td>3.57</td>\n",
       "    </tr>\n",
       "  </tbody>\n",
       "</table>\n",
       "</div>"
      ],
      "text/plain": [
       "               mean    std  median    min    max\n",
       "sens          88.88  13.01   93.75  13.43  98.16\n",
       "spec          99.20   1.44   99.59  81.75  99.89\n",
       "dice          93.48   9.20   96.77  23.67  99.07\n",
       "my_Dice_Loss  88.01   2.95   87.89  79.69  94.56\n",
       "acc            3.57   0.00    3.57   3.57   3.57"
      ]
     },
     "execution_count": 16,
     "metadata": {},
     "output_type": "execute_result"
    }
   ],
   "source": [
    "results_table(de_01_test_results).round(4)*100"
   ]
  },
  {
   "cell_type": "code",
   "execution_count": 17,
   "metadata": {},
   "outputs": [
    {
     "data": {
      "text/html": [
       "<div>\n",
       "<style scoped>\n",
       "    .dataframe tbody tr th:only-of-type {\n",
       "        vertical-align: middle;\n",
       "    }\n",
       "\n",
       "    .dataframe tbody tr th {\n",
       "        vertical-align: top;\n",
       "    }\n",
       "\n",
       "    .dataframe thead th {\n",
       "        text-align: right;\n",
       "    }\n",
       "</style>\n",
       "<table border=\"1\" class=\"dataframe\">\n",
       "  <thead>\n",
       "    <tr style=\"text-align: right;\">\n",
       "      <th></th>\n",
       "      <th>mean</th>\n",
       "      <th>std</th>\n",
       "      <th>median</th>\n",
       "      <th>min</th>\n",
       "      <th>max</th>\n",
       "    </tr>\n",
       "  </thead>\n",
       "  <tbody>\n",
       "    <tr>\n",
       "      <th>sens</th>\n",
       "      <td>88.25</td>\n",
       "      <td>13.60</td>\n",
       "      <td>93.45</td>\n",
       "      <td>8.44</td>\n",
       "      <td>98.08</td>\n",
       "    </tr>\n",
       "    <tr>\n",
       "      <th>spec</th>\n",
       "      <td>98.91</td>\n",
       "      <td>2.62</td>\n",
       "      <td>99.59</td>\n",
       "      <td>69.68</td>\n",
       "      <td>99.92</td>\n",
       "    </tr>\n",
       "    <tr>\n",
       "      <th>dice</th>\n",
       "      <td>93.04</td>\n",
       "      <td>10.04</td>\n",
       "      <td>96.61</td>\n",
       "      <td>15.57</td>\n",
       "      <td>99.03</td>\n",
       "    </tr>\n",
       "    <tr>\n",
       "      <th>my_Dice_Loss</th>\n",
       "      <td>88.02</td>\n",
       "      <td>2.96</td>\n",
       "      <td>87.92</td>\n",
       "      <td>79.69</td>\n",
       "      <td>94.56</td>\n",
       "    </tr>\n",
       "    <tr>\n",
       "      <th>acc</th>\n",
       "      <td>3.57</td>\n",
       "      <td>0.00</td>\n",
       "      <td>3.57</td>\n",
       "      <td>3.57</td>\n",
       "      <td>3.57</td>\n",
       "    </tr>\n",
       "  </tbody>\n",
       "</table>\n",
       "</div>"
      ],
      "text/plain": [
       "               mean    std  median    min    max\n",
       "sens          88.25  13.60   93.45   8.44  98.08\n",
       "spec          98.91   2.62   99.59  69.68  99.92\n",
       "dice          93.04  10.04   96.61  15.57  99.03\n",
       "my_Dice_Loss  88.02   2.96   87.92  79.69  94.56\n",
       "acc            3.57   0.00    3.57   3.57   3.57"
      ]
     },
     "execution_count": 17,
     "metadata": {},
     "output_type": "execute_result"
    }
   ],
   "source": [
    "results_table(de_02_test_results).round(4)*100"
   ]
  },
  {
   "cell_type": "code",
   "execution_count": 18,
   "metadata": {},
   "outputs": [],
   "source": [
    "de_train_results = pd.read_json(runsave_dir/(de_run_name+'/trainL.json'))\n",
    "de_0_train_results = pd.read_json(runsave_dir/(de_run_name_0+'/trainL.json'))\n",
    "de_01_train_results = pd.read_json(runsave_dir/(de_run_name_01+'/trainL.json'))\n",
    "de_02_train_results = pd.read_json(runsave_dir/(de_run_name_02+'/trainL.json'))\n",
    "up_train_results = pd.read_json(runsave_dir/(up_run_name+'/metrics.json'))"
   ]
  },
  {
   "cell_type": "code",
   "execution_count": 19,
   "metadata": {},
   "outputs": [
    {
     "data": {
      "text/plain": [
       "<matplotlib.axes._subplots.AxesSubplot at 0x2b938b540d50>"
      ]
     },
     "execution_count": 19,
     "metadata": {},
     "output_type": "execute_result"
    },
    {
     "data": {
      "image/png": "[encoded data removed]",
      "text/plain": [
       "<Figure size 432x288 with 1 Axes>"
      ]
     },
     "metadata": {
      "needs_background": "light"
     },
     "output_type": "display_data"
    }
   ],
   "source": [
    "pd.concat([de_train_results.sort_index(),\n",
    "           de_0_train_results.sort_index(),\n",
    "           de_01_train_results.sort_index(),\n",
    "           de_02_train_results.sort_index()], axis=1, names=['all', 'im', '2dg', 'adm']).plot()"
   ]
  },
  {
   "cell_type": "markdown",
   "metadata": {},
   "source": [
    "## FINAL VS UNET"
   ]
  },
  {
   "cell_type": "code",
   "execution_count": 20,
   "metadata": {},
   "outputs": [],
   "source": [
    "final_runname = 'DEEPCAP_09start_30e_001lr_fsmooth' #best\n",
    "final_cfg = 'configCAPS_small_bs24_epochs30_lr0.001.json'"
   ]
  },
  {
   "cell_type": "code",
   "execution_count": 21,
   "metadata": {},
   "outputs": [],
   "source": [
    "unet_runname = 'UNET_0001_30_final' #best\n",
    "unet_cfg =  'configUNET_APPresnet18_bs16_epochs15_lr0.001.json'"
   ]
  },
  {
   "cell_type": "code",
   "execution_count": 22,
   "metadata": {},
   "outputs": [],
   "source": [
    "final_train_results = pd.read_json(runsave_dir/(final_runname+'/validL.json'))\n",
    "unet_train_results = pd.read_json(runsave_dir/(unet_runname+'/validL.json'))"
   ]
  },
  {
   "cell_type": "code",
   "execution_count": 23,
   "metadata": {},
   "outputs": [
    {
     "data": {
      "text/plain": [
       "<matplotlib.axes._subplots.AxesSubplot at 0x2b938b60f650>"
      ]
     },
     "execution_count": 23,
     "metadata": {},
     "output_type": "execute_result"
    },
    {
     "data": {
      "image/png": "[encoded data removed]",
      "text/plain": [
       "<Figure size 432x288 with 1 Axes>"
      ]
     },
     "metadata": {
      "needs_background": "light"
     },
     "output_type": "display_data"
    }
   ],
   "source": [
    "pd.concat([final_train_results.sort_index(), unet_train_results.sort_index()], axis=1).plot()"
   ]
  },
  {
   "cell_type": "code",
   "execution_count": 24,
   "metadata": {},
   "outputs": [],
   "source": [
    "final_test_results = pd.read_json(runsave_dir/(final_runname+'/test_results.json'))\n",
    "unet_test_results = pd.read_json(runsave_dir/(unet_runname+'/test_results.json'))"
   ]
  },
  {
   "cell_type": "code",
   "execution_count": 25,
   "metadata": {},
   "outputs": [
    {
     "data": {
      "text/plain": [
       "(0      0.983441\n",
       " 1      0.988028\n",
       " 2      0.972210\n",
       " 3      0.560457\n",
       " 4      0.975405\n",
       "          ...   \n",
       " 904    0.936270\n",
       " 905    0.978664\n",
       " 906    0.980207\n",
       " 907    0.966705\n",
       " 908    0.982801\n",
       " Name: dice, Length: 909, dtype: float64,\n",
       " 0      0.966780\n",
       " 1      0.987902\n",
       " 2      0.982492\n",
       " 3      0.986845\n",
       " 4      0.982906\n",
       "          ...   \n",
       " 904    0.981498\n",
       " 905    0.990412\n",
       " 906    0.969089\n",
       " 907    0.947711\n",
       " 908    0.955115\n",
       " Name: dice, Length: 909, dtype: float64)"
      ]
     },
     "execution_count": 25,
     "metadata": {},
     "output_type": "execute_result"
    }
   ],
   "source": [
    "final_test_results['dice'],unet_test_results['dice'] "
   ]
  },
  {
   "cell_type": "code",
   "execution_count": 31,
   "metadata": {},
   "outputs": [],
   "source": [
    "DETECTRON_test_results = pd.read_json(runsave_dir/('maskrcnn'+'/0.5_results.json'))"
   ]
  },
  {
   "cell_type": "code",
   "execution_count": 51,
   "metadata": {},
   "outputs": [
    {
     "data": {
      "text/plain": [
       "APl         NaN\n",
       "1      0.988786\n",
       "2      0.985444\n",
       "3      0.984846\n",
       "4      0.954342\n",
       "         ...   \n",
       "904    0.983754\n",
       "905    0.985908\n",
       "906    0.985866\n",
       "907    0.988409\n",
       "908    0.989236\n",
       "Name: dices, Length: 909, dtype: float64"
      ]
     },
     "execution_count": 51,
     "metadata": {},
     "output_type": "execute_result"
    }
   ],
   "source": [
    "DETECTRON_test_results[5:914]['dices']"
   ]
  },
  {
   "cell_type": "code",
   "execution_count": null,
   "metadata": {},
   "outputs": [],
   "source": []
  },
  {
   "cell_type": "code",
   "execution_count": 50,
   "metadata": {},
   "outputs": [
    {
     "data": {
      "text/html": [
       "<div>\n",
       "<style scoped>\n",
       "    .dataframe tbody tr th:only-of-type {\n",
       "        vertical-align: middle;\n",
       "    }\n",
       "\n",
       "    .dataframe tbody tr th {\n",
       "        vertical-align: top;\n",
       "    }\n",
       "\n",
       "    .dataframe thead th {\n",
       "        text-align: right;\n",
       "    }\n",
       "</style>\n",
       "<table border=\"1\" class=\"dataframe\">\n",
       "  <thead>\n",
       "    <tr style=\"text-align: right;\">\n",
       "      <th></th>\n",
       "      <th>mean</th>\n",
       "      <th>std</th>\n",
       "      <th>median</th>\n",
       "      <th>min</th>\n",
       "      <th>max</th>\n",
       "    </tr>\n",
       "  </thead>\n",
       "  <tbody>\n",
       "    <tr>\n",
       "      <th>bbox</th>\n",
       "      <td>NaN</td>\n",
       "      <td>NaN</td>\n",
       "      <td>NaN</td>\n",
       "      <td>NaN</td>\n",
       "      <td>NaN</td>\n",
       "    </tr>\n",
       "    <tr>\n",
       "      <th>segm</th>\n",
       "      <td>NaN</td>\n",
       "      <td>NaN</td>\n",
       "      <td>NaN</td>\n",
       "      <td>NaN</td>\n",
       "      <td>NaN</td>\n",
       "    </tr>\n",
       "    <tr>\n",
       "      <th>dices</th>\n",
       "      <td>0.970408</td>\n",
       "      <td>0.055119</td>\n",
       "      <td>0.982705</td>\n",
       "      <td>0.431369</td>\n",
       "      <td>0.991232</td>\n",
       "    </tr>\n",
       "    <tr>\n",
       "      <th>accs</th>\n",
       "      <td>0.996430</td>\n",
       "      <td>0.006885</td>\n",
       "      <td>0.997913</td>\n",
       "      <td>0.921585</td>\n",
       "      <td>0.999283</td>\n",
       "    </tr>\n",
       "    <tr>\n",
       "      <th>sens</th>\n",
       "      <td>0.946759</td>\n",
       "      <td>0.079731</td>\n",
       "      <td>0.965998</td>\n",
       "      <td>0.274997</td>\n",
       "      <td>0.982616</td>\n",
       "    </tr>\n",
       "    <tr>\n",
       "      <th>specs</th>\n",
       "      <td>0.996218</td>\n",
       "      <td>0.007197</td>\n",
       "      <td>0.997765</td>\n",
       "      <td>0.919181</td>\n",
       "      <td>0.999255</td>\n",
       "    </tr>\n",
       "    <tr>\n",
       "      <th>scores</th>\n",
       "      <td>NaN</td>\n",
       "      <td>NaN</td>\n",
       "      <td>NaN</td>\n",
       "      <td>NaN</td>\n",
       "      <td>NaN</td>\n",
       "    </tr>\n",
       "  </tbody>\n",
       "</table>\n",
       "</div>"
      ],
      "text/plain": [
       "            mean       std    median       min       max\n",
       "bbox         NaN       NaN       NaN       NaN       NaN\n",
       "segm         NaN       NaN       NaN       NaN       NaN\n",
       "dices   0.970408  0.055119  0.982705  0.431369  0.991232\n",
       "accs    0.996430  0.006885  0.997913  0.921585  0.999283\n",
       "sens    0.946759  0.079731  0.965998  0.274997  0.982616\n",
       "specs   0.996218  0.007197  0.997765  0.919181  0.999255\n",
       "scores       NaN       NaN       NaN       NaN       NaN"
      ]
     },
     "execution_count": 50,
     "metadata": {},
     "output_type": "execute_result"
    }
   ],
   "source": [
    "results_table(DETECTRON_test_results[6:915])"
   ]
  },
  {
   "cell_type": "code",
   "execution_count": 29,
   "metadata": {},
   "outputs": [
    {
     "data": {
      "text/html": [
       "<div>\n",
       "<style scoped>\n",
       "    .dataframe tbody tr th:only-of-type {\n",
       "        vertical-align: middle;\n",
       "    }\n",
       "\n",
       "    .dataframe tbody tr th {\n",
       "        vertical-align: top;\n",
       "    }\n",
       "\n",
       "    .dataframe thead th {\n",
       "        text-align: right;\n",
       "    }\n",
       "</style>\n",
       "<table border=\"1\" class=\"dataframe\">\n",
       "  <thead>\n",
       "    <tr style=\"text-align: right;\">\n",
       "      <th></th>\n",
       "      <th>mean</th>\n",
       "      <th>std</th>\n",
       "      <th>median</th>\n",
       "      <th>min</th>\n",
       "      <th>max</th>\n",
       "    </tr>\n",
       "  </thead>\n",
       "  <tbody>\n",
       "    <tr>\n",
       "      <th>sens</th>\n",
       "      <td>94.58</td>\n",
       "      <td>7.75</td>\n",
       "      <td>96.55</td>\n",
       "      <td>28.57</td>\n",
       "      <td>98.63</td>\n",
       "    </tr>\n",
       "    <tr>\n",
       "      <th>spec</th>\n",
       "      <td>99.63</td>\n",
       "      <td>0.62</td>\n",
       "      <td>99.78</td>\n",
       "      <td>93.29</td>\n",
       "      <td>99.93</td>\n",
       "    </tr>\n",
       "    <tr>\n",
       "      <th>dice</th>\n",
       "      <td>97.00</td>\n",
       "      <td>5.28</td>\n",
       "      <td>98.24</td>\n",
       "      <td>44.44</td>\n",
       "      <td>99.31</td>\n",
       "    </tr>\n",
       "    <tr>\n",
       "      <th>my_Dice_Loss</th>\n",
       "      <td>87.99</td>\n",
       "      <td>2.98</td>\n",
       "      <td>87.83</td>\n",
       "      <td>79.69</td>\n",
       "      <td>94.56</td>\n",
       "    </tr>\n",
       "    <tr>\n",
       "      <th>acc</th>\n",
       "      <td>3.57</td>\n",
       "      <td>0.00</td>\n",
       "      <td>3.57</td>\n",
       "      <td>3.57</td>\n",
       "      <td>3.57</td>\n",
       "    </tr>\n",
       "  </tbody>\n",
       "</table>\n",
       "</div>"
      ],
      "text/plain": [
       "               mean   std  median    min    max\n",
       "sens          94.58  7.75   96.55  28.57  98.63\n",
       "spec          99.63  0.62   99.78  93.29  99.93\n",
       "dice          97.00  5.28   98.24  44.44  99.31\n",
       "my_Dice_Loss  87.99  2.98   87.83  79.69  94.56\n",
       "acc            3.57  0.00    3.57   3.57   3.57"
      ]
     },
     "execution_count": 29,
     "metadata": {},
     "output_type": "execute_result"
    }
   ],
   "source": [
    "results_table(final_test_results).round(4)*100"
   ]
  },
  {
   "cell_type": "code",
   "execution_count": 30,
   "metadata": {},
   "outputs": [
    {
     "data": {
      "text/html": [
       "<div>\n",
       "<style scoped>\n",
       "    .dataframe tbody tr th:only-of-type {\n",
       "        vertical-align: middle;\n",
       "    }\n",
       "\n",
       "    .dataframe tbody tr th {\n",
       "        vertical-align: top;\n",
       "    }\n",
       "\n",
       "    .dataframe thead th {\n",
       "        text-align: right;\n",
       "    }\n",
       "</style>\n",
       "<table border=\"1\" class=\"dataframe\">\n",
       "  <thead>\n",
       "    <tr style=\"text-align: right;\">\n",
       "      <th></th>\n",
       "      <th>mean</th>\n",
       "      <th>std</th>\n",
       "      <th>median</th>\n",
       "      <th>min</th>\n",
       "      <th>max</th>\n",
       "    </tr>\n",
       "  </thead>\n",
       "  <tbody>\n",
       "    <tr>\n",
       "      <th>sens</th>\n",
       "      <td>94.17</td>\n",
       "      <td>8.06</td>\n",
       "      <td>96.20</td>\n",
       "      <td>36.31</td>\n",
       "      <td>98.87</td>\n",
       "    </tr>\n",
       "    <tr>\n",
       "      <th>spec</th>\n",
       "      <td>99.60</td>\n",
       "      <td>0.65</td>\n",
       "      <td>99.76</td>\n",
       "      <td>93.27</td>\n",
       "      <td>99.94</td>\n",
       "    </tr>\n",
       "    <tr>\n",
       "      <th>dice</th>\n",
       "      <td>96.77</td>\n",
       "      <td>5.42</td>\n",
       "      <td>98.06</td>\n",
       "      <td>53.28</td>\n",
       "      <td>99.43</td>\n",
       "    </tr>\n",
       "    <tr>\n",
       "      <th>my_Dice_Loss</th>\n",
       "      <td>88.01</td>\n",
       "      <td>2.95</td>\n",
       "      <td>87.86</td>\n",
       "      <td>79.69</td>\n",
       "      <td>94.56</td>\n",
       "    </tr>\n",
       "    <tr>\n",
       "      <th>acc</th>\n",
       "      <td>3.57</td>\n",
       "      <td>0.00</td>\n",
       "      <td>3.57</td>\n",
       "      <td>3.57</td>\n",
       "      <td>3.57</td>\n",
       "    </tr>\n",
       "  </tbody>\n",
       "</table>\n",
       "</div>"
      ],
      "text/plain": [
       "               mean   std  median    min    max\n",
       "sens          94.17  8.06   96.20  36.31  98.87\n",
       "spec          99.60  0.65   99.76  93.27  99.94\n",
       "dice          96.77  5.42   98.06  53.28  99.43\n",
       "my_Dice_Loss  88.01  2.95   87.86  79.69  94.56\n",
       "acc            3.57  0.00    3.57   3.57   3.57"
      ]
     },
     "execution_count": 30,
     "metadata": {},
     "output_type": "execute_result"
    }
   ],
   "source": [
    "results_table(unet_test_results).round(4)*100"
   ]
  },
  {
   "cell_type": "code",
   "execution_count": 57,
   "metadata": {},
   "outputs": [
    {
     "data": {
      "text/plain": [
       "(array([[1.000e+00, 2.000e+00, 2.000e+00, 6.000e+00, 3.000e+00, 3.000e+00, 4.000e+00, 1.000e+01, 3.300e+01, 8.450e+02],\n",
       "        [0.000e+00, 3.000e+00, 3.000e+00, 4.000e+00, 6.000e+00, 5.000e+00, 6.000e+00, 1.200e+01, 2.000e+01, 8.500e+02],\n",
       "        [0.000e+00, 0.000e+00, 0.000e+00, 0.000e+00, 3.000e+00, 2.000e+00, 4.000e+00, 1.600e+01, 5.000e+01, 2.424e+03]]),\n",
       " array([0.444444, 0.499431, 0.554418, 0.609405, 0.664392, 0.719379, 0.774366, 0.829352, 0.884339, 0.939326, 0.994313]),\n",
       " <a list of 3 Lists of Patches objects>)"
      ]
     },
     "execution_count": 57,
     "metadata": {},
     "output_type": "execute_result"
    },
    {
     "data": {
      "image/png": "[encoded data removed]",
      "text/plain": [
       "<Figure size 432x288 with 1 Axes>"
      ]
     },
     "metadata": {
      "needs_background": "light"
     },
     "output_type": "display_data"
    }
   ],
   "source": [
    "plt.hist([final_test_results['dice'], unet_test_results['dice'], DETECTRON_test_results[5:]['dices']])"
   ]
  },
  {
   "cell_type": "markdown",
   "metadata": {},
   "source": [
    "## STATISITCAL TESTS"
   ]
  },
  {
   "cell_type": "code",
   "execution_count": 34,
   "metadata": {},
   "outputs": [],
   "source": [
    "from scipy.stats import mannwhitneyu, ttest_rel, ttest_ind, wilcoxon"
   ]
  },
  {
   "cell_type": "markdown",
   "metadata": {},
   "source": [
    "### UNET VS DEEPCAP"
   ]
  },
  {
   "cell_type": "code",
   "execution_count": 35,
   "metadata": {},
   "outputs": [
    {
     "data": {
      "text/plain": [
       "WilcoxonResult(statistic=177192.0, pvalue=0.0001847311488389524)"
      ]
     },
     "execution_count": 35,
     "metadata": {},
     "output_type": "execute_result"
    }
   ],
   "source": [
    "wilcoxon(final_test_results['dice'],unet_test_results['dice'])"
   ]
  },
  {
   "cell_type": "code",
   "execution_count": 48,
   "metadata": {},
   "outputs": [
    {
     "name": "stderr",
     "output_type": "stream",
     "text": [
      "/opt/conda/lib/python3.7/site-packages/scipy/stats/morestats.py:2882: RuntimeWarning: invalid value encountered in greater\n",
      "  r_plus = np.sum((d > 0) * r, axis=0)\n",
      "/opt/conda/lib/python3.7/site-packages/scipy/stats/morestats.py:2883: RuntimeWarning: invalid value encountered in less\n",
      "  r_minus = np.sum((d < 0) * r, axis=0)\n"
     ]
    },
    {
     "data": {
      "text/plain": [
       "WilcoxonResult(statistic=206012.0, pvalue=0.9209756389596107)"
      ]
     },
     "execution_count": 48,
     "metadata": {},
     "output_type": "execute_result"
    }
   ],
   "source": [
    "wilcoxon(final_test_results['dice'],DETECTRON_test_results['dices'][5:914])"
   ]
  },
  {
   "cell_type": "code",
   "execution_count": 34,
   "metadata": {},
   "outputs": [
    {
     "data": {
      "text/plain": [
       "Ttest_relResult(statistic=0.9350754365798642, pvalue=0.3499980323577482)"
      ]
     },
     "execution_count": 34,
     "metadata": {},
     "output_type": "execute_result"
    }
   ],
   "source": [
    "ttest_rel(final_test_results['dice'],unet_test_results['dice'])"
   ]
  },
  {
   "cell_type": "markdown",
   "metadata": {},
   "source": [
    "#### OPTIMAL INPUTS"
   ]
  },
  {
   "cell_type": "code",
   "execution_count": 44,
   "metadata": {},
   "outputs": [
    {
     "data": {
      "text/plain": [
       "WilcoxonResult(statistic=73863.0, pvalue=2.9384636680483606e-63)"
      ]
     },
     "execution_count": 44,
     "metadata": {},
     "output_type": "execute_result"
    }
   ],
   "source": [
    "wilcoxon(de_test_results['dice'],de_0_test_results['dice'])"
   ]
  },
  {
   "cell_type": "code",
   "execution_count": 45,
   "metadata": {},
   "outputs": [
    {
     "data": {
      "text/plain": [
       "WilcoxonResult(statistic=115640.0, pvalue=1.1379213079845183e-30)"
      ]
     },
     "execution_count": 45,
     "metadata": {},
     "output_type": "execute_result"
    }
   ],
   "source": [
    "wilcoxon(de_test_results['dice'],de_01_test_results['dice'])"
   ]
  },
  {
   "cell_type": "code",
   "execution_count": 46,
   "metadata": {},
   "outputs": [
    {
     "data": {
      "text/plain": [
       "WilcoxonResult(statistic=107243.0, pvalue=2.9629100818071322e-36)"
      ]
     },
     "execution_count": 46,
     "metadata": {},
     "output_type": "execute_result"
    }
   ],
   "source": [
    "wilcoxon(de_test_results['dice'],de_02_test_results['dice'])"
   ]
  },
  {
   "cell_type": "markdown",
   "metadata": {},
   "source": [
    "### DECONV vs BILINEAR UPSAMPLE"
   ]
  },
  {
   "cell_type": "code",
   "execution_count": 42,
   "metadata": {},
   "outputs": [
    {
     "data": {
      "text/plain": [
       "Ttest_indResult(statistic=3.811379952682693, pvalue=0.0001428000128992315)"
      ]
     },
     "execution_count": 42,
     "metadata": {},
     "output_type": "execute_result"
    }
   ],
   "source": [
    "ttest_ind(de_test_results['dice'],up_test_results['dice'])"
   ]
  },
  {
   "cell_type": "code",
   "execution_count": 41,
   "metadata": {},
   "outputs": [
    {
     "data": {
      "text/plain": [
       "WilcoxonResult(statistic=172229.0, pvalue=1.266389223722177e-05)"
      ]
     },
     "execution_count": 41,
     "metadata": {},
     "output_type": "execute_result"
    }
   ],
   "source": [
    "wilcoxon(de_test_results['dice'],up_test_results['dice'])"
   ]
  },
  {
   "cell_type": "markdown",
   "metadata": {},
   "source": [
    "## Comparing GPU speed of inference on both UNET and DEEPCAP"
   ]
  },
  {
   "cell_type": "code",
   "execution_count": null,
   "metadata": {},
   "outputs": [],
   "source": [
    "from model import CapsNet\n",
    "from fastai.utils.mem import gpu_mem_get_all"
   ]
  },
  {
   "cell_type": "code",
   "execution_count": 27,
   "metadata": {},
   "outputs": [],
   "source": [
    "def loadConfigRun(run_dir, name):\n",
    "    with open(run_dir/name, 'r') as file:\n",
    "        return json.load(file)"
   ]
  },
  {
   "cell_type": "code",
   "execution_count": 28,
   "metadata": {},
   "outputs": [],
   "source": [
    "run_dir = runsave_dir/final_runname"
   ]
  },
  {
   "cell_type": "code",
   "execution_count": 29,
   "metadata": {},
   "outputs": [],
   "source": [
    "cfg_dict = loadConfigRun(run_dir, final_cfg)"
   ]
  },
  {
   "cell_type": "code",
   "execution_count": 30,
   "metadata": {},
   "outputs": [],
   "source": [
    "config = DeepConfig(cfg_dict)"
   ]
  },
  {
   "cell_type": "code",
   "execution_count": 31,
   "metadata": {},
   "outputs": [],
   "source": [
    "def _in_delta(x):\n",
    "    #print(x.shape)\n",
    "    return x[config.MODEL.input_images,:,:]\n",
    "in_delta = TfmPixel(_in_delta, order=0)\n",
    "in_delta.use_on_y = False"
   ]
  },
  {
   "cell_type": "code",
   "execution_count": 32,
   "metadata": {},
   "outputs": [],
   "source": [
    "fn_get_y = lambda image_name: Path(image_name).parent.parent/('labels/'+Path(image_name).name)\n",
    "codes = np.loadtxt(cocodata_path/'codes.txt', dtype=str)\n",
    "tfms = get_transforms()\n",
    "tfms[0].append(in_delta())\n",
    "tfms[1].append(in_delta())\n",
    "src = (SegCustomItemList\n",
    "       .from_folder(test_path, recurse=True, extensions='.jpg')\n",
    "       .filter_by_func(lambda fname: Path(fname).parent.name == 'images', )\n",
    "       .split_by_rand_pct(0.90)\n",
    "       .label_from_func(fn_get_y, classes=codes))\n",
    "src.transform(tfms, tfm_y=True, size =config.LEARNER.img_size)\n",
    "data = src.databunch(test_path,\n",
    "                     bs=config.LEARNER.bs,\n",
    "                     val_bs=config.LEARNER.bs,\n",
    "                     num_workers = config.LEARNER.num_workers)\n",
    "#stats = [torch.tensor([0.2190, 0.1984, 0.1928]), torch.tensor([0.0645, 0.0473, 0.0434])]\n",
    "stats = data.batch_stats()\n",
    "data.normalize(stats);\n",
    "data.c_in, data.c_out = config.MODEL.inputchannels, 2"
   ]
  },
  {
   "cell_type": "code",
   "execution_count": 33,
   "metadata": {},
   "outputs": [],
   "source": [
    "xb,_=data.one_batch(ds_type=DatasetType.Valid,detach=True, denorm=False, cpu=False)"
   ]
  },
  {
   "cell_type": "code",
   "execution_count": 34,
   "metadata": {},
   "outputs": [
    {
     "data": {
      "text/plain": [
       "torch.Size([24, 3, 256, 256])"
      ]
     },
     "execution_count": 34,
     "metadata": {},
     "output_type": "execute_result"
    }
   ],
   "source": [
    "xb.shape"
   ]
  },
  {
   "cell_type": "code",
   "execution_count": 35,
   "metadata": {},
   "outputs": [
    {
     "data": {
      "text/plain": [
       "device(type='cuda', index=0)"
      ]
     },
     "execution_count": 35,
     "metadata": {},
     "output_type": "execute_result"
    }
   ],
   "source": [
    "xb.device"
   ]
  },
  {
   "cell_type": "code",
   "execution_count": 39,
   "metadata": {},
   "outputs": [
    {
     "data": {
      "text/plain": [
       "[GPUMemory(total=16280, free=7529, used=8751),\n",
       " GPUMemory(total=16280, free=16270, used=10),\n",
       " GPUMemory(total=16280, free=16270, used=10),\n",
       " GPUMemory(total=16280, free=16270, used=10)]"
      ]
     },
     "execution_count": 39,
     "metadata": {},
     "output_type": "execute_result"
    }
   ],
   "source": [
    "gpu_mem_get_all()"
   ]
  },
  {
   "cell_type": "code",
   "execution_count": 37,
   "metadata": {},
   "outputs": [],
   "source": [
    "deepCap = CapsNet(config.MODEL).cuda()"
   ]
  },
  {
   "cell_type": "code",
   "execution_count": 38,
   "metadata": {},
   "outputs": [
    {
     "name": "stdout",
     "output_type": "stream",
     "text": [
      "106 ms ± 33.2 µs per loop (mean ± std. dev. of 7 runs, 10 loops each)\n"
     ]
    }
   ],
   "source": [
    "%%timeit\n",
    "deepCap(xb)"
   ]
  },
  {
   "cell_type": "code",
   "execution_count": 40,
   "metadata": {},
   "outputs": [],
   "source": [
    "unet = unet_learner(data, models.resnet18, pretrained=False, metrics = metrics)"
   ]
  },
  {
   "cell_type": "code",
   "execution_count": 43,
   "metadata": {},
   "outputs": [
    {
     "name": "stdout",
     "output_type": "stream",
     "text": [
      "149 ms ± 34.5 µs per loop (mean ± std. dev. of 7 runs, 10 loops each)\n"
     ]
    }
   ],
   "source": [
    "%%timeit\n",
    "unet.model(xb)"
   ]
  },
  {
   "cell_type": "code",
   "execution_count": null,
   "metadata": {},
   "outputs": [],
   "source": []
  }
 ],
 "metadata": {
  "kernelspec": {
   "display_name": "Python 3",
   "language": "python",
   "name": "python3"
  },
  "language_info": {
   "codemirror_mode": {
    "name": "ipython",
    "version": 3
   },
   "file_extension": ".py",
   "mimetype": "text/x-python",
   "name": "python",
   "nbconvert_exporter": "python",
   "pygments_lexer": "ipython3",
   "version": "3.7.7"
  }
 },
 "nbformat": 4,
 "nbformat_minor": 4
}

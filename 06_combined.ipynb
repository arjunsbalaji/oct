{
 "cells": [
  {
   "cell_type": "code",
   "execution_count": 1,
   "metadata": {},
   "outputs": [],
   "source": [
    "from oct.startup import *\n",
    "import matplotlib.pyplot as plt\n",
    "from pathlib import Path\n",
    "import sys, os\n",
    "from fastai.vision import *\n",
    "import pandas as pd"
   ]
  },
  {
   "cell_type": "code",
   "execution_count": 2,
   "metadata": {},
   "outputs": [],
   "source": [
    "cocodata_path = Path('/workspace/oct_ca_seg/COCOdata/')\n",
    "train_path = cocodata_path/'train/images'\n",
    "valid_path = cocodata_path/'valid/images'\n",
    "test_path = cocodata_path/'test/images'"
   ]
  },
  {
   "cell_type": "code",
   "execution_count": 3,
   "metadata": {},
   "outputs": [],
   "source": [
    "metrics = [sens, spec, dice, my_Dice_Loss, acc]"
   ]
  },
  {
   "cell_type": "code",
   "execution_count": 4,
   "metadata": {},
   "outputs": [],
   "source": [
    "runsave_dir = Path('/workspace/oct_ca_seg/runsaves/')"
   ]
  },
  {
   "cell_type": "code",
   "execution_count": 5,
   "metadata": {},
   "outputs": [],
   "source": [
    "up_run_name = 'DEEPCAP_09start_10e_001lr_fsmooth_upsample' #best\n",
    "up_cfg_file = 'DEEPCAP_09start_10e_001lr_fsmooth_upsample'"
   ]
  },
  {
   "cell_type": "code",
   "execution_count": 6,
   "metadata": {},
   "outputs": [],
   "source": [
    "de_run_name = 'DEEPCAP_09start_10e_001lr_fsmooth_deconv_in012' #best\n",
    "de_cfg_file = 'DEEPCAP_09start_10e_001lr_fsmooth_deconv_in012'"
   ]
  },
  {
   "cell_type": "code",
   "execution_count": 7,
   "metadata": {},
   "outputs": [],
   "source": [
    "de_run_name_0 = 'DEEPCAP_09start_10e_001lr_fsmooth_deconv_in0' #best\n",
    "de_cfg_file_0 = 'DEEPCAP_09start_10e_001lr_fsmooth_deconv_in0'"
   ]
  },
  {
   "cell_type": "code",
   "execution_count": 8,
   "metadata": {},
   "outputs": [],
   "source": [
    "de_run_name_01 = 'DEEPCAP_09start_10e_001lr_fsmooth_deconv_in01' #best\n",
    "de_cfg_file_01 = 'DEEPCAP_09start_10e_001lr_fsmooth_deconv_in01'"
   ]
  },
  {
   "cell_type": "code",
   "execution_count": 9,
   "metadata": {},
   "outputs": [],
   "source": [
    "de_run_name_02 = 'DEEPCAP_09start_10e_001lr_fsmooth_deconv_in02' #best\n",
    "de_cfg_file_02 = 'DEEPCAP_09start_10e_001lr_fsmooth_deconv_in02'"
   ]
  },
  {
   "cell_type": "code",
   "execution_count": 10,
   "metadata": {},
   "outputs": [],
   "source": [
    "de_test_results = pd.read_json(runsave_dir/(de_run_name+'/test_results.json'))\n",
    "de_0_test_results = pd.read_json(runsave_dir/(de_run_name_0+'/test_results.json'))\n",
    "de_01_test_results = pd.read_json(runsave_dir/(de_run_name_01+'/test_results.json'))\n",
    "de_02_test_results = pd.read_json(runsave_dir/(de_run_name_02+'/test_results.json'))\n",
    "up_test_results = pd.read_json(runsave_dir/(up_run_name+'/test_results.json'))"
   ]
  },
  {
   "cell_type": "code",
   "execution_count": 13,
   "metadata": {},
   "outputs": [
    {
     "data": {
      "text/plain": [
       "[Text(0, 0, 'ALL'), Text(0, 0, 'IM'), Text(0, 0, '2DG'), Text(0, 0, 'ADM')]"
      ]
     },
     "execution_count": 13,
     "metadata": {},
     "output_type": "execute_result"
    },
    {
     "data": {
      "image/png": "[encoded data removed]",
      "text/plain": [
       "<Figure size 432x288 with 1 Axes>"
      ]
     },
     "metadata": {
      "needs_background": "light"
     },
     "output_type": "display_data"
    }
   ],
   "source": [
    "fig, ax = plt.subplots() \n",
    "font = {'family': 'serif',\n",
    "        'color':  'darkred',\n",
    "        'weight': 'normal',\n",
    "        'size': 16,\n",
    "        }\n",
    "meanpointprops = dict(marker='D', markeredgecolor='firebrick',\n",
    "                      markerfacecolor='firebrick')\n",
    "medianprops = dict(linestyle='--', linewidth=1.5, color='black')\n",
    "ax.boxplot([de_test_results['dice'],\n",
    "             de_0_test_results['dice'],\n",
    "             de_01_test_results['dice'],\n",
    "             de_02_test_results['dice']], showfliers=False, whis=[5,95], labels=['ALL', 'IM', 'ADM', '2DG'], showmeans=True, meanprops=meanpointprops, medianprops=medianprops)\n",
    "plt.ylabel('Dice Score', fontsize=14)\n",
    "plt.rc('ytick', labelsize=10) \n",
    "ax.set_xticklabels(['ALL', 'IM', '2DG', 'ADM'], fontsize=14)"
   ]
  },
  {
   "cell_type": "code",
   "execution_count": 14,
   "metadata": {},
   "outputs": [],
   "source": [
    "fig.savefig('/workspace/oct_ca_seg/oct/optinputs')"
   ]
  },
  {
   "cell_type": "code",
   "execution_count": 16,
   "metadata": {},
   "outputs": [],
   "source": [
    "!rm -r ./mlruns/"
   ]
  },
  {
   "cell_type": "markdown",
   "metadata": {},
   "source": [
    "## means"
   ]
  },
  {
   "cell_type": "code",
   "execution_count": 65,
   "metadata": {},
   "outputs": [
    {
     "data": {
      "text/plain": [
       "sens            0.932352\n",
       "spec            0.995365\n",
       "dice            0.962512\n",
       "my_Dice_Loss    0.879750\n",
       "acc             0.035721\n",
       "dtype: float64"
      ]
     },
     "execution_count": 65,
     "metadata": {},
     "output_type": "execute_result"
    }
   ],
   "source": [
    "de_test_results.mean(axis=0)"
   ]
  },
  {
   "cell_type": "code",
   "execution_count": 66,
   "metadata": {},
   "outputs": [
    {
     "data": {
      "text/plain": [
       "sens            0.867275\n",
       "spec            0.991075\n",
       "dice            0.923876\n",
       "my_Dice_Loss    0.879551\n",
       "acc             0.035721\n",
       "dtype: float64"
      ]
     },
     "execution_count": 66,
     "metadata": {},
     "output_type": "execute_result"
    }
   ],
   "source": [
    "de_0_test_results.mean(axis=0)"
   ]
  },
  {
   "cell_type": "code",
   "execution_count": 67,
   "metadata": {},
   "outputs": [
    {
     "data": {
      "text/plain": [
       "sens            0.888777\n",
       "spec            0.992011\n",
       "dice            0.934831\n",
       "my_Dice_Loss    0.880126\n",
       "acc             0.035721\n",
       "dtype: float64"
      ]
     },
     "execution_count": 67,
     "metadata": {},
     "output_type": "execute_result"
    }
   ],
   "source": [
    "de_01_test_results.mean(axis=0)"
   ]
  },
  {
   "cell_type": "code",
   "execution_count": 68,
   "metadata": {},
   "outputs": [
    {
     "data": {
      "text/plain": [
       "sens            0.882508\n",
       "spec            0.989105\n",
       "dice            0.930422\n",
       "my_Dice_Loss    0.880191\n",
       "acc             0.035721\n",
       "dtype: float64"
      ]
     },
     "execution_count": 68,
     "metadata": {},
     "output_type": "execute_result"
    }
   ],
   "source": [
    "de_02_test_results.mean(axis=0)"
   ]
  },
  {
   "cell_type": "markdown",
   "metadata": {},
   "source": [
    "## stds"
   ]
  },
  {
   "cell_type": "code",
   "execution_count": 69,
   "metadata": {},
   "outputs": [
    {
     "data": {
      "text/plain": [
       "sens            8.420386e-02\n",
       "spec            7.661951e-03\n",
       "dice            5.735853e-02\n",
       "my_Dice_Loss    2.954039e-02\n",
       "acc             5.901307e-16\n",
       "dtype: float64"
      ]
     },
     "execution_count": 69,
     "metadata": {},
     "output_type": "execute_result"
    }
   ],
   "source": [
    "de_test_results.std(axis=0)"
   ]
  },
  {
   "cell_type": "code",
   "execution_count": 70,
   "metadata": {},
   "outputs": [
    {
     "data": {
      "text/plain": [
       "sens            1.189163e-01\n",
       "spec            9.082320e-03\n",
       "dice            7.975140e-02\n",
       "my_Dice_Loss    2.955355e-02\n",
       "acc             5.901307e-16\n",
       "dtype: float64"
      ]
     },
     "execution_count": 70,
     "metadata": {},
     "output_type": "execute_result"
    }
   ],
   "source": [
    "de_0_test_results.std(axis=0)"
   ]
  },
  {
   "cell_type": "code",
   "execution_count": 71,
   "metadata": {},
   "outputs": [
    {
     "data": {
      "text/plain": [
       "sens            1.300561e-01\n",
       "spec            1.442961e-02\n",
       "dice            9.199017e-02\n",
       "my_Dice_Loss    2.952760e-02\n",
       "acc             5.901307e-16\n",
       "dtype: float64"
      ]
     },
     "execution_count": 71,
     "metadata": {},
     "output_type": "execute_result"
    }
   ],
   "source": [
    "de_01_test_results.std(axis=0)"
   ]
  },
  {
   "cell_type": "code",
   "execution_count": 72,
   "metadata": {},
   "outputs": [
    {
     "data": {
      "text/plain": [
       "sens            1.359524e-01\n",
       "spec            2.623135e-02\n",
       "dice            1.004059e-01\n",
       "my_Dice_Loss    2.960484e-02\n",
       "acc             5.901307e-16\n",
       "dtype: float64"
      ]
     },
     "execution_count": 72,
     "metadata": {},
     "output_type": "execute_result"
    }
   ],
   "source": [
    "de_02_test_results.std(axis=0)"
   ]
  },
  {
   "cell_type": "markdown",
   "metadata": {},
   "source": [
    "## meds"
   ]
  },
  {
   "cell_type": "code",
   "execution_count": 73,
   "metadata": {},
   "outputs": [
    {
     "data": {
      "text/plain": [
       "sens            0.956229\n",
       "spec            0.997221\n",
       "dice            0.977625\n",
       "my_Dice_Loss    0.878303\n",
       "acc             0.035721\n",
       "dtype: float64"
      ]
     },
     "execution_count": 73,
     "metadata": {},
     "output_type": "execute_result"
    }
   ],
   "source": [
    "de_test_results.median(axis=0)"
   ]
  },
  {
   "cell_type": "code",
   "execution_count": 74,
   "metadata": {},
   "outputs": [
    {
     "data": {
      "text/plain": [
       "sens            0.915235\n",
       "spec            0.994476\n",
       "dice            0.955742\n",
       "my_Dice_Loss    0.878086\n",
       "acc             0.035721\n",
       "dtype: float64"
      ]
     },
     "execution_count": 74,
     "metadata": {},
     "output_type": "execute_result"
    }
   ],
   "source": [
    "de_0_test_results.median(axis=0)"
   ]
  },
  {
   "cell_type": "code",
   "execution_count": 75,
   "metadata": {},
   "outputs": [
    {
     "data": {
      "text/plain": [
       "sens            0.937488\n",
       "spec            0.995923\n",
       "dice            0.967736\n",
       "my_Dice_Loss    0.878902\n",
       "acc             0.035721\n",
       "dtype: float64"
      ]
     },
     "execution_count": 75,
     "metadata": {},
     "output_type": "execute_result"
    }
   ],
   "source": [
    "de_01_test_results.median(axis=0)"
   ]
  },
  {
   "cell_type": "code",
   "execution_count": 76,
   "metadata": {},
   "outputs": [
    {
     "data": {
      "text/plain": [
       "sens            0.934478\n",
       "spec            0.995871\n",
       "dice            0.966129\n",
       "my_Dice_Loss    0.879211\n",
       "acc             0.035721\n",
       "dtype: float64"
      ]
     },
     "execution_count": 76,
     "metadata": {},
     "output_type": "execute_result"
    }
   ],
   "source": [
    "de_02_test_results.median(axis=0)"
   ]
  },
  {
   "cell_type": "markdown",
   "metadata": {},
   "source": [
    "## mins"
   ]
  },
  {
   "cell_type": "code",
   "execution_count": 78,
   "metadata": {},
   "outputs": [
    {
     "data": {
      "text/plain": [
       "sens            0.316245\n",
       "spec            0.893885\n",
       "dice            0.480527\n",
       "my_Dice_Loss    0.796850\n",
       "acc             0.035721\n",
       "dtype: float64"
      ]
     },
     "execution_count": 78,
     "metadata": {},
     "output_type": "execute_result"
    }
   ],
   "source": [
    "de_test_results.min(axis=0)"
   ]
  },
  {
   "cell_type": "code",
   "execution_count": 79,
   "metadata": {},
   "outputs": [
    {
     "data": {
      "text/plain": [
       "sens            0.354629\n",
       "spec            0.930833\n",
       "dice            0.523581\n",
       "my_Dice_Loss    0.796850\n",
       "acc             0.035721\n",
       "dtype: float64"
      ]
     },
     "execution_count": 79,
     "metadata": {},
     "output_type": "execute_result"
    }
   ],
   "source": [
    "de_0_test_results.min(axis=0)"
   ]
  },
  {
   "cell_type": "code",
   "execution_count": 80,
   "metadata": {},
   "outputs": [
    {
     "data": {
      "text/plain": [
       "sens            0.134252\n",
       "spec            0.817474\n",
       "dice            0.236723\n",
       "my_Dice_Loss    0.796850\n",
       "acc             0.035721\n",
       "dtype: float64"
      ]
     },
     "execution_count": 80,
     "metadata": {},
     "output_type": "execute_result"
    }
   ],
   "source": [
    "de_01_test_results.min(axis=0)"
   ]
  },
  {
   "cell_type": "code",
   "execution_count": 81,
   "metadata": {},
   "outputs": [
    {
     "data": {
      "text/plain": [
       "sens            0.084442\n",
       "spec            0.696767\n",
       "dice            0.155734\n",
       "my_Dice_Loss    0.796850\n",
       "acc             0.035721\n",
       "dtype: float64"
      ]
     },
     "execution_count": 81,
     "metadata": {},
     "output_type": "execute_result"
    }
   ],
   "source": [
    "de_02_test_results.min(axis=0)"
   ]
  },
  {
   "cell_type": "markdown",
   "metadata": {},
   "source": [
    "## maxs"
   ]
  },
  {
   "cell_type": "code",
   "execution_count": 83,
   "metadata": {},
   "outputs": [
    {
     "data": {
      "text/plain": [
       "sens            0.986048\n",
       "spec            0.999332\n",
       "dice            0.992975\n",
       "my_Dice_Loss    0.945615\n",
       "acc             0.035721\n",
       "dtype: float64"
      ]
     },
     "execution_count": 83,
     "metadata": {},
     "output_type": "execute_result"
    }
   ],
   "source": [
    "de_test_results.max(axis=0)"
   ]
  },
  {
   "cell_type": "code",
   "execution_count": 85,
   "metadata": {},
   "outputs": [
    {
     "data": {
      "text/plain": [
       "sens            0.982083\n",
       "spec            0.998613\n",
       "dice            0.990960\n",
       "my_Dice_Loss    0.945615\n",
       "acc             0.035721\n",
       "dtype: float64"
      ]
     },
     "execution_count": 85,
     "metadata": {},
     "output_type": "execute_result"
    }
   ],
   "source": [
    "de_0_test_results.max(axis=0)"
   ]
  },
  {
   "cell_type": "code",
   "execution_count": 86,
   "metadata": {},
   "outputs": [
    {
     "data": {
      "text/plain": [
       "sens            0.981576\n",
       "spec            0.998941\n",
       "dice            0.990702\n",
       "my_Dice_Loss    0.945615\n",
       "acc             0.035721\n",
       "dtype: float64"
      ]
     },
     "execution_count": 86,
     "metadata": {},
     "output_type": "execute_result"
    }
   ],
   "source": [
    "de_01_test_results.max(axis=0)"
   ]
  },
  {
   "cell_type": "code",
   "execution_count": 87,
   "metadata": {},
   "outputs": [
    {
     "data": {
      "text/plain": [
       "sens            0.980821\n",
       "spec            0.999153\n",
       "dice            0.990318\n",
       "my_Dice_Loss    0.945615\n",
       "acc             0.035721\n",
       "dtype: float64"
      ]
     },
     "execution_count": 87,
     "metadata": {},
     "output_type": "execute_result"
    }
   ],
   "source": [
    "de_02_test_results.max(axis=0)"
   ]
  }
 ],
 "metadata": {
  "kernelspec": {
   "display_name": "Python 3",
   "language": "python",
   "name": "python3"
  },
  "language_info": {
   "codemirror_mode": {
    "name": "ipython",
    "version": 3
   },
   "file_extension": ".py",
   "mimetype": "text/x-python",
   "name": "python",
   "nbconvert_exporter": "python",
   "pygments_lexer": "ipython3",
   "version": "3.7.7"
  }
 },
 "nbformat": 4,
 "nbformat_minor": 4
}

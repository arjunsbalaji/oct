{
 "cells": [
  {
   "cell_type": "code",
   "execution_count": null,
   "metadata": {},
   "outputs": [],
   "source": [
    "# default_exp runs"
   ]
  },
  {
   "cell_type": "code",
   "execution_count": null,
   "metadata": {},
   "outputs": [],
   "source": [
    "import sys"
   ]
  },
  {
   "cell_type": "code",
   "execution_count": null,
   "metadata": {},
   "outputs": [],
   "source": [
    "sys.path.append('/workspace/oct_ca_seg/oct/pawsey/')"
   ]
  },
  {
   "cell_type": "code",
   "execution_count": null,
   "metadata": {},
   "outputs": [],
   "source": [
    "from oct.startup import *\n",
    "from model import CapsNet\n",
    "import numpy as np\n",
    "import mlflow\n",
    "from fastai.vision import *\n",
    "import mlflow.pytorch as MLPY"
   ]
  },
  {
   "cell_type": "markdown",
   "metadata": {},
   "source": [
    "### Configuration Setup"
   ]
  },
  {
   "cell_type": "code",
   "execution_count": null,
   "metadata": {},
   "outputs": [],
   "source": [
    "config_dict = loadConfigJSONToDict('init_config.json')\n",
    "config_dict['LEARNER']['bs'] = 2\n",
    "config_dict['LEARNER']['img_size'] = 256\n",
    "config_dict['LEARNER']['lr']= 0.0001\n",
    "config_dict['LEARNER']['num_workers'] = 1\n",
    "config_dict['MODEL']['dims1'] = 16\n",
    "config_dict['MODEL']['dims2'] = 32\n",
    "config_dict['MODEL']['dims3'] = 64\n",
    "config_dict['MODEL']['maps1'] = 8\n",
    "config_dict['MODEL']['maps2'] = 12\n",
    "config_dict['MODEL']['maps3'] = 16\n",
    "config_dict['MODEL']['f1dims'] = 8\n",
    "config_dict['MODEL']['f2dims'] = 16\n",
    "config_dict['MODEL']['f1maps'] = 2\n",
    "config_dict['MODEL']['f2maps'] = 2 #this should be number of classes. background, lumen => 2 etc.\n",
    "config = DeepConfig(config_dict)"
   ]
  },
  {
   "cell_type": "markdown",
   "metadata": {},
   "source": [
    "## Dataset"
   ]
  },
  {
   "cell_type": "code",
   "execution_count": null,
   "metadata": {},
   "outputs": [],
   "source": [
    "cocodata_path = Path('/workspace/oct_ca_seg/COCOdata/')\n",
    "train_path = cocodata_path/'train/images'\n",
    "valid_path = cocodata_path/'valid/images'\n",
    "test_path = cocodata_path/'test/images'"
   ]
  },
  {
   "cell_type": "markdown",
   "metadata": {},
   "source": [
    "### For complete dataset"
   ]
  },
  {
   "cell_type": "code",
   "execution_count": null,
   "metadata": {},
   "outputs": [],
   "source": [
    "fn_get_y = lambda image_name: Path(image_name).parent.parent/('labels/'+Path(image_name).name)\n",
    "codes = np.loadtxt(cocodata_path/'codes.txt', dtype=str)\n",
    "tfms = get_transforms()\n",
    "src = (SegCustomItemList\n",
    "       .from_folder(cocodata_path, recurse=True, extensions='.jpg')\n",
    "       .filter_by_func(lambda fname: Path(fname).parent.name == 'images', )\n",
    "       .split_by_folder('train', 'valid')\n",
    "       .label_from_func(fn_get_y, classes=codes))\n",
    "src.transform(tfms, tfm_y=True, size=config.LEARNER.img_size)\n",
    "data = src.databunch(cocodata_path,\n",
    "                     bs=config.LEARNER.bs,\n",
    "                     val_bs=2*config.LEARNER.bs,\n",
    "                     num_workers = config.LEARNER.num_workers)\n",
    "stats = [torch.tensor([0.2190, 0.1984, 0.1928]), torch.tensor([0.0645, 0.0473, 0.0434])]\n",
    "data.normalize(stats);"
   ]
  },
  {
   "cell_type": "markdown",
   "metadata": {},
   "source": [
    "### For converting Validation set into a mini set to experiment on"
   ]
  },
  {
   "cell_type": "code",
   "execution_count": null,
   "metadata": {},
   "outputs": [],
   "source": [
    "fn_get_y = lambda image_name: Path(image_name).parent.parent/('labels/'+Path(image_name).name)\n",
    "codes = np.loadtxt(cocodata_path/'codes.txt', dtype=str)\n",
    "tfms = get_transforms()\n",
    "src = (SegCustomItemList\n",
    "       .from_folder(test_path, recurse=True, extensions='.jpg')\n",
    "       .filter_by_func(lambda fname: Path(fname).parent.name == 'images', )\n",
    "       .split_by_rand_pct(0.3)\n",
    "       .label_from_func(fn_get_y, classes=codes))\n",
    "src.transform(tfms, tfm_y=True, size =config.LEARNER.img_size)\n",
    "data = src.databunch(test_path,\n",
    "                     bs=config.LEARNER.bs,\n",
    "                     val_bs=2*config.LEARNER.bs,\n",
    "                     num_workers = config.LEARNER.num_workers)\n",
    "stats = [torch.tensor([0.2190, 0.1984, 0.1928]), torch.tensor([0.0645, 0.0473, 0.0434])]\n",
    "data.normalize(stats);"
   ]
  },
  {
   "cell_type": "markdown",
   "metadata": {},
   "source": [
    "### Runs"
   ]
  },
  {
   "cell_type": "code",
   "execution_count": null,
   "metadata": {},
   "outputs": [],
   "source": [
    "iou = partial(dice, iou=True)"
   ]
  },
  {
   "cell_type": "code",
   "execution_count": null,
   "metadata": {},
   "outputs": [],
   "source": [
    "metrics = [sens, spec, dice, my_Dice_Loss, acc]"
   ]
  },
  {
   "cell_type": "code",
   "execution_count": null,
   "metadata": {},
   "outputs": [
    {
     "data": {
      "text/html": [
       "<table border=\"1\" class=\"dataframe\">\n",
       "  <thead>\n",
       "    <tr style=\"text-align: left;\">\n",
       "      <th>epoch</th>\n",
       "      <th>train_loss</th>\n",
       "      <th>valid_loss</th>\n",
       "      <th>sens</th>\n",
       "      <th>spec</th>\n",
       "      <th>dice</th>\n",
       "      <th>my_Dice_Loss</th>\n",
       "      <th>acc</th>\n",
       "      <th>time</th>\n",
       "    </tr>\n",
       "  </thead>\n",
       "  <tbody>\n",
       "    <tr>\n",
       "      <td>0</td>\n",
       "      <td>0.430944</td>\n",
       "      <td>0.413378</td>\n",
       "      <td>0.000000</td>\n",
       "      <td>0.928463</td>\n",
       "      <td>0.000000</td>\n",
       "      <td>0.999943</td>\n",
       "      <td>1.000000</td>\n",
       "      <td>09:36</td>\n",
       "    </tr>\n",
       "    <tr>\n",
       "      <td>1</td>\n",
       "      <td>0.345106</td>\n",
       "      <td>0.333688</td>\n",
       "      <td>0.834166</td>\n",
       "      <td>0.987021</td>\n",
       "      <td>0.904906</td>\n",
       "      <td>0.087562</td>\n",
       "      <td>0.930438</td>\n",
       "      <td>09:37</td>\n",
       "    </tr>\n",
       "    <tr>\n",
       "      <td>2</td>\n",
       "      <td>0.324605</td>\n",
       "      <td>0.321946</td>\n",
       "      <td>0.910418</td>\n",
       "      <td>0.993143</td>\n",
       "      <td>0.951084</td>\n",
       "      <td>0.045312</td>\n",
       "      <td>0.929626</td>\n",
       "      <td>09:36</td>\n",
       "    </tr>\n",
       "  </tbody>\n",
       "</table>"
      ],
      "text/plain": [
       "<IPython.core.display.HTML object>"
      ]
     },
     "metadata": {},
     "output_type": "display_data"
    }
   ],
   "source": [
    "exp_name = 'DEEPCAP'\n",
    "mlflow_CB = partial(MLFlowTracker,\n",
    "                    exp_name=exp_name,\n",
    "                    uri='file:/workspace/oct_ca_seg/runsaves/fastai_experiments/mlruns/',\n",
    "                    params=config.config_dict,\n",
    "                    nb_path=\"/workspace/oct_ca_seg/oct/02_runs.ipynb\")\n",
    "deepCap = CapsNet(config.MODEL).cuda()\n",
    "with mlflow.start_run():\n",
    "    learner = Learner(data = data,\n",
    "                      model = deepCap,\n",
    "                      metrics = metrics,\n",
    "                      callback_fns=mlflow_CB)\n",
    "    learner.fit_one_cycle(3, slice(config.LEARNER.lr), pct_start=0.9)\n",
    "    MLPY.log_model(learner.model, exp_name)"
   ]
  },
  {
   "cell_type": "code",
   "execution_count": null,
   "metadata": {},
   "outputs": [
    {
     "data": {
      "image/png": "[encoded data removed]",
      "text/plain": [
       "<Figure size 432x288 with 1 Axes>"
      ]
     },
     "metadata": {
      "needs_background": "light"
     },
     "output_type": "display_data"
    }
   ],
   "source": [
    "learner.recorder.plot_losses()"
   ]
  },
  {
   "cell_type": "code",
   "execution_count": null,
   "metadata": {},
   "outputs": [
    {
     "data": {
      "image/jpeg": "[encoded data removed]",
      "image/png": "[encoded data removed]",
      "text/plain": [
       "ImageSegment (1, 256, 256)"
      ]
     },
     "execution_count": null,
     "metadata": {},
     "output_type": "execute_result"
    }
   ],
   "source": [
    "learner.predict(data.valid_ds[20][1])[0]"
   ]
  },
  {
   "cell_type": "code",
   "execution_count": null,
   "metadata": {},
   "outputs": [
    {
     "data": {
      "text/html": [
       "<table border=\"1\" class=\"dataframe\">\n",
       "  <thead>\n",
       "    <tr style=\"text-align: left;\">\n",
       "      <th>epoch</th>\n",
       "      <th>train_loss</th>\n",
       "      <th>valid_loss</th>\n",
       "      <th>sens</th>\n",
       "      <th>spec</th>\n",
       "      <th>dice</th>\n",
       "      <th>acc</th>\n",
       "      <th>time</th>\n",
       "    </tr>\n",
       "  </thead>\n",
       "  <tbody>\n",
       "    <tr>\n",
       "      <td>0</td>\n",
       "      <td>0.402499</td>\n",
       "      <td>0.385886</td>\n",
       "      <td>0.000000</td>\n",
       "      <td>0.927430</td>\n",
       "      <td>0.000000</td>\n",
       "      <td>1.000000</td>\n",
       "      <td>26:29</td>\n",
       "    </tr>\n",
       "    <tr>\n",
       "      <td>1</td>\n",
       "      <td>0.408496</td>\n",
       "      <td>0.385886</td>\n",
       "      <td>0.000000</td>\n",
       "      <td>0.927430</td>\n",
       "      <td>0.000000</td>\n",
       "      <td>1.000000</td>\n",
       "      <td>26:36</td>\n",
       "    </tr>\n",
       "  </tbody>\n",
       "</table>"
      ],
      "text/plain": [
       "<IPython.core.display.HTML object>"
      ]
     },
     "metadata": {},
     "output_type": "display_data"
    }
   ],
   "source": [
    "exp_name = 'FASTAI UNET'\n",
    "mlflow_CB = partial(MLFlowTracker,\n",
    "                    exp_name=exp_name,\n",
    "                    uri='file:/workspace/oct_ca_seg/runsaves/caps_fastai/mlruns/',\n",
    "                    params=config.config_dict,\n",
    "                    nb_path=\"/workspace/oct_ca_seg/oct/02_runs.ipynb\")\n",
    "with mlflow.start_run():\n",
    "    learner = unet_learner(data,\n",
    "                           models.resnet18,\n",
    "                           pretrained=False,\n",
    "                           y_range=[0,1],\n",
    "                           metrics=metrics,\n",
    "                           callback_fns=[mlflow_CB])\n",
    "    learner.fit_one_cycle(2, slice(config.LEARNER.lr), pct_start=0.8)\n",
    "    MLPY.log_model(learner.model, exp_name)"
   ]
  },
  {
   "cell_type": "code",
   "execution_count": null,
   "metadata": {},
   "outputs": [],
   "source": [
    "metrics = [sens, spec, dice, my_Dice_Loss, acc]"
   ]
  },
  {
   "cell_type": "code",
   "execution_count": null,
   "metadata": {},
   "outputs": [],
   "source": [
    "config_dict = loadConfigJSONToDict('init_config.json')\n",
    "config_dict['LEARNER']['bs'] = 2\n",
    "config_dict['LEARNER']['img_size'] = 256\n",
    "config_dict['LEARNER']['lr']= 0.0001\n",
    "config_dict['LEARNER']['num_workers'] = 1\n",
    "config_dict['MODEL']['dims1'] = 16\n",
    "config_dict['MODEL']['dims2'] = 32\n",
    "config_dict['MODEL']['dims3'] = 64\n",
    "config_dict['MODEL']['maps1'] = 8\n",
    "config_dict['MODEL']['maps2'] = 12\n",
    "config_dict['MODEL']['maps3'] = 16\n",
    "config_dict['MODEL']['f1dims'] = 8\n",
    "config_dict['MODEL']['f2dims'] = 16\n",
    "config_dict['MODEL']['f1maps'] = 2\n",
    "config_dict['MODEL']['f2maps'] = 2 #this should be number of classes. background, lumen => 2 etc.\n",
    "config = DeepConfig(config_dict)"
   ]
  },
  {
   "cell_type": "code",
   "execution_count": null,
   "metadata": {},
   "outputs": [],
   "source": [
    "exp_name = 'FASTAI UNET'\n",
    "mlflow_CB = partial(MLFlowTracker,\n",
    "                    exp_name=exp_name,\n",
    "                    uri='file:/workspace/oct_ca_seg/runsaves/caps_fastai/mlruns/',\n",
    "                    params=config.config_dict,\n",
    "                    nb_path=\"/workspace/oct_ca_seg/oct/02_runs.ipynb\")\n",
    "\n",
    "learner = unet_learner(data,\n",
    "                       models.resnet18,\n",
    "                       pretrained=False,\n",
    "                       #y_range=[0,1],\n",
    "                       metrics=metrics)"
   ]
  },
  {
   "cell_type": "code",
   "execution_count": null,
   "metadata": {},
   "outputs": [
    {
     "data": {
      "text/html": [
       "<table border=\"1\" class=\"dataframe\">\n",
       "  <thead>\n",
       "    <tr style=\"text-align: left;\">\n",
       "      <th>epoch</th>\n",
       "      <th>train_loss</th>\n",
       "      <th>valid_loss</th>\n",
       "      <th>sens</th>\n",
       "      <th>spec</th>\n",
       "      <th>dice</th>\n",
       "      <th>my_Dice_Loss</th>\n",
       "      <th>acc</th>\n",
       "      <th>time</th>\n",
       "    </tr>\n",
       "  </thead>\n",
       "  <tbody>\n",
       "    <tr>\n",
       "      <td>0</td>\n",
       "      <td>0.057014</td>\n",
       "      <td>0.037636</td>\n",
       "      <td>0.795673</td>\n",
       "      <td>0.986822</td>\n",
       "      <td>0.869474</td>\n",
       "      <td>0.118852</td>\n",
       "      <td>0.949567</td>\n",
       "      <td>00:40</td>\n",
       "    </tr>\n",
       "    <tr>\n",
       "      <td>1</td>\n",
       "      <td>0.023367</td>\n",
       "      <td>0.026114</td>\n",
       "      <td>0.869691</td>\n",
       "      <td>0.991094</td>\n",
       "      <td>0.922914</td>\n",
       "      <td>0.073495</td>\n",
       "      <td>0.941932</td>\n",
       "      <td>00:40</td>\n",
       "    </tr>\n",
       "  </tbody>\n",
       "</table>"
      ],
      "text/plain": [
       "<IPython.core.display.HTML object>"
      ]
     },
     "metadata": {},
     "output_type": "display_data"
    }
   ],
   "source": [
    "learner.fit_one_cycle(2, slice(config.LEARNER.lr), pct_start=0.8)"
   ]
  },
  {
   "cell_type": "code",
   "execution_count": null,
   "metadata": {},
   "outputs": [
    {
     "data": {
      "image/png": "[encoded data removed]",
      "text/plain": [
       "<Figure size 432x288 with 1 Axes>"
      ]
     },
     "metadata": {
      "needs_background": "light"
     },
     "output_type": "display_data"
    }
   ],
   "source": [
    "learner.recorder.plot_losses()"
   ]
  },
  {
   "cell_type": "code",
   "execution_count": null,
   "metadata": {},
   "outputs": [],
   "source": [
    "clean_tensor_lists = lambda l : [x.item() for x in l]"
   ]
  },
  {
   "cell_type": "code",
   "execution_count": null,
   "metadata": {},
   "outputs": [],
   "source": [
    "train_losses = clean_tensor_lists(learner.recorder.losses)"
   ]
  },
  {
   "cell_type": "code",
   "execution_count": null,
   "metadata": {},
   "outputs": [],
   "source": [
    "valid_losses = learner.recorder.val_losses"
   ]
  },
  {
   "cell_type": "code",
   "execution_count": null,
   "metadata": {},
   "outputs": [],
   "source": [
    "metrics = np.array([clean_tensor_lists(x) for x in learner.recorder.metrics])"
   ]
  },
  {
   "cell_type": "code",
   "execution_count": null,
   "metadata": {},
   "outputs": [
    {
     "data": {
      "text/plain": [
       "['sens', 'spec', 'dice', 'my_Dice_Loss', 'acc']"
      ]
     },
     "execution_count": null,
     "metadata": {},
     "output_type": "execute_result"
    }
   ],
   "source": [
    "learner.recorder.metrics_names"
   ]
  },
  {
   "cell_type": "code",
   "execution_count": null,
   "metadata": {},
   "outputs": [],
   "source": [
    "import pandas as pd"
   ]
  },
  {
   "cell_type": "code",
   "execution_count": null,
   "metadata": {},
   "outputs": [
    {
     "data": {
      "text/plain": [
       "'{\"sens\":{\"0\":0.7956734896,\"1\":0.8696907759},\"spec\":{\"0\":0.9868224263,\"1\":0.9910941124},\"dice\":{\"0\":0.8694735169,\"1\":0.9229140878},\"my_Dice_Loss\":{\"0\":0.1188519076,\"1\":0.0734954774},\"acc\":{\"0\":0.9495670199,\"1\":0.9419320822}}'"
      ]
     },
     "execution_count": null,
     "metadata": {},
     "output_type": "execute_result"
    }
   ],
   "source": [
    "pd.DataFrame(metrics, columns= learner.recorder.metrics_names).to_json()"
   ]
  },
  {
   "cell_type": "code",
   "execution_count": null,
   "metadata": {},
   "outputs": [],
   "source": []
  },
  {
   "cell_type": "code",
   "execution_count": null,
   "metadata": {},
   "outputs": [],
   "source": [
    "clean_tensor_lists = lambda l : [x.item() for x in l]\n",
    "\n",
    "def saveResultsJSON(json, name): #name = exp_name+'item name+ .json'\n",
    "    with open('/workspace/oct_ca_seg/runsaves/fastai_experiments/'+ name, 'w') as file:\n",
    "        file.write(json)\n",
    "        \n",
    "        \n",
    "def save_all_results(learner, exp_name): #only call this function after training\n",
    "    train_losses = pd.DataFrame(clean_tensor_lists(learner.recorder.losses)).to_json()\n",
    "    valid_losses = pd.DataFrame(learner.recorder.val_losses).to_json()\n",
    "    metrics = np.array([clean_tensor_lists(x) for x in learner.recorder.metrics])\n",
    "    metric_names = learner.recorder.metrics_names\n",
    "    metrics = pd.DataFrame(metrics, columns=metric_names).to_json()\n",
    "    \n",
    "    saveResultsJSON(train_losses, exp_name+'trainL.json')\n",
    "    saveResultsJSON(valid_losses, exp_name+'validL.json')\n",
    "    saveResultsJSON(metrics, exp_name+'metrics.json')"
   ]
  },
  {
   "cell_type": "code",
   "execution_count": null,
   "metadata": {},
   "outputs": [
    {
     "data": {
      "text/plain": [
       "'{\"sens\":{\"0\":0.7956734896,\"1\":0.8696907759},\"spec\":{\"0\":0.9868224263,\"1\":0.9910941124},\"dice\":{\"0\":0.8694735169,\"1\":0.9229140878},\"my_Dice_Loss\":{\"0\":0.1188519076,\"1\":0.0734954774},\"acc\":{\"0\":0.9495670199,\"1\":0.9419320822}}'"
      ]
     },
     "execution_count": null,
     "metadata": {},
     "output_type": "execute_result"
    }
   ],
   "source": [
    "save_all_results(learner, '0')[2]"
   ]
  },
  {
   "cell_type": "code",
   "execution_count": null,
   "metadata": {},
   "outputs": [
    {
     "ename": "AttributeError",
     "evalue": "'numpy.ndarray' object has no attribute '__name__'",
     "output_type": "error",
     "traceback": [
      "\u001b[0;31m---------------------------------------------------------------------------\u001b[0m",
      "\u001b[0;31mAttributeError\u001b[0m                            Traceback (most recent call last)",
      "\u001b[0;32m<ipython-input-89-30718c911843>\u001b[0m in \u001b[0;36m<module>\u001b[0;34m\u001b[0m\n\u001b[0;32m----> 1\u001b[0;31m \u001b[0mmetrics\u001b[0m\u001b[0;34m.\u001b[0m\u001b[0m__name__\u001b[0m\u001b[0;34m\u001b[0m\u001b[0;34m\u001b[0m\u001b[0m\n\u001b[0m",
      "\u001b[0;31mAttributeError\u001b[0m: 'numpy.ndarray' object has no attribute '__name__'"
     ]
    }
   ],
   "source": [
    "metrics"
   ]
  },
  {
   "cell_type": "code",
   "execution_count": null,
   "metadata": {},
   "outputs": [],
   "source": []
  }
 ],
 "metadata": {
  "kernelspec": {
   "display_name": "Python 3",
   "language": "python",
   "name": "python3"
  }
 },
 "nbformat": 4,
 "nbformat_minor": 4
}

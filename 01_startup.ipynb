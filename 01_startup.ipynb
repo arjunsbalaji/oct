{
 "cells": [
  {
   "cell_type": "code",
   "execution_count": null,
   "metadata": {},
   "outputs": [],
   "source": [
    "# default_exp startup"
   ]
  },
  {
   "cell_type": "markdown",
   "metadata": {},
   "source": [
    "## Dataset"
   ]
  },
  {
   "cell_type": "markdown",
   "metadata": {},
   "source": [
    "made using **abalajiaus/oct_ca:latest-fastai-skl-ski-fire-onnx-mlflow**"
   ]
  },
  {
   "cell_type": "code",
   "execution_count": null,
   "metadata": {},
   "outputs": [],
   "source": [
    "#exports\n",
    "from fastai.vision import *\n",
    "import mlflow\n",
    "import model\n",
    "import pandas as pd\n",
    "import mlflow.pytorch as MYPY"
   ]
  },
  {
   "cell_type": "code",
   "execution_count": null,
   "metadata": {},
   "outputs": [],
   "source": [
    "#exports\n",
    "def saveDictToConfigJSON(dictiontary, name):\n",
    "    with open('/workspace/oct_ca_seg/oct/configs/'+ name, 'w') as file:\n",
    "        json.dump(dictiontary, file)"
   ]
  },
  {
   "cell_type": "code",
   "execution_count": null,
   "metadata": {},
   "outputs": [],
   "source": [
    "#exports\n",
    "def loadConfigJSONToDict(fn):\n",
    "    with open('/workspace/oct_ca_seg/oct/configs/'+ fn, 'r') as file:\n",
    "        config = json.load(file)\n",
    "        return config"
   ]
  },
  {
   "cell_type": "code",
   "execution_count": null,
   "metadata": {},
   "outputs": [],
   "source": [
    "#exports\n",
    "class DeepConfig():\n",
    "    def __init__(self, config_dict):\n",
    "        \n",
    "        self.config_dict = config_dict\n",
    "        \n",
    "        for k,v in self.config_dict.items():\n",
    "            setattr(self, k, DeepConfig(v) if isinstance(v, dict) else v)"
   ]
  },
  {
   "cell_type": "code",
   "execution_count": null,
   "metadata": {},
   "outputs": [],
   "source": [
    "config_test = loadConfigJSONToDict('init_config.json')"
   ]
  },
  {
   "cell_type": "code",
   "execution_count": null,
   "metadata": {},
   "outputs": [],
   "source": [
    "config = DeepConfig(config_test)"
   ]
  },
  {
   "cell_type": "code",
   "execution_count": null,
   "metadata": {},
   "outputs": [],
   "source": [
    "config.DATSET.bs = 1\n",
    "config.MODEL.dims1 = 8\n",
    "config.MODEL.dims2 = 12\n",
    "config.MODEL.dims3 = 16\n",
    "config.MODEL.maps1 = 2\n",
    "config.MODEL.maps2 = 8\n",
    "config.MODEL.maps3 = 12\n",
    "config.MODEL.f1dims = 8\n",
    "config.MODEL.f2dims = 12\n",
    "config.MODEL.f1maps = 2\n",
    "config.MODEL.f2maps = 2 #this should be number of classes. background, lumen => 2 etc.\n",
    "config.LEARNER.lr = 0.01"
   ]
  },
  {
   "cell_type": "code",
   "execution_count": null,
   "metadata": {},
   "outputs": [],
   "source": [
    "cocodata_path = Path('/workspace/oct_ca_seg/COCOdata/')\n",
    "train_path = cocodata_path/'train/images'\n",
    "valid_path = cocodata_path/'valid/images'\n",
    "test_path = cocodata_path/'test/images'"
   ]
  },
  {
   "cell_type": "code",
   "execution_count": null,
   "metadata": {},
   "outputs": [],
   "source": [
    "anno_name = 'medium_set_annotations.json' #or 'annotations.json' for full set"
   ]
  },
  {
   "cell_type": "code",
   "execution_count": null,
   "metadata": {},
   "outputs": [],
   "source": [
    "train_anno = train_path/anno_name\n",
    "valid_anno = valid_path/anno_name\n",
    "test_anno = test_path/anno_name"
   ]
  },
  {
   "cell_type": "code",
   "execution_count": null,
   "metadata": {},
   "outputs": [],
   "source": [
    "trainData = ImageList.from_folder(train_path)\n",
    "validData = ImageList.from_folder(valid_path)\n",
    "testData = ImageList.from_folder(test_path)"
   ]
  },
  {
   "cell_type": "code",
   "execution_count": null,
   "metadata": {},
   "outputs": [],
   "source": [
    "#export\n",
    "binify = lambda x : x.point(lambda p: float(p>100.))#.point(lambda p: float(p))"
   ]
  },
  {
   "cell_type": "code",
   "execution_count": null,
   "metadata": {},
   "outputs": [],
   "source": [
    "fn = get_image_files(cocodata_path/'train/labels', recurse=True)[10]"
   ]
  },
  {
   "cell_type": "code",
   "execution_count": null,
   "metadata": {},
   "outputs": [],
   "source": [
    "labal = open_mask(fn, after_open=binify, convert_mode='L')"
   ]
  },
  {
   "cell_type": "code",
   "execution_count": null,
   "metadata": {},
   "outputs": [
    {
     "data": {
      "image/jpeg": "[encoded data removed]",
      "image/png": "[encoded data removed]",
      "text/plain": [
       "ImageSegment (1, 512, 512)"
      ]
     },
     "execution_count": null,
     "metadata": {},
     "output_type": "execute_result"
    }
   ],
   "source": [
    "labal"
   ]
  },
  {
   "cell_type": "code",
   "execution_count": null,
   "metadata": {},
   "outputs": [
    {
     "data": {
      "text/plain": [
       "tensor([[[0, 0, 0,  ..., 0, 0, 0],\n",
       "         [0, 0, 0,  ..., 0, 0, 0],\n",
       "         [0, 0, 0,  ..., 0, 0, 0],\n",
       "         ...,\n",
       "         [0, 0, 0,  ..., 0, 0, 0],\n",
       "         [0, 0, 0,  ..., 0, 0, 0],\n",
       "         [0, 0, 0,  ..., 0, 0, 0]]])"
      ]
     },
     "execution_count": null,
     "metadata": {},
     "output_type": "execute_result"
    }
   ],
   "source": [
    "labal.data"
   ]
  },
  {
   "cell_type": "code",
   "execution_count": null,
   "metadata": {},
   "outputs": [
    {
     "data": {
      "text/plain": [
       "(array([240817.,      0.,      0.,      0.,      0.,      0.,      0.,      0.,      0.,  21327.]),\n",
       " array([0. , 0.1, 0.2, 0.3, 0.4, 0.5, 0.6, 0.7, 0.8, 0.9, 1. ]),\n",
       " <a list of 10 Patch objects>)"
      ]
     },
     "execution_count": null,
     "metadata": {},
     "output_type": "execute_result"
    },
    {
     "data": {
      "image/png": "[encoded data removed]",
      "text/plain": [
       "<Figure size 432x288 with 1 Axes>"
      ]
     },
     "metadata": {
      "needs_background": "light"
     },
     "output_type": "display_data"
    }
   ],
   "source": [
    "plt.hist(labal.data.flatten())"
   ]
  },
  {
   "cell_type": "code",
   "execution_count": null,
   "metadata": {},
   "outputs": [],
   "source": [
    "#export\n",
    "class SegCustomLabelList(SegmentationLabelList):\n",
    "    def open(self, fn): return open_mask(fn, after_open=binify, convert_mode='L')"
   ]
  },
  {
   "cell_type": "code",
   "execution_count": null,
   "metadata": {},
   "outputs": [],
   "source": [
    "#export\n",
    "class SegCustomItemList(SegmentationItemList):\n",
    "    _label_cls = SegCustomLabelList"
   ]
  },
  {
   "cell_type": "code",
   "execution_count": null,
   "metadata": {},
   "outputs": [],
   "source": [
    "src = SegCustomItemList.from_folder(cocodata_path, recurse=True, extensions='.jpg').filter_by_func(lambda fname: Path(fname).parent.name == 'images', ).split_by_folder('train', 'valid')"
   ]
  },
  {
   "cell_type": "code",
   "execution_count": null,
   "metadata": {},
   "outputs": [],
   "source": [
    "codes = np.loadtxt(cocodata_path/'codes.txt', dtype=str)"
   ]
  },
  {
   "cell_type": "code",
   "execution_count": null,
   "metadata": {},
   "outputs": [],
   "source": [
    "fn_get_y = lambda image_name: Path(image_name).parent.parent/('labels/'+Path(image_name).name)"
   ]
  },
  {
   "cell_type": "code",
   "execution_count": null,
   "metadata": {},
   "outputs": [
    {
     "data": {
      "text/plain": [
       "LabelLists;\n",
       "\n",
       "Train: LabelList (8502 items)\n",
       "x: SegCustomItemList\n",
       "Image (3, 512, 512),Image (3, 512, 512),Image (3, 512, 512),Image (3, 512, 512),Image (3, 512, 512)\n",
       "y: SegCustomLabelList\n",
       "ImageSegment (1, 512, 512),ImageSegment (1, 512, 512),ImageSegment (1, 512, 512),ImageSegment (1, 512, 512),ImageSegment (1, 512, 512)\n",
       "Path: /workspace/oct_ca_seg/COCOdata;\n",
       "\n",
       "Valid: LabelList (2499 items)\n",
       "x: SegCustomItemList\n",
       "Image (3, 512, 512),Image (3, 512, 512),Image (3, 512, 512),Image (3, 512, 512),Image (3, 512, 512)\n",
       "y: SegCustomLabelList\n",
       "ImageSegment (1, 512, 512),ImageSegment (1, 512, 512),ImageSegment (1, 512, 512),ImageSegment (1, 512, 512),ImageSegment (1, 512, 512)\n",
       "Path: /workspace/oct_ca_seg/COCOdata;\n",
       "\n",
       "Test: None"
      ]
     },
     "execution_count": null,
     "metadata": {},
     "output_type": "execute_result"
    }
   ],
   "source": [
    "src.label_from_func(fn_get_y, classes=codes)"
   ]
  },
  {
   "cell_type": "code",
   "execution_count": null,
   "metadata": {},
   "outputs": [],
   "source": [
    "tfms=get_transforms()[0].append(TfmPixel(to_float))"
   ]
  },
  {
   "cell_type": "code",
   "execution_count": null,
   "metadata": {},
   "outputs": [
    {
     "data": {
      "text/plain": [
       "LabelLists;\n",
       "\n",
       "Train: LabelList (8502 items)\n",
       "x: SegCustomItemList\n",
       "Image (3, 256, 256),Image (3, 256, 256),Image (3, 256, 256),Image (3, 256, 256),Image (3, 256, 256)\n",
       "y: SegCustomLabelList\n",
       "ImageSegment (1, 256, 256),ImageSegment (1, 256, 256),ImageSegment (1, 256, 256),ImageSegment (1, 256, 256),ImageSegment (1, 256, 256)\n",
       "Path: /workspace/oct_ca_seg/COCOdata;\n",
       "\n",
       "Valid: LabelList (2499 items)\n",
       "x: SegCustomItemList\n",
       "Image (3, 256, 256),Image (3, 256, 256),Image (3, 256, 256),Image (3, 256, 256),Image (3, 256, 256)\n",
       "y: SegCustomLabelList\n",
       "ImageSegment (1, 256, 256),ImageSegment (1, 256, 256),ImageSegment (1, 256, 256),ImageSegment (1, 256, 256),ImageSegment (1, 256, 256)\n",
       "Path: /workspace/oct_ca_seg/COCOdata;\n",
       "\n",
       "Test: None"
      ]
     },
     "execution_count": null,
     "metadata": {},
     "output_type": "execute_result"
    }
   ],
   "source": [
    "src.transform(tfms, size=256, tfm_y=True)"
   ]
  },
  {
   "cell_type": "code",
   "execution_count": null,
   "metadata": {},
   "outputs": [
    {
     "data": {
      "text/plain": [
       "tensor([[[0, 0, 0,  ..., 0, 0, 0],\n",
       "         [0, 0, 0,  ..., 0, 0, 0],\n",
       "         [0, 0, 0,  ..., 0, 0, 0],\n",
       "         ...,\n",
       "         [0, 0, 0,  ..., 0, 0, 0],\n",
       "         [0, 0, 0,  ..., 0, 0, 0],\n",
       "         [0, 0, 0,  ..., 0, 0, 0]]])"
      ]
     },
     "execution_count": null,
     "metadata": {},
     "output_type": "execute_result"
    }
   ],
   "source": [
    "src.train.y[0].data"
   ]
  },
  {
   "cell_type": "code",
   "execution_count": null,
   "metadata": {},
   "outputs": [],
   "source": [
    "bs = config.DATSET.bs"
   ]
  },
  {
   "cell_type": "code",
   "execution_count": null,
   "metadata": {},
   "outputs": [],
   "source": [
    "data = src.databunch(bs=bs, val_bs=bs*2)"
   ]
  },
  {
   "cell_type": "code",
   "execution_count": null,
   "metadata": {},
   "outputs": [],
   "source": [
    "#data.transform(get_transforms()[0], tfm_y=True)"
   ]
  },
  {
   "cell_type": "code",
   "execution_count": null,
   "metadata": {},
   "outputs": [],
   "source": [
    "stats = [torch.tensor([0.2190, 0.1984, 0.1928]), torch.tensor([0.0645, 0.0473, 0.0434])]"
   ]
  },
  {
   "cell_type": "code",
   "execution_count": null,
   "metadata": {},
   "outputs": [
    {
     "data": {
      "text/plain": [
       "ImageDataBunch;\n",
       "\n",
       "Train: LabelList (8502 items)\n",
       "x: SegCustomItemList\n",
       "Image (3, 256, 256),Image (3, 256, 256),Image (3, 256, 256),Image (3, 256, 256),Image (3, 256, 256)\n",
       "y: SegCustomLabelList\n",
       "ImageSegment (1, 256, 256),ImageSegment (1, 256, 256),ImageSegment (1, 256, 256),ImageSegment (1, 256, 256),ImageSegment (1, 256, 256)\n",
       "Path: /workspace/oct_ca_seg/COCOdata;\n",
       "\n",
       "Valid: LabelList (2499 items)\n",
       "x: SegCustomItemList\n",
       "Image (3, 256, 256),Image (3, 256, 256),Image (3, 256, 256),Image (3, 256, 256),Image (3, 256, 256)\n",
       "y: SegCustomLabelList\n",
       "ImageSegment (1, 256, 256),ImageSegment (1, 256, 256),ImageSegment (1, 256, 256),ImageSegment (1, 256, 256),ImageSegment (1, 256, 256)\n",
       "Path: /workspace/oct_ca_seg/COCOdata;\n",
       "\n",
       "Test: None"
      ]
     },
     "execution_count": null,
     "metadata": {},
     "output_type": "execute_result"
    }
   ],
   "source": [
    "data.normalize(stats)"
   ]
  },
  {
   "cell_type": "code",
   "execution_count": null,
   "metadata": {},
   "outputs": [
    {
     "data": {
      "text/plain": [
       "tensor([[[0, 0, 0,  ..., 0, 0, 0],\n",
       "         [0, 0, 0,  ..., 0, 0, 0],\n",
       "         [0, 0, 0,  ..., 0, 0, 0],\n",
       "         ...,\n",
       "         [0, 0, 0,  ..., 0, 0, 0],\n",
       "         [0, 0, 0,  ..., 0, 0, 0],\n",
       "         [0, 0, 0,  ..., 0, 0, 0]]])"
      ]
     },
     "execution_count": null,
     "metadata": {},
     "output_type": "execute_result"
    }
   ],
   "source": [
    "src.train.y[0].data"
   ]
  },
  {
   "cell_type": "code",
   "execution_count": null,
   "metadata": {},
   "outputs": [
    {
     "data": {
      "text/plain": [
       "torch.Size([1, 512, 512])"
      ]
     },
     "execution_count": null,
     "metadata": {},
     "output_type": "execute_result"
    }
   ],
   "source": [
    "torch.argmax(src.train.x[0].data, 0, keepdim=True).size()"
   ]
  },
  {
   "cell_type": "code",
   "execution_count": null,
   "metadata": {},
   "outputs": [],
   "source": [
    "#data.transform(tfms[0], tfm_y=True, size=(256, 256))"
   ]
  },
  {
   "cell_type": "code",
   "execution_count": null,
   "metadata": {},
   "outputs": [
    {
     "data": {
      "image/png": "[encoded data removed]",
      "text/plain": [
       "<Figure size 288x288 with 1 Axes>"
      ]
     },
     "metadata": {
      "needs_background": "light"
     },
     "output_type": "display_data"
    }
   ],
   "source": [
    "data.show_batch(10, ds_type=DatasetType.Train)"
   ]
  },
  {
   "cell_type": "code",
   "execution_count": null,
   "metadata": {},
   "outputs": [
    {
     "data": {
      "text/plain": [
       "(tensor([[[[0.1529, 0.1529, 0.1529,  ..., 0.1804, 0.1530, 0.1294],\n",
       "           [0.1529, 0.1529, 0.1529,  ..., 0.1686, 0.1490, 0.1294],\n",
       "           [0.1529, 0.1529, 0.1529,  ..., 0.1490, 0.1412, 0.1373],\n",
       "           ...,\n",
       "           [0.1529, 0.1529, 0.1529,  ..., 0.1529, 0.1529, 0.1529],\n",
       "           [0.1529, 0.1529, 0.1529,  ..., 0.1529, 0.1529, 0.1529],\n",
       "           [0.1529, 0.1529, 0.1529,  ..., 0.1529, 0.1529, 0.1529]],\n",
       " \n",
       "          [[0.1529, 0.1529, 0.1529,  ..., 0.1373, 0.1529, 0.1647],\n",
       "           [0.1529, 0.1529, 0.1529,  ..., 0.1451, 0.1569, 0.1647],\n",
       "           [0.1529, 0.1529, 0.1529,  ..., 0.1608, 0.1607, 0.1608],\n",
       "           ...,\n",
       "           [0.1529, 0.1529, 0.1529,  ..., 0.1529, 0.1529, 0.1529],\n",
       "           [0.1529, 0.1529, 0.1529,  ..., 0.1529, 0.1529, 0.1529],\n",
       "           [0.1529, 0.1529, 0.1529,  ..., 0.1529, 0.1529, 0.1529]],\n",
       " \n",
       "          [[0.1529, 0.1529, 0.1529,  ..., 0.1608, 0.1608, 0.1608],\n",
       "           [0.1529, 0.1529, 0.1529,  ..., 0.1450, 0.1529, 0.1529],\n",
       "           [0.1529, 0.1529, 0.1529,  ..., 0.1333, 0.1451, 0.1530],\n",
       "           ...,\n",
       "           [0.1529, 0.1529, 0.1529,  ..., 0.1529, 0.1529, 0.1529],\n",
       "           [0.1529, 0.1529, 0.1529,  ..., 0.1529, 0.1529, 0.1529],\n",
       "           [0.1529, 0.1529, 0.1529,  ..., 0.1529, 0.1529, 0.1529]]]]),\n",
       " tensor([[[[0, 0, 0,  ..., 0, 0, 0],\n",
       "           [0, 0, 0,  ..., 0, 0, 0],\n",
       "           [0, 0, 0,  ..., 0, 0, 0],\n",
       "           ...,\n",
       "           [0, 0, 0,  ..., 0, 0, 0],\n",
       "           [0, 0, 0,  ..., 0, 0, 0],\n",
       "           [0, 0, 0,  ..., 0, 0, 0]]]]))"
      ]
     },
     "execution_count": null,
     "metadata": {},
     "output_type": "execute_result"
    }
   ],
   "source": [
    "data.one_batch()"
   ]
  },
  {
   "cell_type": "markdown",
   "metadata": {},
   "source": [
    "## Metrics"
   ]
  },
  {
   "cell_type": "code",
   "execution_count": null,
   "metadata": {},
   "outputs": [],
   "source": [
    "#export\n",
    "def sens(c, l):\n",
    "    n_targs=l.size()[0]\n",
    "    c = c.argmax(dim=1).view(n_targs,-1).float()\n",
    "    l = l.view(n_targs, -1).float()\n",
    "    inter = torch.sum(c*l, dim=(1))\n",
    "    union = torch.sum(c, dim=(1)) + torch.sum(l, dim=1) - inter\n",
    "    return (inter/union).mean()\n",
    "\n",
    "def spec(c, l):\n",
    "    n_targs=l.size()[0]\n",
    "    c = c.argmax(dim=1).view(n_targs,-1).float()\n",
    "    l = l.view(n_targs, -1).float()\n",
    "    c=1-c\n",
    "    l=1-l\n",
    "    inter = torch.sum(c*l, dim=(1))\n",
    "    union = torch.sum(c, dim=(1)) + torch.sum(l, dim=1) - inter\n",
    "    return (inter/union).mean()\n",
    "\n",
    "'''def acc(c, l):\n",
    "    n_targs=l.size()[0]\n",
    "    c = c.argmax(dim=1).view(n_targs,-1)\n",
    "    l = l.view(n_targs, -1).float()\n",
    "    return torch.sum(c,dim=(1)) / l.size()[-1]'''\n",
    "\n",
    "def acc(c, l):\n",
    "    n_targs=l.size()[0]\n",
    "    c = c.argmax(dim=1).view(n_targs,-1)\n",
    "    l = l.argmax(dim=1).view(n_targs,-1)\n",
    "    c = torch.sum(torch.eq(c,l).float(),dim=1)\n",
    "    return (c/l.size()[-1]).mean()\n",
    "\n",
    "\n",
    "class Dice_Loss(torch.nn.Module):\n",
    "    \"\"\"This is a custom Dice Similarity Coefficient loss function that we use \n",
    "    to the accuracy of the segmentation. it is defined as ;\n",
    "    DSC = 2 * (pred /intersect label) / (pred /union label) for the losss we use\n",
    "    1- DSC so gradient descent leads to better outputs.\"\"\"\n",
    "    def __init__(self, weight=None, size_average=False):\n",
    "        super(Dice_Loss, self).__init__()\n",
    "        \n",
    "    def forward(self, pred, label):\n",
    "        label = label.float()\n",
    "        smooth = 1.              #helps with backprop\n",
    "        intersection = torch.sum(pred * label)\n",
    "        union = torch.sum(pred) + torch.sum(label)\n",
    "        loss = (2. * intersection + smooth) / (union + smooth)\n",
    "        #return 1-loss because we want to minimise dissimilarity\n",
    "        return 1 - (loss)\n",
    "\n",
    "def my_Dice_Loss(pred, label):\n",
    "        pred = torch.argmax(pred, dim=0,keepdim=True)\n",
    "        label = label.float()\n",
    "        smooth = 1.              #helps with backprop\n",
    "        intersection = torch.sum(pred * label)\n",
    "        union = torch.sum(pred) + torch.sum(label)\n",
    "        loss = (2. * intersection + smooth) / (union + smooth)\n",
    "        #return 1-loss because we want to minimise dissimilarity\n",
    "        return 1 - (loss)"
   ]
  },
  {
   "cell_type": "markdown",
   "metadata": {},
   "source": [
    "## Model"
   ]
  },
  {
   "cell_type": "markdown",
   "metadata": {},
   "source": [
    "### Deep Cap"
   ]
  },
  {
   "cell_type": "markdown",
   "metadata": {},
   "source": [
    "the way configs were originally set up needs some help to work here. just made a little recursive config class"
   ]
  },
  {
   "cell_type": "code",
   "execution_count": null,
   "metadata": {},
   "outputs": [],
   "source": [
    "from model import CapsNet"
   ]
  },
  {
   "cell_type": "markdown",
   "metadata": {},
   "source": [
    "note these functions have the absolute path in the docker image to teh configs save dir"
   ]
  },
  {
   "cell_type": "code",
   "execution_count": null,
   "metadata": {},
   "outputs": [
    {
     "data": {
      "text/plain": [
       "True"
      ]
     },
     "execution_count": null,
     "metadata": {},
     "output_type": "execute_result"
    }
   ],
   "source": [
    "torch.cuda.is_available()"
   ]
  },
  {
   "cell_type": "code",
   "execution_count": null,
   "metadata": {},
   "outputs": [],
   "source": [
    "#saveDictToConfigJSON(config.config_dict, 'config_test_save.json')"
   ]
  },
  {
   "cell_type": "code",
   "execution_count": null,
   "metadata": {},
   "outputs": [],
   "source": [
    "capsnet = CapsNet(config.MODEL).cuda()"
   ]
  },
  {
   "cell_type": "code",
   "execution_count": null,
   "metadata": {},
   "outputs": [
    {
     "data": {
      "text/plain": [
       "torch.Size([1, 2, 256, 256])"
      ]
     },
     "execution_count": null,
     "metadata": {},
     "output_type": "execute_result"
    }
   ],
   "source": [
    "capsnet(data.one_batch()[0].cuda()).shape"
   ]
  },
  {
   "cell_type": "code",
   "execution_count": null,
   "metadata": {},
   "outputs": [],
   "source": [
    "metrics = [sens, spec, acc, my_Dice_Loss, dice]"
   ]
  },
  {
   "cell_type": "code",
   "execution_count": null,
   "metadata": {},
   "outputs": [],
   "source": [
    "learner = Learner(data, model=capsnet, metrics=metrics)"
   ]
  },
  {
   "cell_type": "code",
   "execution_count": null,
   "metadata": {},
   "outputs": [
    {
     "data": {
      "text/plain": [
       "0.01"
      ]
     },
     "execution_count": null,
     "metadata": {},
     "output_type": "execute_result"
    }
   ],
   "source": [
    "lr = config.LEARNER.lr; lr"
   ]
  },
  {
   "cell_type": "markdown",
   "metadata": {},
   "source": [
    "### Fastai UNET"
   ]
  },
  {
   "cell_type": "code",
   "execution_count": null,
   "metadata": {},
   "outputs": [],
   "source": [
    "fast_unet_learner = unet_learner(data, models.resnet18, pretrained=False, y_range=[0,1], metrics=dice)"
   ]
  },
  {
   "cell_type": "code",
   "execution_count": null,
   "metadata": {},
   "outputs": [],
   "source": [
    "fast_unet_learner.summary();"
   ]
  },
  {
   "cell_type": "markdown",
   "metadata": {},
   "source": [
    "Fastai UNET with a resnet 18 backbone has 31,113,008 parameters. Let's make a capsnet with around that many parameters, train them both for an epoch and see which is better."
   ]
  },
  {
   "cell_type": "markdown",
   "metadata": {},
   "source": [
    "## MLFLOW Callback "
   ]
  },
  {
   "cell_type": "code",
   "execution_count": null,
   "metadata": {},
   "outputs": [],
   "source": [
    "import mlflow"
   ]
  },
  {
   "cell_type": "code",
   "execution_count": null,
   "metadata": {},
   "outputs": [],
   "source": [
    "#export\n",
    "clean_tensor_lists = lambda l : [x.item() for x in l]\n",
    "\n",
    "def saveResultsJSON(json, run_dir, name): #name = exp_name+'item name+ .json'\n",
    "    with open(run_dir +'/'+ name, 'w') as file:\n",
    "        file.write(json)\n",
    "        \n",
    "        \n",
    "def save_all_results(learner, run_dir, exp_name): #only call this function after training\n",
    "    train_losses = pd.DataFrame(clean_tensor_lists(learner.recorder.losses)).to_json()\n",
    "    valid_losses = pd.DataFrame(learner.recorder.val_losses).to_json()\n",
    "    metrics = np.array([clean_tensor_lists(x) for x in learner.recorder.metrics])\n",
    "    metric_names = learner.recorder.metrics_names\n",
    "    metrics = pd.DataFrame(metrics, columns=metric_names).to_json()\n",
    "    \n",
    "    saveResultsJSON(train_losses, run_dir,'trainL.json')\n",
    "    saveResultsJSON(valid_losses, run_dir,'validL.json')\n",
    "    saveResultsJSON(metrics, run_dir,'metrics.json')\n"
   ]
  },
  {
   "cell_type": "code",
   "execution_count": null,
   "metadata": {},
   "outputs": [],
   "source": [
    "#export\n",
    "## Tracking Class\n",
    "from mlflow.tracking import MlflowClient\n",
    "from mlflow.entities.run import Run\n",
    "\n",
    "class MLFlowTracker(LearnerCallback):\n",
    "    \"A `TrackerCallback` that tracks the loss and metrics into MLFlow\"\n",
    "    def __init__(self, learn:Learner, exp_name: str, params: dict, nb_path: str, log_model: bool,uri: str = \"http://localhost:5000\"):\n",
    "        super().__init__(learn)\n",
    "        self.learn = learn\n",
    "        self.exp_name = exp_name\n",
    "        self.params = params\n",
    "        self.nb_path = nb_path\n",
    "        self.log_model = log_model\n",
    "        self.uri = uri\n",
    "        self.metrics_names = ['train_loss', 'valid_loss'] + [o.__name__ for o in learn.metrics]\n",
    "\n",
    "    def on_train_begin(self, **kwargs: Any) -> None:\n",
    "        \"Prepare MLflow experiment and log params\"\n",
    "        self.client = mlflow.tracking.MlflowClient(self.uri)\n",
    "        exp = self.client.get_experiment_by_name(self.exp_name)\n",
    "        if exp is None:\n",
    "            self.exp_id = self.client.create_experiment(self.exp_name)\n",
    "        else:\n",
    "            self.exp_id = exp.experiment_id\n",
    "        run = self.client.create_run(experiment_id=self.exp_id)\n",
    "        self.artifact_uri = run.info.artifact_uri\n",
    "        self.run = run.info.run_uuid\n",
    "        for k,v in self.params.items():\n",
    "            self.client.log_param(run_id=self.run, key=k, value=v)\n",
    "\n",
    "    def on_epoch_end(self, epoch, **kwargs:Any)->None:\n",
    "        \"Send loss and metrics values to MLFlow after each epoch\"\n",
    "        if kwargs['smooth_loss'] is None or kwargs[\"last_metrics\"] is None:\n",
    "            return\n",
    "        metrics = [kwargs['smooth_loss']] + kwargs[\"last_metrics\"]\n",
    "        for name, val in zip(self.metrics_names, metrics):\n",
    "            self.client.log_metric(self.run, name, np.float(val))\n",
    "\n",
    "    def on_train_end(self, **kwargs: Any) -> None:  \n",
    "        \"Store the notebook and stop run\"\n",
    "        #self.client.log_artifact(run_id=self.run, local_path=self.nb_path)\n",
    "        #if self.log_model: MYPY.log_model(self.learn.model, self.exp_name)\n",
    "        self.client.set_terminated(run_id=self.run)"
   ]
  },
  {
   "cell_type": "code",
   "execution_count": null,
   "metadata": {},
   "outputs": [
    {
     "name": "stdout",
     "output_type": "stream",
     "text": [
      "Executing: git config --local include.path ../.gitconfig\n",
      "Success: hooks are installed and repo's .gitconfig is now trusted\n"
     ]
    }
   ],
   "source": [
    "!nbdev_install_git_hooks"
   ]
  },
  {
   "cell_type": "code",
   "execution_count": null,
   "metadata": {},
   "outputs": [
    {
     "name": "stdout",
     "output_type": "stream",
     "text": [
      "Converted 00_core.ipynb.\n",
      "Converted 01_startup.ipynb.\n",
      "Converted 01a_COCOnutte.ipynb.\n",
      "Converted 02_caps.ipynb.\n",
      "Converted 02_unet.ipynb.\n",
      "Converted 999_runs.ipynb.\n",
      "Converted index.ipynb.\n"
     ]
    }
   ],
   "source": [
    "from nbdev.export import *\n",
    "notebook2script()"
   ]
  },
  {
   "cell_type": "code",
   "execution_count": null,
   "metadata": {},
   "outputs": [
    {
     "name": "stdout",
     "output_type": "stream",
     "text": [
      "Converted 00_core.ipynb.\n",
      "Converted 01_startup.ipynb.\n",
      "Converted 01a_COCOnutte.ipynb.\n",
      "Converted 02_runs.ipynb.\n",
      "Converted index.ipynb.\n"
     ]
    }
   ],
   "source": [
    "!nbdev_build_lib"
   ]
  },
  {
   "cell_type": "code",
   "execution_count": null,
   "metadata": {},
   "outputs": [],
   "source": []
  },
  {
   "cell_type": "code",
   "execution_count": null,
   "metadata": {},
   "outputs": [],
   "source": []
  }
 ],
 "metadata": {
  "kernelspec": {
   "display_name": "Python 3",
   "language": "python",
   "name": "python3"
  },
  "language_info": {
   "codemirror_mode": {
    "name": "ipython",
    "version": 3
   },
   "file_extension": ".py",
   "mimetype": "text/x-python",
   "name": "python",
   "nbconvert_exporter": "python",
   "pygments_lexer": "ipython3",
   "version": "3.7.7"
  }
 },
 "nbformat": 4,
 "nbformat_minor": 4
}
